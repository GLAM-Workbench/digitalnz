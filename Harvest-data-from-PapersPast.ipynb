{
 "cells": [
  {
   "cell_type": "markdown",
   "metadata": {},
   "source": [
    "# Harvest data from Papers Past"
   ]
  },
  {
   "cell_type": "code",
   "execution_count": null,
   "metadata": {},
   "outputs": [],
   "source": [
    "import logging\n",
    "import requests\n",
    "from requests.adapters import HTTPAdapter\n",
    "from requests.packages.urllib3.util.retry import Retry\n",
    "import pandas as pd\n",
    "from tqdm import tqdm_notebook\n",
    "import time\n",
    "import re\n",
    "from slugify import slugify\n",
    "from time import strftime\n",
    "\n",
    "logging.basicConfig(level=logging.ERROR)\n",
    "s = requests.Session()\n",
    "retries = Retry(total=5, backoff_factor=1, status_forcelist=[ 502, 503, 504 ])\n",
    "s.mount('https://', HTTPAdapter(max_retries=retries))"
   ]
  },
  {
   "cell_type": "markdown",
   "metadata": {},
   "source": [
    "## Add your API key"
   ]
  },
  {
   "cell_type": "code",
   "execution_count": null,
   "metadata": {},
   "outputs": [],
   "source": [
    "api_key = ''\n",
    "print('Your API key is: {}'.format(api_key))"
   ]
  },
  {
   "cell_type": "markdown",
   "metadata": {},
   "source": [
    "## Add your search query"
   ]
  },
  {
   "cell_type": "code",
   "execution_count": 38,
   "metadata": {},
   "outputs": [],
   "source": [
    "query = 'possum'"
   ]
  },
  {
   "cell_type": "markdown",
   "metadata": {},
   "source": [
    "## Set up some code"
   ]
  },
  {
   "cell_type": "code",
   "execution_count": null,
   "metadata": {},
   "outputs": [],
   "source": [
    "class Harvester():\n",
    "    \n",
    "    def __init__(self, params):\n",
    "        self.params = params\n",
    "        self.total = 0\n",
    "        self.more = True\n",
    "        self.articles = []\n",
    "\n",
    "    def process_results(self, data):\n",
    "        results = data['search']['results']\n",
    "        if results:\n",
    "            self.articles += self.process_articles(results)\n",
    "            return True\n",
    "        else:\n",
    "            return False\n",
    "        \n",
    "    def process_articles(self, results):\n",
    "        articles = []\n",
    "        for result in results:\n",
    "            title = re.sub(r'(\\([^)]*\\))[^(]*$', '', result['title']).strip()\n",
    "            articles.append({\n",
    "                'id': result['id'],\n",
    "                'title': title,\n",
    "                'newspaper': result['publisher'][0],\n",
    "                'date': result['date'],\n",
    "                'text': result['fulltext'],\n",
    "                'paperspast_url': result['landing_url'],\n",
    "                'source_url': result['source_url']\n",
    "            })\n",
    "        return articles\n",
    "\n",
    "    def get_data(self):\n",
    "        response = s.get('http://api.digitalnz.org/v3/records.json', params=self.params)\n",
    "        return response.json()\n",
    "    \n",
    "    def harvest(self):\n",
    "        data = self.get_data()\n",
    "        total = data['search']['result_count']\n",
    "        self.more = self.process_results(data)\n",
    "        with tqdm_notebook(total=total) as pbar:\n",
    "            pbar.update(100)\n",
    "            while self.more:\n",
    "                self.params['page'] += 1\n",
    "                data = self.get_data()\n",
    "                self.more = self.process_results(data)\n",
    "                pbar.update(100)\n",
    "                time.sleep(0.2)\n",
    "                \n",
    "    def save_as_csv(self, filename=None):\n",
    "        if not filename:\n",
    "            filename = '{}-{}.csv'.format(slugify(self.params['text']), strftime(\"%Y%m%d\"))\n",
    "        df = pd.DataFrame(self.articles)\n",
    "        df.to_csv(filename, index=False)\n",
    "        return filename"
   ]
  },
  {
   "cell_type": "markdown",
   "metadata": {},
   "source": [
    "## Start your harvest"
   ]
  },
  {
   "cell_type": "code",
   "execution_count": null,
   "metadata": {},
   "outputs": [],
   "source": [
    "params = {\n",
    "    'and[display_collection][]': 'Papers Past',\n",
    "    'text': query,\n",
    "    'per_page': '100',\n",
    "    'page': 1,\n",
    "    'api_key': api_key\n",
    "}\n",
    "harvester = Harvester(params)\n",
    "harvester.harvest()"
   ]
  },
  {
   "cell_type": "markdown",
   "metadata": {},
   "source": [
    "## Save your harvest"
   ]
  },
  {
   "cell_type": "code",
   "execution_count": null,
   "metadata": {},
   "outputs": [],
   "source": [
    "harvester.save_as_csv()"
   ]
  }
 ],
 "metadata": {
  "kernelspec": {
   "display_name": "Python 3",
   "language": "python",
   "name": "python3"
  },
  "language_info": {
   "codemirror_mode": {
    "name": "ipython",
    "version": 3
   },
   "file_extension": ".py",
   "mimetype": "text/x-python",
   "name": "python",
   "nbconvert_exporter": "python",
   "pygments_lexer": "ipython3",
   "version": "3.6.5"
  }
 },
 "nbformat": 4,
 "nbformat_minor": 2
}
