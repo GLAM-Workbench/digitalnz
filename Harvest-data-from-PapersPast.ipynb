{
 "cells": [
  {
   "cell_type": "markdown",
   "metadata": {},
   "source": [
    "# Harvest data from Papers Past\n",
    "\n",
    "This notebooks lets you harvest large amounts of data for Papers Past (via DigitalNZ) for further analysis. It saves the results as a CSV file that you can open in any spreadsheet program. It currently includes the OCRd text of all the newspaper articles, but I might make this optional in the future — thoughts?\n",
    "\n",
    "You can edit this notebook to harvest other collections in DigitalNZ — see the notes below for pointers. However, this is currently only saving a small subset of the available metadata, so you'd probably want to adjust the fields as well. Add an [issue on GitHub](https://github.com/GLAM-Workbench/digitalnz/issues) if you need help creating a custom harvester.\n",
    "\n",
    "There's only two things you **have** to change — you need to enter your API key, and a search query. There are additional options for limiting your search results."
   ]
  },
  {
   "cell_type": "markdown",
   "metadata": {},
   "source": [
    "<div class=\"alert alert-block alert-warning\">\n",
    "<p>If you haven't used one of these notebooks before, they're basically web pages in which you can write, edit, and run live code. They're meant to encourage experimentation, so don't feel nervous. Just try running a few cells and see what happens!.</p>\n",
    "\n",
    "<p>\n",
    "    Some tips:\n",
    "    <ul>\n",
    "        <li>Code cells have boxes around them.</li>\n",
    "        <li>To run a code cell click on the cell and then hit <b>Shift+Enter</b>. The <b>Shift+Enter</b> combo will also move you to the next cell, so it's a quick way to work through the notebook.</li>\n",
    "        <li>While a cell is running a <b>*</b> appears in the square brackets next to the cell. Once the cell has finished running the asterix will be replaced with a number.</li>\n",
    "        <li>In most cases you'll want to start from the top of notebook and work your way down running each cell in turn. Later cells might depend on the results of earlier ones.</li>\n",
    "        <li>To edit a code cell, just click on it and type stuff. Remember to run the cell once you've finished editing.</li>\n",
    "    </ul>\n",
    "</p>\n",
    "</div>"
   ]
  },
  {
   "cell_type": "markdown",
   "metadata": {},
   "source": [
    "## Add your API key\n",
    "\n",
    "Go get yourself a [DigitalNZ API key](https://digitalnz.org/developers/getting-started), then paste it between the quotes below. You need a key to make API requests, but they're free and quick to obtain."
   ]
  },
  {
   "cell_type": "code",
   "execution_count": null,
   "metadata": {},
   "outputs": [],
   "source": [
    "# Past your API key between the quotes\n",
    "# You might need to trim off any spaces at the beginning and end\n",
    "api_key = 'YOUR API KEY'\n",
    "print('Your API key is: {}'.format(api_key))"
   ]
  },
  {
   "cell_type": "markdown",
   "metadata": {},
   "source": [
    "## Setting things up\n",
    "\n",
    "Just run these cells to set up some things that we'll need later on."
   ]
  },
  {
   "cell_type": "code",
   "execution_count": null,
   "metadata": {},
   "outputs": [],
   "source": [
    "# This cell just sets up some stuff that we'll need later\n",
    "\n",
    "import logging\n",
    "import requests\n",
    "from requests.adapters import HTTPAdapter\n",
    "from requests.packages.urllib3.util.retry import Retry\n",
    "import pandas as pd\n",
    "from tqdm.auto import tqdm\n",
    "import time\n",
    "import re\n",
    "from slugify import slugify\n",
    "from time import strftime\n",
    "from IPython.display import display, FileLink\n",
    "\n",
    "logging.basicConfig(level=logging.ERROR)\n",
    "s = requests.Session()\n",
    "retries = Retry(total=5, backoff_factor=1, status_forcelist=[ 502, 503, 504 ])\n",
    "s.mount('https://', HTTPAdapter(max_retries=retries))"
   ]
  },
  {
   "cell_type": "code",
   "execution_count": null,
   "metadata": {},
   "outputs": [],
   "source": [
    "# This cell sets the basic parameters that we'll send to the API\n",
    "# You'll add your search query to this below\n",
    "# You could change the 'display_collection' value to something other than\n",
    "# Papers Past to harvest other parts of DigitalNZ\n",
    "\n",
    "params = {\n",
    "    'and[display_collection][]': 'Papers Past',\n",
    "    'per_page': '100',\n",
    "    'api_key': api_key\n",
    "}"
   ]
  },
  {
   "cell_type": "markdown",
   "metadata": {},
   "source": [
    "## Add your search query\n",
    "\n",
    "This is where you specify your search. Just put in anything you might enter in the DigitalNZ search box.\n"
   ]
  },
  {
   "cell_type": "code",
   "execution_count": null,
   "metadata": {},
   "outputs": [],
   "source": [
    "params['text'] = 'possum'\n",
    "#params['text'] = 'possum AND opossum'\n",
    "#params['text'] = '\"possum skins\"'"
   ]
  },
  {
   "cell_type": "markdown",
   "metadata": {},
   "source": [
    "You can also add limit your results to a particular newspaper. Just remove the '#' from the start of the line to add this parameter to your query."
   ]
  },
  {
   "cell_type": "code",
   "execution_count": null,
   "metadata": {},
   "outputs": [],
   "source": [
    "#params['and[collection][]'] = 'Evening Post'"
   ]
  },
  {
   "cell_type": "markdown",
   "metadata": {},
   "source": [
    "You can also limit your query by date, but it's a bit fiddly. \n",
    "\n",
    "Filtering by a single century, decade or year is simple. Just add the appropriate parameter as in the examples below. Remove the '#', edit the value, and run the cell."
   ]
  },
  {
   "cell_type": "code",
   "execution_count": null,
   "metadata": {},
   "outputs": [],
   "source": [
    "#params['and[century][]'] = '1800'\n",
    "#params['and[decade][]'] = '1850'\n",
    "#params['and[year][]'] = '1853'"
   ]
  },
  {
   "cell_type": "markdown",
   "metadata": {},
   "source": [
    "There's no direct way (I think) to search a range of years, but we can get around this by issuing a request for each year separately and then combining the results. If you want to do this, change the values below."
   ]
  },
  {
   "cell_type": "code",
   "execution_count": null,
   "metadata": {},
   "outputs": [],
   "source": [
    "# This sets the default values\n",
    "# Change from None to a year, eg 1854 to set a specific range.\n",
    "# You need both a start and an end year\n",
    "\n",
    "start_year = None\n",
    "end_year = None"
   ]
  },
  {
   "cell_type": "markdown",
   "metadata": {},
   "source": [
    "## Set up some code\n",
    "\n",
    "This is where all the serious harvesting work gets done. You shouldn't need to change anything unless you want to harvest something other than Papers Past. Just run the cell."
   ]
  },
  {
   "cell_type": "code",
   "execution_count": null,
   "metadata": {},
   "outputs": [],
   "source": [
    "class Harvester():\n",
    "    \n",
    "    def __init__(self, params, start_year=None, end_year=None):\n",
    "        self.params = params\n",
    "        self.start_year = start_year\n",
    "        self.end_year = end_year\n",
    "        self.current_year = None\n",
    "        self.total = 0\n",
    "        self.articles = []\n",
    "\n",
    "    def process_results(self, data):\n",
    "        results = data['search']['results']\n",
    "        if results:\n",
    "            self.articles += self.process_articles(results)\n",
    "        return len(results)\n",
    "        \n",
    "    def process_articles(self, results):\n",
    "        articles = []\n",
    "        for result in results:\n",
    "            # If you're harvesting something other than Papers Past, you'd probably \n",
    "            # want to change the way results are processed.\n",
    "            title = re.sub(r'(\\([^)]*\\))[^(]*$', '', result['title']).strip()\n",
    "            articles.append({\n",
    "                'id': result['id'],\n",
    "                'title': title,\n",
    "                'newspaper': result['publisher'][0],\n",
    "                'date': result['date'][0],\n",
    "                'text': result['fulltext'],\n",
    "                'paperspast_url': result['landing_url'],\n",
    "                'source_url': result['source_url']\n",
    "            })\n",
    "        return articles\n",
    "\n",
    "    def get_data(self):\n",
    "        response = s.get('http://api.digitalnz.org/v3/records.json', params=self.params)\n",
    "        return response.json()\n",
    "    \n",
    "    def harvest(self):\n",
    "        '''\n",
    "        Do the harvesting!\n",
    "        '''\n",
    "        data = self.get_data()\n",
    "        total = data['search']['result_count']\n",
    "        result_count = self.process_results(data)\n",
    "        with tqdm(total=total, desc=str(self.current_year)) as pbar:\n",
    "            pbar.update(result_count)\n",
    "            while result_count > 100:\n",
    "                self.params['page'] += 1\n",
    "                data = self.get_data()\n",
    "                result_count = self.process_results(data)\n",
    "                pbar.update(result_count)\n",
    "                time.sleep(0.2)    \n",
    "\n",
    "    def start_harvest(self):\n",
    "        '''\n",
    "        Initiates a harvest.\n",
    "        If you've specified start and end years it'll loop over them getting results for each.\n",
    "        '''\n",
    "        if self.start_year and self.end_year:\n",
    "            for year in tqdm(range(self.start_year, self.end_year+1), desc='Years'):\n",
    "                self.params['page'] = 1\n",
    "                self.current_year = year\n",
    "                self.params['and[year][]'] = year\n",
    "                self.harvest()\n",
    "        else:\n",
    "            self.harvest()\n",
    "               \n",
    "    def save_as_csv(self, filename=None):\n",
    "        '''\n",
    "        Save the results as a CSV file.\n",
    "        You can supply a filename, but if you don't it'll construct one from the query and current date.\n",
    "        Displays a download link when finished.\n",
    "        '''\n",
    "        if not filename:\n",
    "            if self.start_year and self.end_year:\n",
    "                year_range = '{}-{}-'.format(self.start_year, self.end_year)\n",
    "            else:\n",
    "                year_range = ''\n",
    "            filename = '{}-{}{}.csv'.format(slugify(self.params['text']), year_range, strftime(\"%Y%m%d\"))\n",
    "        df = pd.DataFrame(self.articles)\n",
    "        df.to_csv(filename, index=False)\n",
    "        display(FileLink(filename))"
   ]
  },
  {
   "cell_type": "markdown",
   "metadata": {},
   "source": [
    "## Start your harvest"
   ]
  },
  {
   "cell_type": "code",
   "execution_count": null,
   "metadata": {},
   "outputs": [],
   "source": [
    "harvester = Harvester(params, start_year=start_year, end_year=end_year)\n",
    "harvester.start_harvest()"
   ]
  },
  {
   "cell_type": "markdown",
   "metadata": {},
   "source": [
    "## Save your harvest\n",
    "\n",
    "This cell generates a CSV file and creates a link that you can use to download it."
   ]
  },
  {
   "cell_type": "code",
   "execution_count": 18,
   "metadata": {},
   "outputs": [
    {
     "data": {
      "text/html": [
       "<a href='possum-20200722.csv' target='_blank'>possum-20200722.csv</a><br>"
      ],
      "text/plain": [
       "/Volumes/Workspace/mycode/glam-workbench/digitalnz/notebooks/possum-20200722.csv"
      ]
     },
     "metadata": {},
     "output_type": "display_data"
    }
   ],
   "source": [
    "harvester.save_as_csv()"
   ]
  }
 ],
 "metadata": {
  "kernelspec": {
   "display_name": "Python 3",
   "language": "python",
   "name": "python3"
  },
  "language_info": {
   "codemirror_mode": {
    "name": "ipython",
    "version": 3
   },
   "file_extension": ".py",
   "mimetype": "text/x-python",
   "name": "python",
   "nbconvert_exporter": "python",
   "pygments_lexer": "ipython3",
   "version": "3.7.7"
  }
 },
 "nbformat": 4,
 "nbformat_minor": 4
}
