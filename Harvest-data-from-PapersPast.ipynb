{
 "cells": [
  {
   "cell_type": "markdown",
   "metadata": {},
   "source": [
    "# Harvest data from Papers Past\n",
    "\n",
    "This notebooks lets you harvest large amounts of data for Papers Past (via DigitalNZ) for further analysis. It saves the results as a CSV file that you can open in any spreadsheet program. It currently includes the OCRd text of all the newspaper articles, but I might make this optional in the future — thoughts?\n",
    "\n",
    "You can edit this notebook to harvest other collections in DigitalNZ — see the notes below for pointers. However, this is currently only saving a small subset of the available metadata, so you'd probably want to adjust the fields as well. Add an [issue on GitHub](https://github.com/GLAM-Workbench/digitalnz/issues) if you need help creating a custom harvester.\n",
    "\n",
    "There's only two things you **have** to change — you need to enter your API key, and a search query. There are additional options for limiting your search results."
   ]
  },
  {
   "cell_type": "markdown",
   "metadata": {},
   "source": [
    "<div class=\"alert alert-block alert-warning\">\n",
    "<p>If you haven't used one of these notebooks before, they're basically web pages in which you can write, edit, and run live code. They're meant to encourage experimentation, so don't feel nervous. Just try running a few cells and see what happens!.</p>\n",
    "\n",
    "<p>\n",
    "    Some tips:\n",
    "    <ul>\n",
    "        <li>Code cells have boxes around them. When you hover over them a <i class=\"fa-step-forward fa\"></i> icon appears.</li>\n",
    "        <li>To run a code cell either click the <i class=\"fa-step-forward fa\"></i> icon, or click on the cell and then hit <b>Shift+Enter</b>. The <b>Shift+Enter</b> combo will also move you to the next cell, so it's a quick way to work through the notebook.</li>\n",
    "        <li>While a cell is running a <b>*</b> appears in the square brackets next to the cell. Once the cell has finished running the asterix will be replaced with a number.</li>\n",
    "        <li>In most cases you'll want to start from the top of notebook and work your way down running each cell in turn. Later cells might depend on the results of earlier ones.</li>\n",
    "        <li>To edit a code cell, just click on it and type stuff. Remember to run the cell once you've finished editing.</li>\n",
    "    </ul>\n",
    "</p>\n",
    "</div>"
   ]
  },
  {
   "cell_type": "markdown",
   "metadata": {},
   "source": [
    "## Add your API key\n",
    "\n",
    "Go get yourself a [DigitalNZ API key](https://digitalnz.org/developers/getting-started), then paste it between the quotes below. You need a key to make API requests, but they're free and quick to obtain."
   ]
  },
  {
   "cell_type": "code",
   "execution_count": 48,
   "metadata": {},
   "outputs": [
    {
     "name": "stdout",
     "output_type": "stream",
     "text": [
      "Your API key is: \n"
     ]
    }
   ],
   "source": [
    "# Past your API key between the quotes\n",
    "# You might need to trim off any spaces at the beginning and end\n",
    "api_key = ''\n",
    "print('Your API key is: {}'.format(api_key))"
   ]
  },
  {
   "cell_type": "markdown",
   "metadata": {},
   "source": [
    "## Setting things up\n",
    "\n",
    "Just run these cells to set up some things that we'll need later on."
   ]
  },
  {
   "cell_type": "code",
   "execution_count": 4,
   "metadata": {},
   "outputs": [],
   "source": [
    "# This cell just sets up some stuff that we'll need later\n",
    "\n",
    "import logging\n",
    "import requests\n",
    "from requests.adapters import HTTPAdapter\n",
    "from requests.packages.urllib3.util.retry import Retry\n",
    "import pandas as pd\n",
    "from tqdm import tqdm_notebook\n",
    "import time\n",
    "import re\n",
    "from slugify import slugify\n",
    "from time import strftime\n",
    "from IPython.display import display, FileLink\n",
    "\n",
    "logging.basicConfig(level=logging.ERROR)\n",
    "s = requests.Session()\n",
    "retries = Retry(total=5, backoff_factor=1, status_forcelist=[ 502, 503, 504 ])\n",
    "s.mount('https://', HTTPAdapter(max_retries=retries))"
   ]
  },
  {
   "cell_type": "code",
   "execution_count": 5,
   "metadata": {},
   "outputs": [],
   "source": [
    "# This cell sets the basic parameters that we'll send to the API\n",
    "# You'll add your search query to this below\n",
    "# You could change the 'display_collection' value to something other than\n",
    "# Papers Past to harvest other parts of DigitalNZ\n",
    "\n",
    "params = {\n",
    "    'and[display_collection][]': 'Papers Past',\n",
    "    'per_page': '100',\n",
    "    'api_key': api_key\n",
    "}"
   ]
  },
  {
   "cell_type": "markdown",
   "metadata": {},
   "source": [
    "## Add your search query\n",
    "\n",
    "This is where you specify your search. Just put in anything you might enter in the DigitalNZ search box.\n"
   ]
  },
  {
   "cell_type": "code",
   "execution_count": 6,
   "metadata": {},
   "outputs": [],
   "source": [
    "params['text'] = 'possum'\n",
    "#params['text'] = 'possum AND opossum'\n",
    "#params['text'] = '\"possum skins\"'"
   ]
  },
  {
   "cell_type": "markdown",
   "metadata": {},
   "source": [
    "You can also add limit your results to a particular newspaper. Just remove the '#' from the start of the line to add this parameter to your query."
   ]
  },
  {
   "cell_type": "code",
   "execution_count": 7,
   "metadata": {},
   "outputs": [],
   "source": [
    "#params['and[collection][]'] = 'Evening Post'"
   ]
  },
  {
   "cell_type": "markdown",
   "metadata": {},
   "source": [
    "You can also limit your query by date, but it's a bit fiddly. \n",
    "\n",
    "Filtering by a single century, decade or year is simple. Just add the appropriate parameter as in the examples below. Remove the '#', edit the value, and run the cell."
   ]
  },
  {
   "cell_type": "code",
   "execution_count": 8,
   "metadata": {},
   "outputs": [],
   "source": [
    "#params['and[century][]'] = '1800'\n",
    "#params['and[decade][]'] = '1850'\n",
    "#params['and[year][]'] = '1853'"
   ]
  },
  {
   "cell_type": "markdown",
   "metadata": {},
   "source": [
    "There's no direct way (I think) to search a range of years, but we can get around this by issuing a request for each year separately and then combining the results. If you want to do this, change the values below."
   ]
  },
  {
   "cell_type": "code",
   "execution_count": 9,
   "metadata": {},
   "outputs": [],
   "source": [
    "# This sets the default values\n",
    "# Change from None to a year, eg 1854 to set a specific range.\n",
    "# You need both a start and an end year\n",
    "\n",
    "start_year = None\n",
    "end_year = None"
   ]
  },
  {
   "cell_type": "markdown",
   "metadata": {},
   "source": [
    "## Set up some code\n",
    "\n",
    "This is where all the serious harvesting work gets done. You shouldn't need to change anything unless you want to harvest something other than Papers Past. Just run the cell."
   ]
  },
  {
   "cell_type": "code",
   "execution_count": 45,
   "metadata": {},
   "outputs": [],
   "source": [
    "class Harvester():\n",
    "    \n",
    "    def __init__(self, params, start_year=None, end_year=None):\n",
    "        self.params = params\n",
    "        self.start_year = start_year\n",
    "        self.end_year = end_year\n",
    "        self.current_year = None\n",
    "        self.total = 0\n",
    "        self.articles = []\n",
    "\n",
    "    def process_results(self, data):\n",
    "        results = data['search']['results']\n",
    "        if results:\n",
    "            self.articles += self.process_articles(results)\n",
    "        return len(results)\n",
    "        \n",
    "    def process_articles(self, results):\n",
    "        articles = []\n",
    "        for result in results:\n",
    "            # If you're harvesting something other than Papers Past, you'd probably \n",
    "            # want to change the way results are processed.\n",
    "            title = re.sub(r'(\\([^)]*\\))[^(]*$', '', result['title']).strip()\n",
    "            articles.append({\n",
    "                'id': result['id'],\n",
    "                'title': title,\n",
    "                'newspaper': result['publisher'][0],\n",
    "                'date': result['date'][0],\n",
    "                'text': result['fulltext'],\n",
    "                'paperspast_url': result['landing_url'],\n",
    "                'source_url': result['source_url']\n",
    "            })\n",
    "        return articles\n",
    "\n",
    "    def get_data(self):\n",
    "        response = s.get('http://api.digitalnz.org/v3/records.json', params=self.params)\n",
    "        return response.json()\n",
    "    \n",
    "    def harvest(self):\n",
    "        '''\n",
    "        Do the harvesting!\n",
    "        '''\n",
    "        data = self.get_data()\n",
    "        total = data['search']['result_count']\n",
    "        result_count = self.process_results(data)\n",
    "        with tqdm_notebook(total=total, desc=str(self.current_year)) as pbar:\n",
    "            pbar.update(result_count)\n",
    "            while result_count > 100:\n",
    "                self.params['page'] += 1\n",
    "                data = self.get_data()\n",
    "                result_count = self.process_results(data)\n",
    "                pbar.update(result_count)\n",
    "                time.sleep(0.2)    \n",
    "\n",
    "    def start_harvest(self):\n",
    "        '''\n",
    "        Initiates a harvest.\n",
    "        If you've specified start and end years it'll loop over them getting results for each.\n",
    "        '''\n",
    "        if self.start_year and self.end_year:\n",
    "            for year in tqdm_notebook(range(self.start_year, self.end_year+1), desc='Years'):\n",
    "                self.params['page'] = 1\n",
    "                self.current_year = year\n",
    "                self.params['and[year][]'] = year\n",
    "                self.harvest()\n",
    "        else:\n",
    "            self.harvest()\n",
    "               \n",
    "    def save_as_csv(self, filename=None):\n",
    "        '''\n",
    "        Save the results as a CSV file.\n",
    "        You can supply a filename, but if you don't it'll construct one from the query and current date.\n",
    "        Displays a download link when finished.\n",
    "        '''\n",
    "        if not filename:\n",
    "            if self.start_year and self.end_year:\n",
    "                year_range = '{}-{}-'.format(self.start_year, self.end_year)\n",
    "            else:\n",
    "                year_range = ''\n",
    "            filename = '{}-{}{}.csv'.format(slugify(self.params['text']), year_range, strftime(\"%Y%m%d\"))\n",
    "        df = pd.DataFrame(self.articles)\n",
    "        df.to_csv(filename, index=False)\n",
    "        display(FileLink(filename))"
   ]
  },
  {
   "cell_type": "markdown",
   "metadata": {},
   "source": [
    "## Start your harvest"
   ]
  },
  {
   "cell_type": "code",
   "execution_count": 46,
   "metadata": {
    "scrolled": false
   },
   "outputs": [
    {
     "data": {
      "application/vnd.jupyter.widget-view+json": {
       "model_id": "c5cfc46811494c69927b51c4aae21834",
       "version_major": 2,
       "version_minor": 0
      },
      "text/plain": [
       "HBox(children=(IntProgress(value=0, description='Years', max=11, style=ProgressStyle(description_width='initia…"
      ]
     },
     "metadata": {},
     "output_type": "display_data"
    },
    {
     "data": {
      "application/vnd.jupyter.widget-view+json": {
       "model_id": "174933dead8544de883bc3386c5994a8",
       "version_major": 2,
       "version_minor": 0
      },
      "text/plain": [
       "HBox(children=(IntProgress(value=0, description='1870', max=4, style=ProgressStyle(description_width='initial'…"
      ]
     },
     "metadata": {},
     "output_type": "display_data"
    },
    {
     "data": {
      "application/vnd.jupyter.widget-view+json": {
       "model_id": "d3da4209fd0549b9873b5bf5d1072dd4",
       "version_major": 2,
       "version_minor": 0
      },
      "text/plain": [
       "HBox(children=(IntProgress(value=0, description='1871', max=19, style=ProgressStyle(description_width='initial…"
      ]
     },
     "metadata": {},
     "output_type": "display_data"
    },
    {
     "data": {
      "application/vnd.jupyter.widget-view+json": {
       "model_id": "225ded93569a455091ed86b889c237cd",
       "version_major": 2,
       "version_minor": 0
      },
      "text/plain": [
       "HBox(children=(IntProgress(value=0, description='1872', max=20, style=ProgressStyle(description_width='initial…"
      ]
     },
     "metadata": {},
     "output_type": "display_data"
    },
    {
     "data": {
      "application/vnd.jupyter.widget-view+json": {
       "model_id": "6a93e0c1c6d148a790142754a8b93816",
       "version_major": 2,
       "version_minor": 0
      },
      "text/plain": [
       "HBox(children=(IntProgress(value=0, description='1873', max=23, style=ProgressStyle(description_width='initial…"
      ]
     },
     "metadata": {},
     "output_type": "display_data"
    },
    {
     "data": {
      "application/vnd.jupyter.widget-view+json": {
       "model_id": "37449f76a33549e6b230fdaac8ac6487",
       "version_major": 2,
       "version_minor": 0
      },
      "text/plain": [
       "HBox(children=(IntProgress(value=0, description='1874', max=84, style=ProgressStyle(description_width='initial…"
      ]
     },
     "metadata": {},
     "output_type": "display_data"
    },
    {
     "data": {
      "application/vnd.jupyter.widget-view+json": {
       "model_id": "6ecc31243eb94019b5cb8dd69c594e16",
       "version_major": 2,
       "version_minor": 0
      },
      "text/plain": [
       "HBox(children=(IntProgress(value=0, description='1875', max=27, style=ProgressStyle(description_width='initial…"
      ]
     },
     "metadata": {},
     "output_type": "display_data"
    },
    {
     "data": {
      "application/vnd.jupyter.widget-view+json": {
       "model_id": "6767c11517f54157927dbb672bec5b5f",
       "version_major": 2,
       "version_minor": 0
      },
      "text/plain": [
       "HBox(children=(IntProgress(value=0, description='1876', max=29, style=ProgressStyle(description_width='initial…"
      ]
     },
     "metadata": {},
     "output_type": "display_data"
    },
    {
     "data": {
      "application/vnd.jupyter.widget-view+json": {
       "model_id": "af0bf14a8683485ebc0d79d36defa5cb",
       "version_major": 2,
       "version_minor": 0
      },
      "text/plain": [
       "HBox(children=(IntProgress(value=0, description='1877', max=34, style=ProgressStyle(description_width='initial…"
      ]
     },
     "metadata": {},
     "output_type": "display_data"
    },
    {
     "data": {
      "application/vnd.jupyter.widget-view+json": {
       "model_id": "f811f539e43b4157b40d58c05d168b86",
       "version_major": 2,
       "version_minor": 0
      },
      "text/plain": [
       "HBox(children=(IntProgress(value=0, description='1878', max=15, style=ProgressStyle(description_width='initial…"
      ]
     },
     "metadata": {},
     "output_type": "display_data"
    },
    {
     "data": {
      "application/vnd.jupyter.widget-view+json": {
       "model_id": "3e57b352edee4e7b83eb2f966d9c013b",
       "version_major": 2,
       "version_minor": 0
      },
      "text/plain": [
       "HBox(children=(IntProgress(value=0, description='1879', max=34, style=ProgressStyle(description_width='initial…"
      ]
     },
     "metadata": {},
     "output_type": "display_data"
    },
    {
     "data": {
      "application/vnd.jupyter.widget-view+json": {
       "model_id": "a35ed1a3614a430eb60ab2df72288240",
       "version_major": 2,
       "version_minor": 0
      },
      "text/plain": [
       "HBox(children=(IntProgress(value=0, description='1880', max=38, style=ProgressStyle(description_width='initial…"
      ]
     },
     "metadata": {},
     "output_type": "display_data"
    }
   ],
   "source": [
    "harvester = Harvester(params, start_year=start_year, end_year=end_year)\n",
    "harvester.start_harvest()"
   ]
  },
  {
   "cell_type": "markdown",
   "metadata": {},
   "source": [
    "## Save your harvest\n",
    "\n",
    "This cell generates a CSV file and creates a link that you can use to download it."
   ]
  },
  {
   "cell_type": "code",
   "execution_count": 47,
   "metadata": {
    "scrolled": true
   },
   "outputs": [
    {
     "data": {
      "text/html": [
       "<a href='possum-1870-1880-20181123.csv' target='_blank'>possum-1870-1880-20181123.csv</a><br>"
      ],
      "text/plain": [
       "/Users/tim/mycode/glam-workbench/digitalnz/notebooks/possum-1870-1880-20181123.csv"
      ]
     },
     "metadata": {},
     "output_type": "display_data"
    }
   ],
   "source": [
    "harvester.save_as_csv()"
   ]
  },
  {
   "cell_type": "code",
   "execution_count": null,
   "metadata": {},
   "outputs": [],
   "source": []
  }
 ],
 "metadata": {
  "kernelspec": {
   "display_name": "Python 3",
   "language": "python",
   "name": "python3"
  },
  "language_info": {
   "codemirror_mode": {
    "name": "ipython",
    "version": 3
   },
   "file_extension": ".py",
   "mimetype": "text/x-python",
   "name": "python",
   "nbconvert_exporter": "python",
   "pygments_lexer": "ipython3",
   "version": "3.6.5"
  }
 },
 "nbformat": 4,
 "nbformat_minor": 2
}
