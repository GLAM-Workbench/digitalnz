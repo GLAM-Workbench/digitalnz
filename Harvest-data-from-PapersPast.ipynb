{
 "cells": [
  {
   "cell_type": "markdown",
   "metadata": {},
   "source": [
    "# Harvest data from Papers Past\n",
    "\n",
    "This notebooks lets you harvest large amounts of data for Papers Past (via DigitalNZ) for further analysis. It saves the results as a CSV file that you can open in any spreadsheet program. It currently includes the OCRd text of all the newspaper articles, but I might make this optional in the future — thoughts?\n",
    "\n",
    "You can edit this notebook to harvest other collections in DigitalNZ — see the notes below for pointers. However, this is currently only saving a small subset of the available metadata, so you'd probably want to adjust the fields as well. Add an [issue on GitHub](https://github.com/GLAM-Workbench/digitalnz/issues) if you need help creating a custom harvester.\n",
    "\n",
    "There's only two things you **have** to change — you need to enter your API key, and a search query. There are additional options for limiting your search results."
   ]
  },
  {
   "cell_type": "markdown",
   "metadata": {},
   "source": [
    "<div class=\"alert alert-block alert-warning\">\n",
    "<p>If you haven't used one of these notebooks before, they're basically web pages in which you can write, edit, and run live code. They're meant to encourage experimentation, so don't feel nervous. Just try running a few cells and see what happens!.</p>\n",
    "\n",
    "<p>\n",
    "    Some tips:\n",
    "    <ul>\n",
    "        <li>Code cells have boxes around them. When you hover over them a <i class=\"fa-step-forward fa\"></i> icon appears.</li>\n",
    "        <li>To run a code cell either click the <i class=\"fa-step-forward fa\"></i> icon, or click on the cell and then hit <b>Shift+Enter</b>. The <b>Shift+Enter</b> combo will also move you to the next cell, so it's a quick way to work through the notebook.</li>\n",
    "        <li>While a cell is running a <b>*</b> appears in the square brackets next to the cell. Once the cell has finished running the asterix will be replaced with a number.</li>\n",
    "        <li>In most cases you'll want to start from the top of notebook and work your way down running each cell in turn. Later cells might depend on the results of earlier ones.</li>\n",
    "        <li>To edit a code cell, just click on it and type stuff. Remember to run the cell once you've finished editing.</li>\n",
    "    </ul>\n",
    "</p>\n",
    "</div>"
   ]
  },
  {
   "cell_type": "markdown",
   "metadata": {},
   "source": [
    "## Setting things up\n",
    "\n",
    "Just run these cells to set up some things that we'll need later on."
   ]
  },
  {
   "cell_type": "code",
   "execution_count": 12,
   "metadata": {},
   "outputs": [],
   "source": [
    "# This cell just sets up some stuff that we'll need later\n",
    "\n",
    "import logging\n",
    "import requests\n",
    "from requests.adapters import HTTPAdapter\n",
    "from requests.packages.urllib3.util.retry import Retry\n",
    "import pandas as pd\n",
    "from tqdm import tqdm_notebook\n",
    "import time\n",
    "import re\n",
    "from slugify import slugify\n",
    "from time import strftime\n",
    "from IPython.display import display, FileLink\n",
    "\n",
    "logging.basicConfig(level=logging.ERROR)\n",
    "s = requests.Session()\n",
    "retries = Retry(total=5, backoff_factor=1, status_forcelist=[ 502, 503, 504 ])\n",
    "s.mount('https://', HTTPAdapter(max_retries=retries))"
   ]
  },
  {
   "cell_type": "code",
   "execution_count": 32,
   "metadata": {},
   "outputs": [],
   "source": [
    "# This cell sets the basic parameters that we'll send to the API\n",
    "# You'll add your search query to this below\n",
    "# You could change the 'display_collection' value to something other than\n",
    "# Papers Past to harvest other parts of DigitalNZ\n",
    "\n",
    "params = {\n",
    "    'and[display_collection][]': 'Papers Past',\n",
    "    'per_page': '100',\n",
    "    'api_key': api_key\n",
    "}"
   ]
  },
  {
   "cell_type": "markdown",
   "metadata": {},
   "source": [
    "## Add your API key\n",
    "\n",
    "Go get yourself a [DigitalNZ API key](https://digitalnz.org/developers/getting-started), then paste it between the quotes below. You need a key to make API requests, but they're free and quick to obtain."
   ]
  },
  {
   "cell_type": "code",
   "execution_count": 33,
   "metadata": {},
   "outputs": [
    {
     "name": "stdout",
     "output_type": "stream",
     "text": [
      "Your API key is: 9yXNTynMDb3TUQws7QuD\n"
     ]
    }
   ],
   "source": [
    "# Past your API key between the quotes\n",
    "# You might need to trim off any spaces at the beginning and end\n",
    "api_key = '9yXNTynMDb3TUQws7QuD'\n",
    "print('Your API key is: {}'.format(api_key))"
   ]
  },
  {
   "cell_type": "markdown",
   "metadata": {},
   "source": [
    "## Add your search query\n",
    "\n",
    "This is where you specify your search. Just put in anything you might enter in the DigitalNZ search box.\n"
   ]
  },
  {
   "cell_type": "code",
   "execution_count": 34,
   "metadata": {},
   "outputs": [],
   "source": [
    "params['text'] = 'possum'\n",
    "#params['text'] = 'possum AND opossum'\n",
    "#params['text'] = '\"possum skins\"'"
   ]
  },
  {
   "cell_type": "markdown",
   "metadata": {},
   "source": [
    "You can also add limit your results to a particular newspaper. Just remove the '#' from the start of the line to add this parameter to your query."
   ]
  },
  {
   "cell_type": "code",
   "execution_count": null,
   "metadata": {},
   "outputs": [],
   "source": [
    "#params['and[collection][]'] = 'Evening Post'"
   ]
  },
  {
   "cell_type": "markdown",
   "metadata": {},
   "source": [
    "You can also limit your query by date, but it's a bit fiddly. \n",
    "\n",
    "Filtering by a single century, decade or year is simple. Just add the appropriate parameter as in the examples below. Remove the '#', edit the value, and run the cell."
   ]
  },
  {
   "cell_type": "code",
   "execution_count": null,
   "metadata": {},
   "outputs": [],
   "source": [
    "#params['and[century][]'] = '1800'\n",
    "#params['and[decade][]'] = '1850'\n",
    "#params['and[year][]'] = '1853'"
   ]
  },
  {
   "cell_type": "markdown",
   "metadata": {},
   "source": [
    "There's no direct way (I think) to search a range of years, but we can get around this by issuing a request for each year separately and then combining the results. If you want to do this, change the values below."
   ]
  },
  {
   "cell_type": "code",
   "execution_count": 38,
   "metadata": {},
   "outputs": [],
   "source": [
    "# This sets the default values\n",
    "# Change from None to a year, eg 1854 to set a specific range.\n",
    "# You need both a start and an end year\n",
    "\n",
    "start_year = 1870\n",
    "end_year = 1880"
   ]
  },
  {
   "cell_type": "markdown",
   "metadata": {},
   "source": [
    "## Set up some code"
   ]
  },
  {
   "cell_type": "code",
   "execution_count": 43,
   "metadata": {},
   "outputs": [],
   "source": [
    "class Harvester():\n",
    "    \n",
    "    def __init__(self, params, start_year=None, end_year=None):\n",
    "        self.params = params\n",
    "        self.start_year = start_year\n",
    "        self.end_year = end_year\n",
    "        self.current_year = None\n",
    "        self.total = 0\n",
    "        self.more = True\n",
    "        self.articles = []\n",
    "\n",
    "    def process_results(self, data):\n",
    "        results = data['search']['results']\n",
    "        if results:\n",
    "            self.articles += self.process_articles(results)\n",
    "            return True\n",
    "        else:\n",
    "            return False\n",
    "        \n",
    "    def process_articles(self, results):\n",
    "        articles = []\n",
    "        for result in results:\n",
    "            title = re.sub(r'(\\([^)]*\\))[^(]*$', '', result['title']).strip()\n",
    "            articles.append({\n",
    "                'id': result['id'],\n",
    "                'title': title,\n",
    "                'newspaper': result['publisher'][0],\n",
    "                'date': result['date'],\n",
    "                'text': result['fulltext'],\n",
    "                'paperspast_url': result['landing_url'],\n",
    "                'source_url': result['source_url']\n",
    "            })\n",
    "        return articles\n",
    "\n",
    "    def get_data(self):\n",
    "        response = s.get('http://api.digitalnz.org/v3/records.json', params=self.params)\n",
    "        print(response.url)\n",
    "        return response.json()\n",
    "    \n",
    "    def harvest(self):\n",
    "        data = self.get_data()\n",
    "        total = data['search']['result_count']\n",
    "        if total > 0:\n",
    "            self.more = self.process_results(data)\n",
    "            with tqdm_notebook(total=total) as pbar:\n",
    "                pbar.update(100)\n",
    "                while self.more:\n",
    "                    self.params['page'] += 1\n",
    "                    data = self.get_data()\n",
    "                    self.more = self.process_results(data)\n",
    "                    pbar.update(100)\n",
    "                    time.sleep(0.2)    \n",
    "\n",
    "    def start_harvest(self):\n",
    "        if self.start_year and self.end_year:\n",
    "            for year in range(self.start_year, self.end_year+1):\n",
    "                self.params['page'] = 1\n",
    "                self.more = True\n",
    "                self.current_year = year\n",
    "                self.params['and[year][]'] = year\n",
    "                self.harvest()\n",
    "        else:\n",
    "            self.harvest()\n",
    "            \n",
    "    def restart_harvest(self):\n",
    "        # Don't reset the page to 1 -- hopefully pick up where it stopped\n",
    "        if self.current_year and self.end_year:\n",
    "            for year in range(self.current_year, self.end_year+1):\n",
    "                if year != self.current_year:\n",
    "                    self.params['page'] = 1\n",
    "                self.more = True\n",
    "                self.current_year = year\n",
    "                self.params['and[year][]'] = year\n",
    "                self.harvest()\n",
    "        else:\n",
    "            self.harvest()\n",
    "               \n",
    "    def save_as_csv(self, filename=None):\n",
    "        if not filename:\n",
    "            filename = '{}-{}.csv'.format(slugify(self.params['text']), strftime(\"%Y%m%d\"))\n",
    "        df = pd.DataFrame(self.articles)\n",
    "        df.to_csv(filename, index=False)\n",
    "        display(FileLink(filename))"
   ]
  },
  {
   "cell_type": "markdown",
   "metadata": {},
   "source": [
    "## Start your harvest"
   ]
  },
  {
   "cell_type": "code",
   "execution_count": 44,
   "metadata": {
    "scrolled": false
   },
   "outputs": [
    {
     "name": "stdout",
     "output_type": "stream",
     "text": [
      "http://api.digitalnz.org/v3/records.json?and%5Bdisplay_collection%5D%5B%5D=Papers+Past&per_page=100&api_key=9yXNTynMDb3TUQws7QuD&text=possum&page=1&and%5Byear%5D%5B%5D=1870\n"
     ]
    },
    {
     "data": {
      "application/vnd.jupyter.widget-view+json": {
       "model_id": "7fc92b67a14c4b3a9e8b90c9e7156803",
       "version_major": 2,
       "version_minor": 0
      },
      "text/plain": [
       "HBox(children=(IntProgress(value=0, max=4), HTML(value='')))"
      ]
     },
     "metadata": {},
     "output_type": "display_data"
    },
    {
     "name": "stdout",
     "output_type": "stream",
     "text": [
      "http://api.digitalnz.org/v3/records.json?and%5Bdisplay_collection%5D%5B%5D=Papers+Past&per_page=100&api_key=9yXNTynMDb3TUQws7QuD&text=possum&page=2&and%5Byear%5D%5B%5D=1870\n",
      "\n",
      "http://api.digitalnz.org/v3/records.json?and%5Bdisplay_collection%5D%5B%5D=Papers+Past&per_page=100&api_key=9yXNTynMDb3TUQws7QuD&text=possum&page=1&and%5Byear%5D%5B%5D=1871\n"
     ]
    },
    {
     "data": {
      "application/vnd.jupyter.widget-view+json": {
       "model_id": "dd363173737a4a7d922c529b1bd69368",
       "version_major": 2,
       "version_minor": 0
      },
      "text/plain": [
       "HBox(children=(IntProgress(value=0, max=19), HTML(value='')))"
      ]
     },
     "metadata": {},
     "output_type": "display_data"
    },
    {
     "name": "stdout",
     "output_type": "stream",
     "text": [
      "http://api.digitalnz.org/v3/records.json?and%5Bdisplay_collection%5D%5B%5D=Papers+Past&per_page=100&api_key=9yXNTynMDb3TUQws7QuD&text=possum&page=2&and%5Byear%5D%5B%5D=1871\n",
      "\n",
      "http://api.digitalnz.org/v3/records.json?and%5Bdisplay_collection%5D%5B%5D=Papers+Past&per_page=100&api_key=9yXNTynMDb3TUQws7QuD&text=possum&page=1&and%5Byear%5D%5B%5D=1872\n"
     ]
    },
    {
     "data": {
      "application/vnd.jupyter.widget-view+json": {
       "model_id": "db081d7d3bd749f69e0f21e72fa6000a",
       "version_major": 2,
       "version_minor": 0
      },
      "text/plain": [
       "HBox(children=(IntProgress(value=0, max=20), HTML(value='')))"
      ]
     },
     "metadata": {},
     "output_type": "display_data"
    },
    {
     "name": "stdout",
     "output_type": "stream",
     "text": [
      "http://api.digitalnz.org/v3/records.json?and%5Bdisplay_collection%5D%5B%5D=Papers+Past&per_page=100&api_key=9yXNTynMDb3TUQws7QuD&text=possum&page=2&and%5Byear%5D%5B%5D=1872\n",
      "\n",
      "http://api.digitalnz.org/v3/records.json?and%5Bdisplay_collection%5D%5B%5D=Papers+Past&per_page=100&api_key=9yXNTynMDb3TUQws7QuD&text=possum&page=1&and%5Byear%5D%5B%5D=1873\n"
     ]
    },
    {
     "data": {
      "application/vnd.jupyter.widget-view+json": {
       "model_id": "5084ab970c724207b2bbc43a647d83fd",
       "version_major": 2,
       "version_minor": 0
      },
      "text/plain": [
       "HBox(children=(IntProgress(value=0, max=23), HTML(value='')))"
      ]
     },
     "metadata": {},
     "output_type": "display_data"
    },
    {
     "name": "stdout",
     "output_type": "stream",
     "text": [
      "http://api.digitalnz.org/v3/records.json?and%5Bdisplay_collection%5D%5B%5D=Papers+Past&per_page=100&api_key=9yXNTynMDb3TUQws7QuD&text=possum&page=2&and%5Byear%5D%5B%5D=1873\n",
      "\n",
      "http://api.digitalnz.org/v3/records.json?and%5Bdisplay_collection%5D%5B%5D=Papers+Past&per_page=100&api_key=9yXNTynMDb3TUQws7QuD&text=possum&page=1&and%5Byear%5D%5B%5D=1874\n"
     ]
    },
    {
     "data": {
      "application/vnd.jupyter.widget-view+json": {
       "model_id": "ad47160e804345d89f9a4109ab496d59",
       "version_major": 2,
       "version_minor": 0
      },
      "text/plain": [
       "HBox(children=(IntProgress(value=0, max=84), HTML(value='')))"
      ]
     },
     "metadata": {},
     "output_type": "display_data"
    },
    {
     "name": "stdout",
     "output_type": "stream",
     "text": [
      "http://api.digitalnz.org/v3/records.json?and%5Bdisplay_collection%5D%5B%5D=Papers+Past&per_page=100&api_key=9yXNTynMDb3TUQws7QuD&text=possum&page=2&and%5Byear%5D%5B%5D=1874\n",
      "\n",
      "http://api.digitalnz.org/v3/records.json?and%5Bdisplay_collection%5D%5B%5D=Papers+Past&per_page=100&api_key=9yXNTynMDb3TUQws7QuD&text=possum&page=1&and%5Byear%5D%5B%5D=1875\n"
     ]
    },
    {
     "data": {
      "application/vnd.jupyter.widget-view+json": {
       "model_id": "2d5a2f5c0a7a4471a3110bfbfd31d913",
       "version_major": 2,
       "version_minor": 0
      },
      "text/plain": [
       "HBox(children=(IntProgress(value=0, max=27), HTML(value='')))"
      ]
     },
     "metadata": {},
     "output_type": "display_data"
    },
    {
     "name": "stdout",
     "output_type": "stream",
     "text": [
      "http://api.digitalnz.org/v3/records.json?and%5Bdisplay_collection%5D%5B%5D=Papers+Past&per_page=100&api_key=9yXNTynMDb3TUQws7QuD&text=possum&page=2&and%5Byear%5D%5B%5D=1875\n",
      "\n",
      "http://api.digitalnz.org/v3/records.json?and%5Bdisplay_collection%5D%5B%5D=Papers+Past&per_page=100&api_key=9yXNTynMDb3TUQws7QuD&text=possum&page=1&and%5Byear%5D%5B%5D=1876\n"
     ]
    },
    {
     "data": {
      "application/vnd.jupyter.widget-view+json": {
       "model_id": "827986bc888441e684a016cfd6701db7",
       "version_major": 2,
       "version_minor": 0
      },
      "text/plain": [
       "HBox(children=(IntProgress(value=0, max=29), HTML(value='')))"
      ]
     },
     "metadata": {},
     "output_type": "display_data"
    },
    {
     "name": "stdout",
     "output_type": "stream",
     "text": [
      "http://api.digitalnz.org/v3/records.json?and%5Bdisplay_collection%5D%5B%5D=Papers+Past&per_page=100&api_key=9yXNTynMDb3TUQws7QuD&text=possum&page=2&and%5Byear%5D%5B%5D=1876\n",
      "\n",
      "http://api.digitalnz.org/v3/records.json?and%5Bdisplay_collection%5D%5B%5D=Papers+Past&per_page=100&api_key=9yXNTynMDb3TUQws7QuD&text=possum&page=1&and%5Byear%5D%5B%5D=1877\n"
     ]
    },
    {
     "data": {
      "application/vnd.jupyter.widget-view+json": {
       "model_id": "0de94166512d4ac3bbbb0809fbbd1bab",
       "version_major": 2,
       "version_minor": 0
      },
      "text/plain": [
       "HBox(children=(IntProgress(value=0, max=34), HTML(value='')))"
      ]
     },
     "metadata": {},
     "output_type": "display_data"
    },
    {
     "name": "stdout",
     "output_type": "stream",
     "text": [
      "http://api.digitalnz.org/v3/records.json?and%5Bdisplay_collection%5D%5B%5D=Papers+Past&per_page=100&api_key=9yXNTynMDb3TUQws7QuD&text=possum&page=2&and%5Byear%5D%5B%5D=1877\n",
      "\n",
      "http://api.digitalnz.org/v3/records.json?and%5Bdisplay_collection%5D%5B%5D=Papers+Past&per_page=100&api_key=9yXNTynMDb3TUQws7QuD&text=possum&page=1&and%5Byear%5D%5B%5D=1878\n"
     ]
    },
    {
     "data": {
      "application/vnd.jupyter.widget-view+json": {
       "model_id": "5af8ecc5feb144a0b25c025f38028408",
       "version_major": 2,
       "version_minor": 0
      },
      "text/plain": [
       "HBox(children=(IntProgress(value=0, max=15), HTML(value='')))"
      ]
     },
     "metadata": {},
     "output_type": "display_data"
    },
    {
     "name": "stdout",
     "output_type": "stream",
     "text": [
      "http://api.digitalnz.org/v3/records.json?and%5Bdisplay_collection%5D%5B%5D=Papers+Past&per_page=100&api_key=9yXNTynMDb3TUQws7QuD&text=possum&page=2&and%5Byear%5D%5B%5D=1878\n",
      "\n",
      "http://api.digitalnz.org/v3/records.json?and%5Bdisplay_collection%5D%5B%5D=Papers+Past&per_page=100&api_key=9yXNTynMDb3TUQws7QuD&text=possum&page=1&and%5Byear%5D%5B%5D=1879\n"
     ]
    },
    {
     "data": {
      "application/vnd.jupyter.widget-view+json": {
       "model_id": "c6406f20c4c14056a1d0f8c7e2fb3d2c",
       "version_major": 2,
       "version_minor": 0
      },
      "text/plain": [
       "HBox(children=(IntProgress(value=0, max=34), HTML(value='')))"
      ]
     },
     "metadata": {},
     "output_type": "display_data"
    },
    {
     "name": "stdout",
     "output_type": "stream",
     "text": [
      "http://api.digitalnz.org/v3/records.json?and%5Bdisplay_collection%5D%5B%5D=Papers+Past&per_page=100&api_key=9yXNTynMDb3TUQws7QuD&text=possum&page=2&and%5Byear%5D%5B%5D=1879\n",
      "\n",
      "http://api.digitalnz.org/v3/records.json?and%5Bdisplay_collection%5D%5B%5D=Papers+Past&per_page=100&api_key=9yXNTynMDb3TUQws7QuD&text=possum&page=1&and%5Byear%5D%5B%5D=1880\n"
     ]
    },
    {
     "data": {
      "application/vnd.jupyter.widget-view+json": {
       "model_id": "097707e0c54e41d98a04792bfbb67a1a",
       "version_major": 2,
       "version_minor": 0
      },
      "text/plain": [
       "HBox(children=(IntProgress(value=0, max=38), HTML(value='')))"
      ]
     },
     "metadata": {},
     "output_type": "display_data"
    },
    {
     "name": "stdout",
     "output_type": "stream",
     "text": [
      "http://api.digitalnz.org/v3/records.json?and%5Bdisplay_collection%5D%5B%5D=Papers+Past&per_page=100&api_key=9yXNTynMDb3TUQws7QuD&text=possum&page=2&and%5Byear%5D%5B%5D=1880\n",
      "\n"
     ]
    }
   ],
   "source": [
    "harvester = Harvester(params, start_year=start_year, end_year=end_year)\n",
    "harvester.start_harvest()"
   ]
  },
  {
   "cell_type": "markdown",
   "metadata": {},
   "source": [
    "## Save your harvest\n",
    "\n",
    "This cell generates a CSV file and creates a link that you can use to download it."
   ]
  },
  {
   "cell_type": "code",
   "execution_count": 23,
   "metadata": {},
   "outputs": [
    {
     "data": {
      "text/html": [
       "<a href='possum-20181122.csv' target='_blank'>possum-20181122.csv</a><br>"
      ],
      "text/plain": [
       "/Users/tim/Documents/glam-workbench-dev/digitalnz/notebooks/possum-20181122.csv"
      ]
     },
     "metadata": {},
     "output_type": "display_data"
    }
   ],
   "source": [
    "harvester.save_as_csv()"
   ]
  },
  {
   "cell_type": "code",
   "execution_count": null,
   "metadata": {},
   "outputs": [],
   "source": []
  }
 ],
 "metadata": {
  "kernelspec": {
   "display_name": "Python 3",
   "language": "python",
   "name": "python3"
  },
  "language_info": {
   "codemirror_mode": {
    "name": "ipython",
    "version": 3
   },
   "file_extension": ".py",
   "mimetype": "text/x-python",
   "name": "python",
   "nbconvert_exporter": "python",
   "pygments_lexer": "ipython3",
   "version": "3.6.5"
  }
 },
 "nbformat": 4,
 "nbformat_minor": 2
}
