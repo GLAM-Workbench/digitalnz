{
 "cells": [
  {
   "cell_type": "markdown",
   "metadata": {},
   "source": [
    "# Select a random(ish) record from DigitalNZ\n",
    "\n",
    "The DigitalNZ API doesn't provide a random sort option. You can jump to a randomly selected page of results, but you can't do any deeper than 100,000 pages into a results set (that's 1,000,000 records if you set the `per_page` value to 100). So we need to find some way of filtering the results until there's less than 1,000,000, then we can grab a random page and record.\n",
    "\n",
    "We can use facets to filter the results. As you can see at the bottom of this notebook, I did a bit of examination of the facets to understand their coverage. If only 50% of records have a value for a particular facet and we use it to filter the results, then 50% of the records will be missing from the pool we make our random selection from. So we want to use facets that have been applied to as many records as possible.\n",
    "\n",
    "A blank search returns 31,640,164 results.\n",
    "\n",
    "I extracted facets for `category`, `display_collection`, `creator`, `placename`, `year`, `decade`, `century`, `language`, `content_partner`, `rights`, `collection`, and `usage`. The facets that seem to have the best coverage are:\n",
    "\n",
    "* `category`: 31,653,142 records\n",
    "* `content_partner`: 31,642,453 records\n",
    "* `year`: 30,867,103 records\n",
    "\n",
    "I don't know why `category` and `content_partner` have more records than a blank search – I suppose either the blank search is filtering out records, or some records have multiple values for these facets. Note, too, that `year` has 918 values! The maximum number of facet values that can be retrieved in a single request is 350, so this makes it tricky to filter the results using just the `year` facet. By applying `category` and `content_partner` before `year`, I should limit the number of year values, and hopefully avoid overlooking too many records. (I could analyse all the combinations of these facets to see how many records might be missed, but I don't think it's worth it at this stage.)\n",
    "\n",
    "So for now, I've decided to apply a randomly selected value from each of these facets in the following order – `category`, `content_partner`, and `year`. After applying each filter I'll check to see if we were under 1,000,000 results, if so we'll grab a record by jumping to a random page, and selecting a random result!\n",
    "\n",
    "As you can see from the examples below, you can also supply your own filters if you want to limit the selection pool."
   ]
  },
  {
   "cell_type": "markdown",
   "metadata": {},
   "source": [
    "## Import what we need"
   ]
  },
  {
   "cell_type": "code",
   "execution_count": 217,
   "metadata": {},
   "outputs": [],
   "source": [
    "import requests\n",
    "import random\n",
    "import math\n",
    "import pandas as pd\n",
    "from tqdm.auto import tqdm\n",
    "from IPython.display import Image, display, HTML"
   ]
  },
  {
   "cell_type": "code",
   "execution_count": 15,
   "metadata": {},
   "outputs": [],
   "source": [
    "API_KEY = '[YOUR API KEY]'\n",
    "API_URL = 'http://api.digitalnz.org/v3/records.json'"
   ]
  },
  {
   "cell_type": "markdown",
   "metadata": {},
   "source": [
    "## Define some functions"
   ]
  },
  {
   "cell_type": "code",
   "execution_count": 197,
   "metadata": {},
   "outputs": [],
   "source": [
    "def get_total(**kwargs):\n",
    "    '''\n",
    "    Get the total number of results from a query built using supplied kwargs as parameters.\n",
    "    '''\n",
    "    params = {\n",
    "        'api_key': API_KEY,\n",
    "        'per_page': 0\n",
    "    }\n",
    "    params = add_kwargs_to_params(params, kwargs)\n",
    "    data = get_records(params)\n",
    "    return data['search']['result_count']\n",
    "    \n",
    "def get_records(params):\n",
    "    '''\n",
    "    Get records from a search using the supplied parameters.\n",
    "    '''\n",
    "    response = requests.get(API_URL, params=params)\n",
    "    return response.json()\n",
    "\n",
    "def add_kwargs_to_params(params, kwargs):\n",
    "    '''\n",
    "    Add kwargs to query parameters.\n",
    "    '''\n",
    "    for k, v in kwargs.items():\n",
    "        if k == 'text':\n",
    "            params[k] = v\n",
    "        else:\n",
    "            params[f'and[{k}][]'] = v\n",
    "    return params\n",
    "\n",
    "def get_random_result(**kwargs):\n",
    "    '''\n",
    "    Select a random result from a query built using supplied kwargs as parameters.\n",
    "    '''\n",
    "    total = get_total(**kwargs)\n",
    "    pages = math.ceil(total / 100)\n",
    "    page = random.choice(list(range(1,pages + 1)))\n",
    "    params = {\n",
    "        'api_key': API_KEY,\n",
    "        'per_page': 100,\n",
    "        'page': page\n",
    "    }\n",
    "    params = add_kwargs_to_params(params, kwargs)\n",
    "    data = get_records(params)\n",
    "    try:\n",
    "        record = random.choice(data['search']['results'])\n",
    "    except KeyError:\n",
    "        record = None\n",
    "    return record\n",
    "\n",
    "def get_facets(facet, **kwargs):\n",
    "    '''\n",
    "    Get values for the specified facet.\n",
    "    '''\n",
    "    params = {\n",
    "        'facets': [facet],\n",
    "        'api_key': API_KEY,\n",
    "        'per_page': 0,\n",
    "        'facets_per_page': 350 # 350 is the max\n",
    "    }\n",
    "    params = add_kwargs_to_params(params, kwargs)\n",
    "    data = get_records(params)\n",
    "    total = data['search']['result_count']\n",
    "    facets = data['search']['facets'][facet]\n",
    "    return (total, facets)\n",
    "\n",
    "def get_random_facet(facets):\n",
    "    '''\n",
    "    Select a facet value from a list of facets, using the facet counts as weights.\n",
    "    '''\n",
    "    values = [{k:v} for k,v in facets.items()]\n",
    "    weights = list(facets.values())\n",
    "    facet = random.choices(values, weights=weights, k=1)[0]\n",
    "    return list(facet.items())[0]\n",
    "\n",
    "def select_facet(facet, **kwargs):\n",
    "    '''\n",
    "    Apply the specified facet to a query, if the total results are less than 1,000,000 then get a random result.\n",
    "    '''\n",
    "    _, facets = get_facets(facet, **kwargs)\n",
    "    value = get_random_facet(facets)\n",
    "    print(f'  * {facet.title()}: {value[0]}')\n",
    "    kwargs[facet] = value[0]\n",
    "    if value[1] < 1000000:\n",
    "        record = get_random_result(**kwargs)\n",
    "    else:\n",
    "        record = None\n",
    "    return (record, kwargs)\n",
    "    \n",
    "def get_random_record(**kwargs):\n",
    "    print('Additional filters:')\n",
    "    if kwargs:\n",
    "        total = get_total(**kwargs)\n",
    "        if total < 1000000:\n",
    "            print('  * None')\n",
    "            return get_random_result(**kwargs)\n",
    "    for facet in ['category', 'content_partner', 'year']:\n",
    "        if facet not in kwargs:\n",
    "            record, kwargs = select_facet(facet, **kwargs)\n",
    "            if record:\n",
    "                return record\n",
    "    return 'Too many'"
   ]
  },
  {
   "cell_type": "markdown",
   "metadata": {},
   "source": [
    "## A random record"
   ]
  },
  {
   "cell_type": "code",
   "execution_count": 226,
   "metadata": {},
   "outputs": [
    {
     "name": "stdout",
     "output_type": "stream",
     "text": [
      "Additional filters:\n",
      "  * Category: Newspapers\n",
      "  * Content_Partner: National Library of New Zealand\n",
      "  * Year: 1878\n"
     ]
    },
    {
     "data": {
      "text/html": [
       "\n",
       "<h4>SAILED. (Nelson Evening Mail, 06 June 1878)</h4>"
      ],
      "text/plain": [
       "<IPython.core.display.HTML object>"
      ]
     },
     "metadata": {},
     "output_type": "display_data"
    },
    {
     "data": {
      "text/html": [
       "<a href=\"https://paperspast.natlib.govt.nz/newspapers/NEM18780606.2.3.2\">More...</a>"
      ],
      "text/plain": [
       "<IPython.core.display.HTML object>"
      ]
     },
     "metadata": {},
     "output_type": "display_data"
    }
   ],
   "source": [
    "# Get a record\n",
    "record = get_random_record()\n",
    "\n",
    "# Display the results\n",
    "display(HTML(f'\\n<h4>{record[\"title\"]}</h4>'))\n",
    "if record['description']:\n",
    "    display(HTML(f'<p>{record[\"description\"]}</p>'))\n",
    "display(HTML(f'<a href=\"{record[\"landing_url\"]}\">More...</a>'))"
   ]
  },
  {
   "cell_type": "markdown",
   "metadata": {},
   "source": [
    "## A random newspaper article"
   ]
  },
  {
   "cell_type": "code",
   "execution_count": 198,
   "metadata": {},
   "outputs": [
    {
     "name": "stdout",
     "output_type": "stream",
     "text": [
      "Additional filters:\n",
      "  * Content_Partner: National Library of New Zealand\n",
      "  * Year: 1902\n"
     ]
    },
    {
     "data": {
      "text/html": [
       "\n",
       "<h4>Page 3 Advertisements Column 9 (Wanganui Herald, 30 January 1902)</h4>"
      ],
      "text/plain": [
       "<IPython.core.display.HTML object>"
      ]
     },
     "metadata": {},
     "output_type": "display_data"
    },
    {
     "data": {
      "text/html": [
       "<p>buju aiitotiteiisciiu d i ic k tt thibbpaoej k besbbved i i cummins co advertisement v telspkons 70 box 11 a c lennard has just received 2 tanks 9 english bftcuiti and ib oases is preserving jaw sole agent for pubqti natorafc mineral water a c l victoria avenne wanganni usefal presents fob birthdays marriages ahx other great bvjfiotst tarn w m rooxn at bhjlts pbaoticawatchsuxbb aju jewelilkb avenue opposite english chorea ahandsomb stock of odd brooohes in ail the latest dewbom and quality from ...</p>"
      ],
      "text/plain": [
       "<IPython.core.display.HTML object>"
      ]
     },
     "metadata": {},
     "output_type": "display_data"
    },
    {
     "data": {
      "text/html": [
       "<a href=\"https://paperspast.natlib.govt.nz/newspapers/WH19020130.2.64.9\">More...</a>"
      ],
      "text/plain": [
       "<IPython.core.display.HTML object>"
      ]
     },
     "metadata": {},
     "output_type": "display_data"
    }
   ],
   "source": [
    "# Get a record\n",
    "record = get_random_record(category='Newspapers')\n",
    "\n",
    "# Display the results\n",
    "display(HTML(f'\\n<h4>{record[\"title\"]}</h4>'))\n",
    "display(HTML(f'<p>{record[\"fulltext\"][:500]}...</p>'))\n",
    "display(HTML(f'<a href=\"{record[\"landing_url\"]}\">More...</a>'))"
   ]
  },
  {
   "cell_type": "markdown",
   "metadata": {},
   "source": [
    "## A random newspaper article from a specific decade"
   ]
  },
  {
   "cell_type": "code",
   "execution_count": 202,
   "metadata": {},
   "outputs": [
    {
     "name": "stdout",
     "output_type": "stream",
     "text": [
      "Additional filters:\n",
      "  * Content_Partner: National Library of New Zealand\n",
      "  * Year: 1924\n"
     ]
    },
    {
     "data": {
      "text/html": [
       "<h4>TARANAKI ASSOCIATION (Hawera & Normanby Star, 01 November 1924)</h4>"
      ],
      "text/plain": [
       "<IPython.core.display.HTML object>"
      ]
     },
     "metadata": {},
     "output_type": "display_data"
    },
    {
     "data": {
      "text/html": [
       "<p>taranaki association at the annual meeting of the association the following officers were elected for the ensuing year president mr c b webster vicepresidents messrs a g wallace and o j dickie hon secretary and treasurer mr e g foden auditor mr s e shaw delegate to the new zealand association mr e d salmo ml management committee messrs j o nicholson waverley n balharry eltham f j shearer park e h young sportsdale and j b wilson new plymouth selection committee messrs wallace dickie and webster a...</p>"
      ],
      "text/plain": [
       "<IPython.core.display.HTML object>"
      ]
     },
     "metadata": {},
     "output_type": "display_data"
    },
    {
     "data": {
      "text/html": [
       "<a href=\"https://paperspast.natlib.govt.nz/newspapers/HNS19241101.2.9.2\">More...</a>"
      ],
      "text/plain": [
       "<IPython.core.display.HTML object>"
      ]
     },
     "metadata": {},
     "output_type": "display_data"
    }
   ],
   "source": [
    "# Get a record\n",
    "record = get_random_record(category='Newspapers', decade='1920')\n",
    "\n",
    "# Display the results\n",
    "display(HTML(f'<h4>{record[\"title\"]}</h4>'))\n",
    "display(HTML(f'<p>{record[\"fulltext\"][:500]}...</p>'))\n",
    "display(HTML(f'<a href=\"{record[\"landing_url\"]}\">More...</a>'))"
   ]
  },
  {
   "cell_type": "markdown",
   "metadata": {},
   "source": [
    "## A random article from a specific newspaper\n",
    "\n",
    "The newspaper title is stored in `collection_title` and `publisher`, but you don't seem to be able to filter using either of these, so we'll just do a `text` search for the title instead. This may mean we get results that are not actually from this newspaper..."
   ]
  },
  {
   "cell_type": "code",
   "execution_count": 203,
   "metadata": {},
   "outputs": [
    {
     "name": "stdout",
     "output_type": "stream",
     "text": [
      "Additional filters:\n",
      "  * Content_Partner: National Library of New Zealand\n",
      "  * Year: 1874\n"
     ]
    },
    {
     "data": {
      "text/html": [
       "<h4>GRAHAMSTOWN. 7th August. (Evening Post, 08 August 1874)</h4>"
      ],
      "text/plain": [
       "<IPython.core.display.HTML object>"
      ]
     },
     "metadata": {},
     "output_type": "display_data"
    },
    {
     "data": {
      "text/html": [
       "<p>grahamstown 7th august te hira and other chiefs have not i yetf been induced to go to the tiatitd meeting at whakatuwai v mi vogela speech has caused great astonishment but is very favorably received the advertiser urges him not to delay but to go to the country at once with a grand scheme of constitutional reform for abolishing pro vinces in both island and not in the north only 1 the tribulers in the rose and shamrock claim lodged siity minces of gold in the bank yesterday in assaying it to-da...</p>"
      ],
      "text/plain": [
       "<IPython.core.display.HTML object>"
      ]
     },
     "metadata": {},
     "output_type": "display_data"
    },
    {
     "data": {
      "text/html": [
       "<a href=\"https://paperspast.natlib.govt.nz/newspapers/EP18740808.2.15.3\">More...</a>"
      ],
      "text/plain": [
       "<IPython.core.display.HTML object>"
      ]
     },
     "metadata": {},
     "output_type": "display_data"
    }
   ],
   "source": [
    "# Get a record\n",
    "record = get_random_record(category='Newspapers', text='Evening Post')\n",
    "\n",
    "# Display the results\n",
    "display(HTML(f'<h4>{record[\"title\"]}</h4>'))\n",
    "display(HTML(f'<p>{record[\"fulltext\"][:500]}...</p>'))\n",
    "display(HTML(f'<a href=\"{record[\"landing_url\"]}\">More...</a>'))"
   ]
  },
  {
   "cell_type": "markdown",
   "metadata": {},
   "source": [
    "## A random item from a specific content partner"
   ]
  },
  {
   "cell_type": "code",
   "execution_count": 204,
   "metadata": {},
   "outputs": [
    {
     "name": "stdout",
     "output_type": "stream",
     "text": [
      "Additional filters:\n",
      "  * None\n"
     ]
    },
    {
     "data": {
      "text/html": [
       "<h4>Smallman, Group</h4>"
      ],
      "text/plain": [
       "<IPython.core.display.HTML object>"
      ]
     },
     "metadata": {},
     "output_type": "display_data"
    },
    {
     "data": {
      "text/html": [
       "<img src=\"https://collection.pukeariki.com/images/small/photograph%20collection/woods/wd011001-wd011500/wd_011409.jpg\"/>"
      ],
      "text/plain": [
       "<IPython.core.display.Image object>"
      ]
     },
     "metadata": {},
     "output_type": "display_data"
    },
    {
     "data": {
      "text/html": [
       "<p>Family group of four. Vola (nee Watson) and Richard (Dick) Smallman with a boy and girl.; Black and White 120 Roll Film/Black and White Negative/Photographic Negative</p>"
      ],
      "text/plain": [
       "<IPython.core.display.HTML object>"
      ]
     },
     "metadata": {},
     "output_type": "display_data"
    },
    {
     "data": {
      "text/html": [
       "<a href=\"https://collection.pukeariki.com/objects/104532\">More...</a>"
      ],
      "text/plain": [
       "<IPython.core.display.HTML object>"
      ]
     },
     "metadata": {},
     "output_type": "display_data"
    }
   ],
   "source": [
    "# Get a record\n",
    "record = get_random_record(content_partner='Puke Ariki')\n",
    "\n",
    "# Display the results\n",
    "display(HTML(f'<h4>{record[\"title\"]}</h4>'))\n",
    "if 'thumbnail_url' in record and record['thumbnail_url']:\n",
    "    display(Image(url=record['thumbnail_url'], format='jpg'))\n",
    "display(HTML(f'<p>{record[\"description\"]}</p>'))\n",
    "display(HTML(f'<a href=\"{record[\"landing_url\"]}\">More...</a>'))"
   ]
  },
  {
   "cell_type": "markdown",
   "metadata": {},
   "source": [
    "## A random open image"
   ]
  },
  {
   "cell_type": "code",
   "execution_count": 205,
   "metadata": {},
   "outputs": [
    {
     "name": "stdout",
     "output_type": "stream",
     "text": [
      "Additional filters:\n",
      "  * Content_Partner: Auckland Libraries\n"
     ]
    },
    {
     "data": {
      "text/html": [
       "<h4>Corp. F. T. Cameron, of Whangarei, Died of pneumonia.</h4>"
      ],
      "text/plain": [
       "<IPython.core.display.HTML object>"
      ]
     },
     "metadata": {},
     "output_type": "display_data"
    },
    {
     "data": {
      "text/html": [
       "<img src=\"http://www.aucklandcity.govt.nz/dbtw-wpd/HeritageImages/images/photos/AWNf/1916/AWNS_19161130_p041_i016_b.jpg\"/>"
      ],
      "text/plain": [
       "<IPython.core.display.Image object>"
      ]
     },
     "metadata": {},
     "output_type": "display_data"
    },
    {
     "data": {
      "text/html": [
       "<p>1/4 length portrait of Corporal F. T. Cameron, of Whangarei, Died of pneumonia.</p>"
      ],
      "text/plain": [
       "<IPython.core.display.HTML object>"
      ]
     },
     "metadata": {},
     "output_type": "display_data"
    },
    {
     "data": {
      "text/html": [
       "<a href=\"http://www.aucklandcity.govt.nz/dbtw-wpd/exec/dbtwpub.dll?BU=http%3A%2F%2Fwww.aucklandcity.govt.nz%2Fdbtw-wpd%2FHeritageImages%2Findex.htm&AC=QBE_QUERY&TN=heritageimages&QF0=ID&NP=2&RF=HIORecordSearch&MR=5&QI0=%3D%22AWNS-19161130-41-16%22\">More...</a>"
      ],
      "text/plain": [
       "<IPython.core.display.HTML object>"
      ]
     },
     "metadata": {},
     "output_type": "display_data"
    }
   ],
   "source": [
    "# Get a record\n",
    "record = get_random_record(category='Images', usage='Use commercially')\n",
    "\n",
    "# Display the results\n",
    "display(HTML(f'<h4>{record[\"title\"]}</h4>'))\n",
    "try:\n",
    "    if 'large_thumbnail_url' in record:\n",
    "        display(Image(url=record['large_thumbnail_url'], format='jpg'))\n",
    "    else:\n",
    "        display(Image(url=record['thumbnail_url'], format='jpg'))\n",
    "except:\n",
    "    pass\n",
    "if record['description']:\n",
    "    display(HTML(f'<p>{record[\"description\"]}</p>'))\n",
    "display(HTML(f'<a href=\"{record[\"landing_url\"]}\">More...</a>'))"
   ]
  },
  {
   "cell_type": "markdown",
   "metadata": {},
   "source": [
    "## Coverage of facets\n",
    "\n",
    "To decide which facets to use in making random selections, I looked to see how widely they were applied."
   ]
  },
  {
   "cell_type": "code",
   "execution_count": 206,
   "metadata": {},
   "outputs": [],
   "source": [
    "def check_facet(facet):\n",
    "    params = {\n",
    "        'facets': [facet],\n",
    "        'api_key': API_KEY,\n",
    "        'per_page': 0,\n",
    "        'facets_per_page': 350\n",
    "    }\n",
    "    data = get_records(params)\n",
    "    try:\n",
    "        facets = data['search']['facets'][facet]\n",
    "    except KeyError:\n",
    "        print('Not a facet!')\n",
    "    else:\n",
    "        df = pd.DataFrame.from_dict(facets, orient='index')\n",
    "        print(f'Number of facets: {df.shape[0]}')\n",
    "        print(f'Number of records: {df[0].sum():,}')"
   ]
  },
  {
   "cell_type": "markdown",
   "metadata": {},
   "source": [
    "Let's see how many records are returned by a blank search."
   ]
  },
  {
   "cell_type": "code",
   "execution_count": 209,
   "metadata": {},
   "outputs": [
    {
     "name": "stdout",
     "output_type": "stream",
     "text": [
      "There are 31,643,262 records in total...\n"
     ]
    }
   ],
   "source": [
    "print(f'There are {get_total():,} records in total...')"
   ]
  },
  {
   "cell_type": "markdown",
   "metadata": {},
   "source": [
    "Let's compare the total from a blank search to the number of records with values for each available facet.\n",
    "\n",
    "Below are the available facets listed in the API docs. I've added `usage`. Note that `display_collection` is not actually a facet despite what the docs say. Also you can only get a maximum of 350 facet values in one request, so if it says there are 350 facet values, they might actually be a lot more. (You can harvest the full set of values using the code below.)\n",
    "\n",
    "I'm assuming that some records have multiple values for `collection` and `usage` – hence the high number of records. It looks like `category`, `content_partner`, and `year` have the best coverage. However, we're only looking at the first 350 values for `year`."
   ]
  },
  {
   "cell_type": "code",
   "execution_count": 212,
   "metadata": {},
   "outputs": [
    {
     "name": "stdout",
     "output_type": "stream",
     "text": [
      "\n",
      "category\n",
      "Number of facets: 18\n",
      "Number of records: 31,656,240\n",
      "\n",
      "display_collection\n",
      "Not a facet!\n",
      "\n",
      "creator\n",
      "Number of facets: 350\n",
      "Number of records: 2,133,338\n",
      "\n",
      "placename\n",
      "Number of facets: 350\n",
      "Number of records: 25,007,163\n",
      "\n",
      "year\n",
      "Number of facets: 350\n",
      "Number of records: 30,867,985\n",
      "\n",
      "decade\n",
      "Number of facets: 260\n",
      "Number of records: 30,594,835\n",
      "\n",
      "century\n",
      "Number of facets: 71\n",
      "Number of records: 30,516,639\n",
      "\n",
      "language\n",
      "Number of facets: 151\n",
      "Number of records: 24,611,541\n",
      "\n",
      "content_partner\n",
      "Number of facets: 211\n",
      "Number of records: 31,645,551\n",
      "\n",
      "rights\n",
      "Number of facets: 350\n",
      "Number of records: 29,261,370\n",
      "\n",
      "collection\n",
      "Number of facets: 350\n",
      "Number of records: 59,572,442\n",
      "\n",
      "usage\n",
      "Number of facets: 5\n",
      "Number of records: 80,913,278\n"
     ]
    }
   ],
   "source": [
    "for facet in ['category', 'display_collection', 'creator', 'placename', 'year', 'decade', 'century', 'language', 'content_partner', 'rights', 'collection', 'usage']:\n",
    "    print(f'\\n{facet}')\n",
    "    check_facet(facet)"
   ]
  },
  {
   "cell_type": "markdown",
   "metadata": {},
   "source": [
    "Let's get all the values for year."
   ]
  },
  {
   "cell_type": "code",
   "execution_count": 218,
   "metadata": {},
   "outputs": [],
   "source": [
    "def harvest_facet_values(facet):\n",
    "    facets = {}\n",
    "    more = True\n",
    "    page = 1\n",
    "    params = {\n",
    "        'api_key': API_KEY,\n",
    "        'per_page': 0,\n",
    "        'facets': facet,\n",
    "        'facets_per_page': 100,\n",
    "    }\n",
    "    with tqdm() as pbar:\n",
    "        while more:\n",
    "            params['facets_page'] = page\n",
    "            data = get_records(params)\n",
    "            if data['search']['facets'][facet]:\n",
    "                facets.update(data['search']['facets'][facet])\n",
    "                pbar.update(100)\n",
    "                page += 1\n",
    "            else:\n",
    "                more = False\n",
    "        return facets"
   ]
  },
  {
   "cell_type": "code",
   "execution_count": 219,
   "metadata": {},
   "outputs": [
    {
     "data": {
      "application/vnd.jupyter.widget-view+json": {
       "model_id": "9ada33f3a9ec4fd3af391d9840d2cef1",
       "version_major": 2,
       "version_minor": 0
      },
      "text/plain": [
       "HBox(children=(FloatProgress(value=1.0, bar_style='info', max=1.0), HTML(value='')))"
      ]
     },
     "metadata": {},
     "output_type": "display_data"
    },
    {
     "name": "stdout",
     "output_type": "stream",
     "text": [
      "\n"
     ]
    }
   ],
   "source": [
    "facets = harvest_facet_values('year')"
   ]
  },
  {
   "cell_type": "code",
   "execution_count": 220,
   "metadata": {},
   "outputs": [],
   "source": [
    "df_years = pd.DataFrame.from_dict(facets, orient='index')"
   ]
  },
  {
   "cell_type": "markdown",
   "metadata": {},
   "source": [
    "What's the number of facet values?"
   ]
  },
  {
   "cell_type": "code",
   "execution_count": 223,
   "metadata": {},
   "outputs": [
    {
     "data": {
      "text/plain": [
       "918"
      ]
     },
     "execution_count": 223,
     "metadata": {},
     "output_type": "execute_result"
    }
   ],
   "source": [
    "df_years.shape[0]"
   ]
  },
  {
   "cell_type": "markdown",
   "metadata": {},
   "source": [
    "How many records have a value for `year` (assuming that there's only one value per record)?"
   ]
  },
  {
   "cell_type": "code",
   "execution_count": 224,
   "metadata": {},
   "outputs": [
    {
     "data": {
      "text/plain": [
       "30870087"
      ]
     },
     "execution_count": 224,
     "metadata": {},
     "output_type": "execute_result"
    }
   ],
   "source": [
    "df_years[0].sum()"
   ]
  },
  {
   "cell_type": "markdown",
   "metadata": {},
   "source": [
    "----\n",
    "\n",
    "Created by [Tim Sherratt](https://timsherratt.org/) for the [GLAM Workbench](https://glam-workbench.github.io/)."
   ]
  },
  {
   "cell_type": "code",
   "execution_count": null,
   "metadata": {},
   "outputs": [],
   "source": []
  }
 ],
 "metadata": {
  "kernelspec": {
   "display_name": "Python 3",
   "language": "python",
   "name": "python3"
  },
  "language_info": {
   "codemirror_mode": {
    "name": "ipython",
    "version": 3
   },
   "file_extension": ".py",
   "mimetype": "text/x-python",
   "name": "python",
   "nbconvert_exporter": "python",
   "pygments_lexer": "ipython3",
   "version": "3.8.5"
  }
 },
 "nbformat": 4,
 "nbformat_minor": 4
}
