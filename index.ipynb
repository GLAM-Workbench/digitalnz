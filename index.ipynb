{
 "cells": [
  {
   "cell_type": "markdown",
   "id": "968a11ce",
   "metadata": {},
   "source": [
    "# DigitalNZ\n",
    "\n",
    "Current version: [v1.0.0](https://github.com/GLAM-Workbench/digitalnz/releases/tag/v1.0.0)\n",
    "\n",
    "Jupyter notebooks to work with data from DigitalNZ's API. For more information see the [DigitalNZ](https://glam-workbench.net/digitalnz/) section of the GLAM Workbench.\n",
    "\n",
    "## Notebook topics\n",
    "\n",
    "### Exploring the API\n",
    "\n",
    "* [Build a DigitalNZ API search query](build_api_query.ipynb) – experiment with the DigitalNZ search API\n",
    "* [Getting some top-level data from the DigitalNZ API](Top-level-data-in-DigitalNZ.ipynb) – poke around at the top-level of DigitalNZ, mainly using facets to generate some collection overviews and summaries\n",
    "\n",
    "### Harvesting data\n",
    "\n",
    "* [Harvest facet data from DigitalNZ](harvest_facet_data.ipynb) – explores what facets are available from the DigitalNZ API and demonstrates how to harvest data from them\n",
    "* [Harvest data from Papers Past](Harvest-data-from-PapersPast.ipynb) – harvest large amounts of data from [Papers Past](https://paperspast.natlib.govt.nz/) (via DigitalNZ) for further analysis\n",
    "\n",
    "### Tips and tricks\n",
    "\n",
    "* [Select a random(ish) record from DigitalNZ](select_a_random_record.ipynb) – examines the available facets, then uses them to reduce the size of the results set until it's possible to select a random record\n",
    "* [Find results by country in DigitalNZ](Results-by-country-in-DigitalNZ.ipynb) – find records relating to particular countries by searching for geocoded locations using bounding boxes\n",
    "\n",
    "### Visualising collections\n",
    "\n",
    "* [QueryPic DigitalNZ](querypic_papers_past.ipynb) – a web app to visualise searches in Papers Past over time\n",
    "* [Visualise a search in Papers Past](Visualise-a-search-in-PapersPast.ipynb) – create a simple visualisation showing the distribution of a search over time and by newspaper\n",
    "* [Papers Past newspapers in DigitalNZ](papers_past_newspapers.ipynb) – displays details of the Papers Past newspapers available through DigitalNZ\n",
    "* [Visualising open collections in DigitalNZ](visualise_open_collections.ipynb) – assemble data relating to the `usage` status of collections and visualise the results in a suitably colourful burst of fireworks!\n",
    "\n",
    "## Datasets\n",
    "\n",
    "* [Summary of facets](https://github.com/GLAM-Workbench/digitalnz/blob/master/facets/facets.csv)\n",
    "* Individual facets:\n",
    "  * [collection.csv](https://github.com/GLAM-Workbench/digitalnz/blob/master/facets/category.csv)\n",
    "  * [creator.csv](https://github.com/GLAM-Workbench/digitalnz/blob/master/facets/creator.csv)\n",
    "  * [subject.csv](https://github.com/GLAM-Workbench/digitalnz/blob/master/facets/subject.csv)\n",
    "  * [format.csv](https://github.com/GLAM-Workbench/digitalnz/blob/master/facets/format.csv)\n",
    "  * [placename.csv](https://github.com/GLAM-Workbench/digitalnz/blob/master/facets/placename.csv)\n",
    "  * [decade.csv](https://github.com/GLAM-Workbench/digitalnz/blob/master/facets/decade.csv)\n",
    "  * [content_partner.csv](https://github.com/GLAM-Workbench/digitalnz/blob/master/facets/content_partner.csv)\n",
    "  * [language.csv](https://github.com/GLAM-Workbench/digitalnz/blob/master/facets/language.csv)\n",
    "  * [century.csv](https://github.com/GLAM-Workbench/digitalnz/blob/master/facets/century.csv)\n",
    "  * [usage.csv](https://github.com/GLAM-Workbench/digitalnz/blob/master/facets/usage.csv)\n",
    "  * [rights.csv](https://github.com/GLAM-Workbench/digitalnz/blob/master/facets/rights.csv)\n",
    "  * [year.csv](https://github.com/GLAM-Workbench/digitalnz/blob/master/facets/year.csv)\n",
    "  * [copyright.csv](https://github.com/GLAM-Workbench/digitalnz/blob/master/facets/copyright.csv)\n",
    "  * [dc_type.csv](https://github.com/GLAM-Workbench/digitalnz/blob/master/facets/dc_type.csv)\n",
    "  * [category.csv](https://github.com/GLAM-Workbench/digitalnz/blob/master/facets/category.csv)\n",
    "  * [primary_collection.csv](https://github.com/GLAM-Workbench/digitalnz/blob/master/facets/primary_collection.csv)\n",
    "* [collections_by_partner.csv](https://github.com/GLAM-Workbench/digitalnz/blob/master/facets/collections_by_partner.csv)\n",
    "* [usage_by_collection_and_partner.csv](https://github.com/GLAM-Workbench/digitalnz/blob/master/facets/collections_by_partner.csv)\n",
    "\n",
    "See the [GLAM Workbench for more details](https://glam-workbench.github.io/digitalnz/).\n"
   ]
  },
  {
   "cell_type": "markdown",
   "id": "8ae0b5ce",
   "metadata": {},
   "source": [
    "## Cite as\n",
    "\n",
    "See the GLAM Workbench or [Zenodo](https://doi.org/10.5281/zenodo.3544729) for up-to-date citation details.\n",
    "\n",
    "----\n",
    "\n",
    "This repository is part of the [GLAM Workbench](https://glam-workbench.net/). If you think this project is worthwhile, you can become [a GitHub sponsor](https://github.com/sponsors/wragge?o=esb)."
   ]
  }
 ],
 "metadata": {
  "jupytext": {
   "cell_metadata_filter": "-all"
  },
  "kernelspec": {
   "display_name": "Python 3 (ipykernel)",
   "language": "python",
   "name": "python3"
  }
 },
 "nbformat": 4,
 "nbformat_minor": 5
}
