{
 "cells": [
  {
   "cell_type": "markdown",
   "metadata": {},
   "source": [
    "# Visualising open collections in DigitalNZ\n",
    "\n",
    "DigitalNZ's `usage` facet lets you know what you can do with an item. The possible values are:\n",
    "\n",
    "* Share\n",
    "* Modify\n",
    "* Use commercially\n",
    "* All rights reserved\n",
    "* Unknown\n",
    "\n",
    "I've already harvested the [totals for each facet value](facets/usage.csv). You can find out more about [harvesting facet data in this notebook](harvest_facet_data.ipynb). Let's look at the totals."
   ]
  },
  {
   "cell_type": "code",
   "execution_count": 1,
   "metadata": {},
   "outputs": [
    {
     "data": {
      "text/html": [
       "<div>\n",
       "<style scoped>\n",
       "    .dataframe tbody tr th:only-of-type {\n",
       "        vertical-align: middle;\n",
       "    }\n",
       "\n",
       "    .dataframe tbody tr th {\n",
       "        vertical-align: top;\n",
       "    }\n",
       "\n",
       "    .dataframe thead th {\n",
       "        text-align: right;\n",
       "    }\n",
       "</style>\n",
       "<table border=\"1\" class=\"dataframe\">\n",
       "  <thead>\n",
       "    <tr style=\"text-align: right;\">\n",
       "      <th></th>\n",
       "      <th>value</th>\n",
       "      <th>count</th>\n",
       "    </tr>\n",
       "  </thead>\n",
       "  <tbody>\n",
       "    <tr>\n",
       "      <th>0</th>\n",
       "      <td>Share</td>\n",
       "      <td>27004615</td>\n",
       "    </tr>\n",
       "    <tr>\n",
       "      <th>1</th>\n",
       "      <td>Modify</td>\n",
       "      <td>26714337</td>\n",
       "    </tr>\n",
       "    <tr>\n",
       "      <th>2</th>\n",
       "      <td>Use commercially</td>\n",
       "      <td>22641258</td>\n",
       "    </tr>\n",
       "    <tr>\n",
       "      <th>3</th>\n",
       "      <td>All rights reserved</td>\n",
       "      <td>4200830</td>\n",
       "    </tr>\n",
       "    <tr>\n",
       "      <th>4</th>\n",
       "      <td>Unknown</td>\n",
       "      <td>347738</td>\n",
       "    </tr>\n",
       "  </tbody>\n",
       "</table>\n",
       "</div>"
      ],
      "text/plain": [
       "                 value     count\n",
       "0                Share  27004615\n",
       "1               Modify  26714337\n",
       "2     Use commercially  22641258\n",
       "3  All rights reserved   4200830\n",
       "4              Unknown    347738"
      ]
     },
     "execution_count": 1,
     "metadata": {},
     "output_type": "execute_result"
    }
   ],
   "source": [
    "import pandas as pd\n",
    "from pathlib import Path\n",
    "\n",
    "df = pd.read_csv(Path('facets', 'usage.csv'))\n",
    "df"
   ]
  },
  {
   "cell_type": "markdown",
   "metadata": {},
   "source": [
    "In my head, I need to try and translate these back into copyright and CC licence equivalents. So 'Modify' would be CC-BY-ND, and 'Share' would be CC-BY-NC-ND. According to [open licence definitions](https://opendefinition.org/licenses/), NC and ND licences are not regarded as 'open'. So to find 'open' items in DigitalNZ we have to look for items that have a `usage` value of 'Use commercially'. Of course, many of these will have no known copyright restrictions rather than a CC licence.\n",
    "\n",
    "The 'Share', 'Modify', and 'Use commercially' values are not mututally exclusive. An item you can 'Use commercially', you can also 'Share'. This means items can have multiple values for `usage`. To find the total number of items with `usage` values we can try adding 'Share', 'All rights reserved', and 'Unknown' as there shouldn't be any overlap between these."
   ]
  },
  {
   "cell_type": "code",
   "execution_count": 2,
   "metadata": {},
   "outputs": [
    {
     "data": {
      "text/plain": [
       "31553183"
      ]
     },
     "execution_count": 2,
     "metadata": {},
     "output_type": "execute_result"
    }
   ],
   "source": [
    "df.loc[df['value'].isin(['Share', 'All rights reserved', 'Unknown'])]['count'].sum()"
   ]
  },
  {
   "cell_type": "markdown",
   "metadata": {},
   "source": [
    "So the percentage of open items in DigitalNZ is..."
   ]
  },
  {
   "cell_type": "code",
   "execution_count": 3,
   "metadata": {},
   "outputs": [
    {
     "name": "stdout",
     "output_type": "stream",
     "text": [
      "71.76%\n"
     ]
    }
   ],
   "source": [
    "print(f'{(22641258 / 31553183):.2%}')"
   ]
  },
  {
   "cell_type": "markdown",
   "metadata": {},
   "source": [
    "That's pretty good, though I suspect that this is dominated by out-of-copyright digitised newspaper articles from Papers Past.\n",
    "\n",
    "In this notebook I'm going to attempt a more fine-grained view by identifying and visualising individual collections within DigitalNZ that have open content."
   ]
  },
  {
   "cell_type": "markdown",
   "metadata": {},
   "source": [
    "## Import what we need"
   ]
  },
  {
   "cell_type": "code",
   "execution_count": 4,
   "metadata": {},
   "outputs": [],
   "source": [
    "import requests\n",
    "import requests_cache\n",
    "from tqdm.auto import tqdm\n",
    "import altair as alt\n",
    "\n",
    "s = requests_cache.CachedSession()"
   ]
  },
  {
   "cell_type": "code",
   "execution_count": 5,
   "metadata": {},
   "outputs": [],
   "source": [
    "API_KEY = '[YOUR API KEY]'\n",
    "API_KEY = '9yXNTynMDb3TUQws7QuD'\n",
    "API_URL = 'http://api.digitalnz.org/v3/records.json'"
   ]
  },
  {
   "cell_type": "markdown",
   "metadata": {},
   "source": [
    "## Define some functions"
   ]
  },
  {
   "cell_type": "code",
   "execution_count": 6,
   "metadata": {},
   "outputs": [],
   "source": [
    "def get_records(params):\n",
    "    '''\n",
    "    Get records from a search using the supplied parameters.\n",
    "    '''\n",
    "    response = s.get(API_URL, params=params)\n",
    "    return response.json()\n",
    "\n",
    "def harvest_facet_values(facet, **kwargs):\n",
    "    '''\n",
    "    Get all the values for the given facet.\n",
    "    Apply filters in kwargs.\n",
    "    '''\n",
    "    facets = {}\n",
    "    more = True\n",
    "    page = 1\n",
    "    params = {\n",
    "        'api_key': API_KEY,\n",
    "        'per_page': 0,\n",
    "        'facets': facet,\n",
    "        'facets_per_page': 350,\n",
    "    }\n",
    "    for k, v in kwargs.items():\n",
    "        if k == 'text':\n",
    "            params[k] = v\n",
    "        else:\n",
    "            params[f'and[{k}][]'] = v\n",
    "    while more:\n",
    "        params['facets_page'] = page\n",
    "        data = get_records(params)\n",
    "        if data['search']['facets'][facet]:\n",
    "            facets.update(data['search']['facets'][facet])\n",
    "            page += 1\n",
    "        else:\n",
    "            more = False\n",
    "        return facets"
   ]
  },
  {
   "cell_type": "markdown",
   "metadata": {},
   "source": [
    "## Assemble the data\n",
    "\n",
    "In another notebook, I've already harvested `primary_collection` facets for each `content_partner`. Here we'll add in the `usage` data for each collection."
   ]
  },
  {
   "cell_type": "code",
   "execution_count": 7,
   "metadata": {},
   "outputs": [],
   "source": [
    "# Open the collections by content partner data\n",
    "df_collections = pd.read_csv(Path('facets', 'collections_by_partner.csv'))"
   ]
  },
  {
   "cell_type": "code",
   "execution_count": 8,
   "metadata": {},
   "outputs": [],
   "source": [
    "dfs_usage = []\n",
    "\n",
    "# Loop through the collections by partner\n",
    "for row in df_collections.itertuples():\n",
    "    partner = row.content_partner\n",
    "    collection = row.primary_collection\n",
    "    \n",
    "    # Get the usage facet data for the collection\n",
    "    facets = harvest_facet_values('usage', content_partner=partner, primary_collection=collection)\n",
    "    if facets:\n",
    "        \n",
    "        # Convert the facets dict to a dataframe\n",
    "        df = pd.DataFrame.from_dict(facets, orient='index').reset_index()\n",
    "        df.columns = ['usage', 'count']\n",
    "        \n",
    "        # Adding numbers with usage values of 'Share', 'All rights reserved', & 'Unknown' should give us a total number of items\n",
    "        # Items that have usage values of 'Modify' & 'Use commerically' should be included in the 'Share' numbers\n",
    "        df['usage_total'] = df.loc[df['usage'].isin(['Share', 'All rights reserved', 'Unknown'])]['count'].sum()\n",
    "        \n",
    "        # Add partner and collection names to the df\n",
    "        df['content_partner'] = partner\n",
    "        df['primary_collection'] = collection\n",
    "        \n",
    "        # The number of items from the primary_collection facet\n",
    "        df['items_total'] = row.count\n",
    "        \n",
    "        # Add this df to a list of dfs\n",
    "        dfs_usage.append(df)\n",
    "\n",
    "# Merge the list of dfs into one big df\n",
    "df_usage = pd.concat(dfs_usage)"
   ]
  },
  {
   "cell_type": "markdown",
   "metadata": {},
   "source": [
    "Now we have a dataframe combining all the partner, collection and usage data."
   ]
  },
  {
   "cell_type": "code",
   "execution_count": 9,
   "metadata": {},
   "outputs": [
    {
     "data": {
      "text/html": [
       "<div>\n",
       "<style scoped>\n",
       "    .dataframe tbody tr th:only-of-type {\n",
       "        vertical-align: middle;\n",
       "    }\n",
       "\n",
       "    .dataframe tbody tr th {\n",
       "        vertical-align: top;\n",
       "    }\n",
       "\n",
       "    .dataframe thead th {\n",
       "        text-align: right;\n",
       "    }\n",
       "</style>\n",
       "<table border=\"1\" class=\"dataframe\">\n",
       "  <thead>\n",
       "    <tr style=\"text-align: right;\">\n",
       "      <th></th>\n",
       "      <th>content_partner</th>\n",
       "      <th>primary_collection</th>\n",
       "      <th>items_total</th>\n",
       "      <th>usage</th>\n",
       "      <th>count</th>\n",
       "      <th>usage_total</th>\n",
       "    </tr>\n",
       "  </thead>\n",
       "  <tbody>\n",
       "    <tr>\n",
       "      <th>0</th>\n",
       "      <td>95bFM</td>\n",
       "      <td>95bFM</td>\n",
       "      <td>9822</td>\n",
       "      <td>All rights reserved</td>\n",
       "      <td>11617</td>\n",
       "      <td>11617</td>\n",
       "    </tr>\n",
       "    <tr>\n",
       "      <th>0</th>\n",
       "      <td>95bFM</td>\n",
       "      <td>95bFM YouTube</td>\n",
       "      <td>709</td>\n",
       "      <td>All rights reserved</td>\n",
       "      <td>764</td>\n",
       "      <td>764</td>\n",
       "    </tr>\n",
       "    <tr>\n",
       "      <th>0</th>\n",
       "      <td>AgEcon Search</td>\n",
       "      <td>AgEcon Search</td>\n",
       "      <td>1527</td>\n",
       "      <td>All rights reserved</td>\n",
       "      <td>1527</td>\n",
       "      <td>1527</td>\n",
       "    </tr>\n",
       "    <tr>\n",
       "      <th>0</th>\n",
       "      <td>Air Force Museum of New Zealand</td>\n",
       "      <td>Air Force Museum of New Zealand Photograph Col...</td>\n",
       "      <td>16608</td>\n",
       "      <td>Share</td>\n",
       "      <td>24669</td>\n",
       "      <td>24700</td>\n",
       "    </tr>\n",
       "    <tr>\n",
       "      <th>1</th>\n",
       "      <td>Air Force Museum of New Zealand</td>\n",
       "      <td>Air Force Museum of New Zealand Photograph Col...</td>\n",
       "      <td>16608</td>\n",
       "      <td>Modify</td>\n",
       "      <td>24652</td>\n",
       "      <td>24700</td>\n",
       "    </tr>\n",
       "  </tbody>\n",
       "</table>\n",
       "</div>"
      ],
      "text/plain": [
       "                   content_partner  \\\n",
       "0                            95bFM   \n",
       "0                            95bFM   \n",
       "0                    AgEcon Search   \n",
       "0  Air Force Museum of New Zealand   \n",
       "1  Air Force Museum of New Zealand   \n",
       "\n",
       "                                  primary_collection  items_total  \\\n",
       "0                                              95bFM         9822   \n",
       "0                                      95bFM YouTube          709   \n",
       "0                                      AgEcon Search         1527   \n",
       "0  Air Force Museum of New Zealand Photograph Col...        16608   \n",
       "1  Air Force Museum of New Zealand Photograph Col...        16608   \n",
       "\n",
       "                 usage  count  usage_total  \n",
       "0  All rights reserved  11617        11617  \n",
       "0  All rights reserved    764          764  \n",
       "0  All rights reserved   1527         1527  \n",
       "0                Share  24669        24700  \n",
       "1               Modify  24652        24700  "
      ]
     },
     "execution_count": 9,
     "metadata": {},
     "output_type": "execute_result"
    }
   ],
   "source": [
    "# Reorder the columns\n",
    "df_usage = df_usage[['content_partner', 'primary_collection', 'items_total', 'usage', 'count', 'usage_total']].sort_values(by=['content_partner', 'primary_collection'])\n",
    "df_usage.head()"
   ]
  },
  {
   "cell_type": "markdown",
   "metadata": {},
   "source": [
    "Before we move on, I'm going to save this dataframe [as a CSV](facets/usage_by_collection_and_partner.csv) because it might be interesting to explore further."
   ]
  },
  {
   "cell_type": "code",
   "execution_count": 10,
   "metadata": {},
   "outputs": [],
   "source": [
    "df_usage.to_csv(Path('facets', 'usage_by_collection_and_partner.csv'), index=False)"
   ]
  },
  {
   "cell_type": "markdown",
   "metadata": {},
   "source": [
    "You might notice that I have two 'total' fields in the dataframe. One is the number of items returned by the `primary_collection` facet. The other is calculated by adding up the number of items with `usage` values of 'Share', 'All rights reserved', and 'Unknown'. All items with a usage value of 'Modify' or 'Use commercially' should also have a value of 'Share', so I don't include them in the total. Assuming that all items have a `usage` value, these two totals should be the same. But are they?\n",
    "\n",
    "The table below shows collections where the totals don't match. The good news is that most of them do, so my working assumptions seem pretty safe. But it seems that there are some items that don't have a `usage` value. In most cases the differences are small, but there are major disparities in the case of the Kura Heritage collections Online and the Turnbull Library's *Transactions & Proceedings of the Royal Society of NZ*. Below I'm going to use the total in order to calculate the proportion of items that are 'open'. So which value should I use? I'm going to go with the `usage_total` for now, because I know what that represents, but it would be easy to swap."
   ]
  },
  {
   "cell_type": "code",
   "execution_count": 11,
   "metadata": {},
   "outputs": [
    {
     "data": {
      "text/html": [
       "<div>\n",
       "<style scoped>\n",
       "    .dataframe tbody tr th:only-of-type {\n",
       "        vertical-align: middle;\n",
       "    }\n",
       "\n",
       "    .dataframe tbody tr th {\n",
       "        vertical-align: top;\n",
       "    }\n",
       "\n",
       "    .dataframe thead th {\n",
       "        text-align: right;\n",
       "    }\n",
       "</style>\n",
       "<table border=\"1\" class=\"dataframe\">\n",
       "  <thead>\n",
       "    <tr style=\"text-align: right;\">\n",
       "      <th></th>\n",
       "      <th>content_partner</th>\n",
       "      <th>primary_collection</th>\n",
       "      <th>items_total</th>\n",
       "      <th>usage</th>\n",
       "      <th>count</th>\n",
       "      <th>usage_total</th>\n",
       "    </tr>\n",
       "  </thead>\n",
       "  <tbody>\n",
       "    <tr>\n",
       "      <th>0</th>\n",
       "      <td>95bFM</td>\n",
       "      <td>95bFM</td>\n",
       "      <td>9822</td>\n",
       "      <td>All rights reserved</td>\n",
       "      <td>11617</td>\n",
       "      <td>11617</td>\n",
       "    </tr>\n",
       "    <tr>\n",
       "      <th>0</th>\n",
       "      <td>95bFM</td>\n",
       "      <td>95bFM YouTube</td>\n",
       "      <td>709</td>\n",
       "      <td>All rights reserved</td>\n",
       "      <td>764</td>\n",
       "      <td>764</td>\n",
       "    </tr>\n",
       "    <tr>\n",
       "      <th>0</th>\n",
       "      <td>Air Force Museum of New Zealand</td>\n",
       "      <td>Air Force Museum of New Zealand Photograph Col...</td>\n",
       "      <td>16608</td>\n",
       "      <td>Share</td>\n",
       "      <td>24669</td>\n",
       "      <td>24700</td>\n",
       "    </tr>\n",
       "    <tr>\n",
       "      <th>0</th>\n",
       "      <td>Alexander Turnbull Library</td>\n",
       "      <td>TAPUHI</td>\n",
       "      <td>333206</td>\n",
       "      <td>Unknown</td>\n",
       "      <td>215059</td>\n",
       "      <td>333317</td>\n",
       "    </tr>\n",
       "    <tr>\n",
       "      <th>0</th>\n",
       "      <td>Alexander Turnbull Library</td>\n",
       "      <td>Transactions and Proceedings of the Royal Soci...</td>\n",
       "      <td>37625</td>\n",
       "      <td>All rights reserved</td>\n",
       "      <td>4200</td>\n",
       "      <td>4200</td>\n",
       "    </tr>\n",
       "    <tr>\n",
       "      <th>...</th>\n",
       "      <td>...</td>\n",
       "      <td>...</td>\n",
       "      <td>...</td>\n",
       "      <td>...</td>\n",
       "      <td>...</td>\n",
       "      <td>...</td>\n",
       "    </tr>\n",
       "    <tr>\n",
       "      <th>0</th>\n",
       "      <td>Whangarei Libraries</td>\n",
       "      <td>Whangarei Libraries</td>\n",
       "      <td>2662</td>\n",
       "      <td>All rights reserved</td>\n",
       "      <td>2794</td>\n",
       "      <td>2794</td>\n",
       "    </tr>\n",
       "    <tr>\n",
       "      <th>0</th>\n",
       "      <td>Young Ocean Explorers</td>\n",
       "      <td>Young Ocean Explorers</td>\n",
       "      <td>289</td>\n",
       "      <td>All rights reserved</td>\n",
       "      <td>322</td>\n",
       "      <td>322</td>\n",
       "    </tr>\n",
       "    <tr>\n",
       "      <th>0</th>\n",
       "      <td>data.govt.nz</td>\n",
       "      <td>data.govt.nz</td>\n",
       "      <td>27418</td>\n",
       "      <td>Share</td>\n",
       "      <td>24767</td>\n",
       "      <td>31485</td>\n",
       "    </tr>\n",
       "    <tr>\n",
       "      <th>0</th>\n",
       "      <td>eqnz.chch.2010</td>\n",
       "      <td>Flickr</td>\n",
       "      <td>6111</td>\n",
       "      <td>Share</td>\n",
       "      <td>4237</td>\n",
       "      <td>6112</td>\n",
       "    </tr>\n",
       "    <tr>\n",
       "      <th>0</th>\n",
       "      <td>iNaturalist NZ — Mātaki Taiao</td>\n",
       "      <td>iNaturalist NZ — Mātaki Taiao</td>\n",
       "      <td>527674</td>\n",
       "      <td>Share</td>\n",
       "      <td>514936</td>\n",
       "      <td>571510</td>\n",
       "    </tr>\n",
       "  </tbody>\n",
       "</table>\n",
       "<p>146 rows × 6 columns</p>\n",
       "</div>"
      ],
      "text/plain": [
       "                    content_partner  \\\n",
       "0                             95bFM   \n",
       "0                             95bFM   \n",
       "0   Air Force Museum of New Zealand   \n",
       "0        Alexander Turnbull Library   \n",
       "0        Alexander Turnbull Library   \n",
       "..                              ...   \n",
       "0               Whangarei Libraries   \n",
       "0             Young Ocean Explorers   \n",
       "0                      data.govt.nz   \n",
       "0                    eqnz.chch.2010   \n",
       "0     iNaturalist NZ — Mātaki Taiao   \n",
       "\n",
       "                                   primary_collection  items_total  \\\n",
       "0                                               95bFM         9822   \n",
       "0                                       95bFM YouTube          709   \n",
       "0   Air Force Museum of New Zealand Photograph Col...        16608   \n",
       "0                                              TAPUHI       333206   \n",
       "0   Transactions and Proceedings of the Royal Soci...        37625   \n",
       "..                                                ...          ...   \n",
       "0                                 Whangarei Libraries         2662   \n",
       "0                               Young Ocean Explorers          289   \n",
       "0                                        data.govt.nz        27418   \n",
       "0                                              Flickr         6111   \n",
       "0                       iNaturalist NZ — Mātaki Taiao       527674   \n",
       "\n",
       "                  usage   count  usage_total  \n",
       "0   All rights reserved   11617        11617  \n",
       "0   All rights reserved     764          764  \n",
       "0                 Share   24669        24700  \n",
       "0               Unknown  215059       333317  \n",
       "0   All rights reserved    4200         4200  \n",
       "..                  ...     ...          ...  \n",
       "0   All rights reserved    2794         2794  \n",
       "0   All rights reserved     322          322  \n",
       "0                 Share   24767        31485  \n",
       "0                 Share    4237         6112  \n",
       "0                 Share  514936       571510  \n",
       "\n",
       "[146 rows x 6 columns]"
      ]
     },
     "execution_count": 11,
     "metadata": {},
     "output_type": "execute_result"
    }
   ],
   "source": [
    "df_usage.loc[df_usage['items_total'] != df_usage['usage_total']].drop_duplicates(subset=['content_partner', 'primary_collection', 'items_total', 'usage_total'])"
   ]
  },
  {
   "cell_type": "markdown",
   "metadata": {},
   "source": [
    "Now we'll calculate what proprtion of each collection is open, by dividing the number with a `usage` value of 'Use commercially', but the total number of items with `usage` values. "
   ]
  },
  {
   "cell_type": "code",
   "execution_count": 12,
   "metadata": {},
   "outputs": [],
   "source": [
    "# Only use rows where usage value is 'Use commercially'\n",
    "df_open = df_usage.loc[df_usage['usage'] == 'Use commercially'].copy()\n",
    "\n",
    "# Calculate the proportion of items that are open by dividing those you can use commercially by the total\n",
    "df_open['open'] = df_open.apply(lambda x: x['count'] / x['usage_total'], axis=1)\n",
    "\n",
    "# Some collection names are the same, so we'll combine the partner & collection name to create a unique label for Altair\n",
    "df_open['label'] = df_open.agg(lambda x: f'{x[\"primary_collection\"]} ({x[\"content_partner\"]})', axis=1)"
   ]
  },
  {
   "cell_type": "code",
   "execution_count": 13,
   "metadata": {},
   "outputs": [
    {
     "data": {
      "text/html": [
       "<div>\n",
       "<style scoped>\n",
       "    .dataframe tbody tr th:only-of-type {\n",
       "        vertical-align: middle;\n",
       "    }\n",
       "\n",
       "    .dataframe tbody tr th {\n",
       "        vertical-align: top;\n",
       "    }\n",
       "\n",
       "    .dataframe thead th {\n",
       "        text-align: right;\n",
       "    }\n",
       "</style>\n",
       "<table border=\"1\" class=\"dataframe\">\n",
       "  <thead>\n",
       "    <tr style=\"text-align: right;\">\n",
       "      <th></th>\n",
       "      <th>content_partner</th>\n",
       "      <th>primary_collection</th>\n",
       "      <th>items_total</th>\n",
       "      <th>usage</th>\n",
       "      <th>count</th>\n",
       "      <th>usage_total</th>\n",
       "      <th>open</th>\n",
       "      <th>label</th>\n",
       "    </tr>\n",
       "  </thead>\n",
       "  <tbody>\n",
       "    <tr>\n",
       "      <th>2</th>\n",
       "      <td>Air Force Museum of New Zealand</td>\n",
       "      <td>Air Force Museum of New Zealand Photograph Col...</td>\n",
       "      <td>16608</td>\n",
       "      <td>Use commercially</td>\n",
       "      <td>6312</td>\n",
       "      <td>24700</td>\n",
       "      <td>0.255547</td>\n",
       "      <td>Air Force Museum of New Zealand Photograph Col...</td>\n",
       "    </tr>\n",
       "    <tr>\n",
       "      <th>2</th>\n",
       "      <td>Alexander Turnbull Library</td>\n",
       "      <td>Alexander Turnbull Library Flickr</td>\n",
       "      <td>4307</td>\n",
       "      <td>Use commercially</td>\n",
       "      <td>4307</td>\n",
       "      <td>4307</td>\n",
       "      <td>1.000000</td>\n",
       "      <td>Alexander Turnbull Library Flickr (Alexander T...</td>\n",
       "    </tr>\n",
       "    <tr>\n",
       "      <th>4</th>\n",
       "      <td>Alexander Turnbull Library</td>\n",
       "      <td>TAPUHI</td>\n",
       "      <td>333206</td>\n",
       "      <td>Use commercially</td>\n",
       "      <td>52734</td>\n",
       "      <td>333317</td>\n",
       "      <td>0.158210</td>\n",
       "      <td>TAPUHI (Alexander Turnbull Library)</td>\n",
       "    </tr>\n",
       "    <tr>\n",
       "      <th>2</th>\n",
       "      <td>Antarctica New Zealand</td>\n",
       "      <td>Antarctica NZ Digital Asset Manager</td>\n",
       "      <td>55348</td>\n",
       "      <td>Use commercially</td>\n",
       "      <td>1768</td>\n",
       "      <td>58934</td>\n",
       "      <td>0.030000</td>\n",
       "      <td>Antarctica NZ Digital Asset Manager (Antarctic...</td>\n",
       "    </tr>\n",
       "    <tr>\n",
       "      <th>4</th>\n",
       "      <td>Archives Central</td>\n",
       "      <td>Archives Central</td>\n",
       "      <td>7113</td>\n",
       "      <td>Use commercially</td>\n",
       "      <td>31</td>\n",
       "      <td>7619</td>\n",
       "      <td>0.004069</td>\n",
       "      <td>Archives Central (Archives Central)</td>\n",
       "    </tr>\n",
       "  </tbody>\n",
       "</table>\n",
       "</div>"
      ],
      "text/plain": [
       "                   content_partner  \\\n",
       "2  Air Force Museum of New Zealand   \n",
       "2       Alexander Turnbull Library   \n",
       "4       Alexander Turnbull Library   \n",
       "2           Antarctica New Zealand   \n",
       "4                 Archives Central   \n",
       "\n",
       "                                  primary_collection  items_total  \\\n",
       "2  Air Force Museum of New Zealand Photograph Col...        16608   \n",
       "2                  Alexander Turnbull Library Flickr         4307   \n",
       "4                                             TAPUHI       333206   \n",
       "2                Antarctica NZ Digital Asset Manager        55348   \n",
       "4                                   Archives Central         7113   \n",
       "\n",
       "              usage  count  usage_total      open  \\\n",
       "2  Use commercially   6312        24700  0.255547   \n",
       "2  Use commercially   4307         4307  1.000000   \n",
       "4  Use commercially  52734       333317  0.158210   \n",
       "2  Use commercially   1768        58934  0.030000   \n",
       "4  Use commercially     31         7619  0.004069   \n",
       "\n",
       "                                               label  \n",
       "2  Air Force Museum of New Zealand Photograph Col...  \n",
       "2  Alexander Turnbull Library Flickr (Alexander T...  \n",
       "4                TAPUHI (Alexander Turnbull Library)  \n",
       "2  Antarctica NZ Digital Asset Manager (Antarctic...  \n",
       "4                Archives Central (Archives Central)  "
      ]
     },
     "execution_count": 13,
     "metadata": {},
     "output_type": "execute_result"
    }
   ],
   "source": [
    "df_open.head()"
   ]
  },
  {
   "cell_type": "markdown",
   "metadata": {},
   "source": [
    "We're ready to make a chart!"
   ]
  },
  {
   "cell_type": "markdown",
   "metadata": {},
   "source": [
    "## Visualise the results!\n",
    "\n",
    "For something a bit different, and to celebrate the fact that GLAM organisations are making their collections openly available, I thought I'd attempt a fireworks theme for this visualisation. It's a bit of an experiment, but also a demonstration on how easy it is to play around with styles in Altair."
   ]
  },
  {
   "cell_type": "code",
   "execution_count": 14,
   "metadata": {},
   "outputs": [
    {
     "data": {
      "text/html": [
       "\n",
       "<div id=\"altair-viz-cbe055eba074465b8679deab0ad24ddd\"></div>\n",
       "<script type=\"text/javascript\">\n",
       "  (function(spec, embedOpt){\n",
       "    let outputDiv = document.currentScript.previousElementSibling;\n",
       "    if (outputDiv.id !== \"altair-viz-cbe055eba074465b8679deab0ad24ddd\") {\n",
       "      outputDiv = document.getElementById(\"altair-viz-cbe055eba074465b8679deab0ad24ddd\");\n",
       "    }\n",
       "    const paths = {\n",
       "      \"vega\": \"https://cdn.jsdelivr.net/npm//vega@5?noext\",\n",
       "      \"vega-lib\": \"https://cdn.jsdelivr.net/npm//vega-lib?noext\",\n",
       "      \"vega-lite\": \"https://cdn.jsdelivr.net/npm//vega-lite@4.8.1?noext\",\n",
       "      \"vega-embed\": \"https://cdn.jsdelivr.net/npm//vega-embed@6?noext\",\n",
       "    };\n",
       "\n",
       "    function loadScript(lib) {\n",
       "      return new Promise(function(resolve, reject) {\n",
       "        var s = document.createElement('script');\n",
       "        s.src = paths[lib];\n",
       "        s.async = true;\n",
       "        s.onload = () => resolve(paths[lib]);\n",
       "        s.onerror = () => reject(`Error loading script: ${paths[lib]}`);\n",
       "        document.getElementsByTagName(\"head\")[0].appendChild(s);\n",
       "      });\n",
       "    }\n",
       "\n",
       "    function showError(err) {\n",
       "      outputDiv.innerHTML = `<div class=\"error\" style=\"color:red;\">${err}</div>`;\n",
       "      throw err;\n",
       "    }\n",
       "\n",
       "    function displayChart(vegaEmbed) {\n",
       "      vegaEmbed(outputDiv, spec, embedOpt)\n",
       "        .catch(err => showError(`Javascript Error: ${err.message}<br>This usually means there's a typo in your chart specification. See the javascript console for the full traceback.`));\n",
       "    }\n",
       "\n",
       "    if(typeof define === \"function\" && define.amd) {\n",
       "      requirejs.config({paths});\n",
       "      require([\"vega-embed\"], displayChart, err => showError(`Error loading script: ${err.message}`));\n",
       "    } else if (typeof vegaEmbed === \"function\") {\n",
       "      displayChart(vegaEmbed);\n",
       "    } else {\n",
       "      loadScript(\"vega\")\n",
       "        .then(() => loadScript(\"vega-lite\"))\n",
       "        .then(() => loadScript(\"vega-embed\"))\n",
       "        .catch(showError)\n",
       "        .then(() => displayChart(vegaEmbed));\n",
       "    }\n",
       "  })({\"usermeta\": {\"embedOptions\": {\"theme\": \"dark\"}}, \"config\": {\"view\": {\"continuousWidth\": 400, \"continuousHeight\": 300, \"strokeWidth\": 0}, \"axis\": {\"domainColor\": \"#999999\", \"grid\": false, \"labelColor\": \"#999999\", \"tickColor\": \"#999999\", \"titleColor\": \"#999999\"}, \"legend\": {\"labelColor\": \"#999999\", \"symbolBaseFillColor\": \"#666666\", \"symbolStrokeWidth\": 0, \"titleColor\": \"#999999\"}, \"title\": {\"color\": \"#999999\"}}, \"layer\": [{\"mark\": {\"type\": \"bar\", \"opacity\": 0.3, \"size\": 2, \"stroke\": \"white\", \"strokeDash\": [2, 2], \"strokeOpacity\": 0.2, \"strokeWidth\": 1}, \"encoding\": {\"color\": {\"type\": \"nominal\", \"field\": \"content_partner\", \"legend\": null}, \"tooltip\": [{\"type\": \"nominal\", \"field\": \"content_partner\", \"title\": \"Partner\"}, {\"type\": \"nominal\", \"field\": \"primary_collection\", \"title\": \"Collection\"}, {\"type\": \"quantitative\", \"field\": \"usage_total\", \"format\": \",\", \"title\": \"Total items\"}, {\"type\": \"quantitative\", \"field\": \"open\", \"format\": \".2%\", \"title\": \"Percent open\"}], \"x\": {\"type\": \"nominal\", \"field\": \"label\", \"title\": \"Collection\"}, \"y\": {\"type\": \"quantitative\", \"axis\": {\"format\": \"%\", \"grid\": false}, \"field\": \"open\", \"title\": \"Percent open\"}}}, {\"mark\": {\"type\": \"circle\", \"opacity\": 0.8, \"stroke\": \"white\", \"strokeDash\": [3, 1], \"strokeOpacity\": 0.2, \"strokeWidth\": 20}, \"encoding\": {\"color\": {\"type\": \"nominal\", \"field\": \"content_partner\", \"legend\": null}, \"size\": {\"type\": \"quantitative\", \"field\": \"usage_total\", \"scale\": {\"range\": [1, 6000], \"type\": \"log\"}, \"title\": \"Total items\"}, \"tooltip\": [{\"type\": \"nominal\", \"field\": \"content_partner\", \"title\": \"Partner\"}, {\"type\": \"nominal\", \"field\": \"primary_collection\", \"title\": \"Collection\"}, {\"type\": \"quantitative\", \"field\": \"usage_total\", \"format\": \",\", \"title\": \"Total items\"}, {\"type\": \"quantitative\", \"field\": \"open\", \"format\": \".2%\", \"title\": \"Percent open\"}], \"x\": {\"type\": \"nominal\", \"field\": \"label\", \"title\": \"Collection\"}, \"y\": {\"type\": \"quantitative\", \"axis\": {\"format\": \"%\", \"grid\": false}, \"field\": \"open\", \"title\": \"Percent open\"}}}], \"data\": {\"name\": \"data-8b9886e8b24a26a92e0f7a54c48e8f5b\"}, \"height\": 500, \"title\": \"Collections in DigitalNZ with open content (commercial use allowed)\", \"width\": 2500, \"$schema\": \"https://vega.github.io/schema/vega-lite/v4.8.1.json\", \"datasets\": {\"data-8b9886e8b24a26a92e0f7a54c48e8f5b\": [{\"content_partner\": \"Air Force Museum of New Zealand\", \"primary_collection\": \"Air Force Museum of New Zealand Photograph Collection\", \"items_total\": 16608, \"usage\": \"Use commercially\", \"count\": 6312, \"usage_total\": 24700, \"open\": 0.2555465587044534, \"label\": \"Air Force Museum of New Zealand Photograph Collection (Air Force Museum of New Zealand)\"}, {\"content_partner\": \"Alexander Turnbull Library\", \"primary_collection\": \"Alexander Turnbull Library Flickr\", \"items_total\": 4307, \"usage\": \"Use commercially\", \"count\": 4307, \"usage_total\": 4307, \"open\": 1.0, \"label\": \"Alexander Turnbull Library Flickr (Alexander Turnbull Library)\"}, {\"content_partner\": \"Alexander Turnbull Library\", \"primary_collection\": \"TAPUHI\", \"items_total\": 333206, \"usage\": \"Use commercially\", \"count\": 52734, \"usage_total\": 333317, \"open\": 0.1582097522778616, \"label\": \"TAPUHI (Alexander Turnbull Library)\"}, {\"content_partner\": \"Antarctica New Zealand\", \"primary_collection\": \"Antarctica NZ Digital Asset Manager\", \"items_total\": 55348, \"usage\": \"Use commercially\", \"count\": 1768, \"usage_total\": 58934, \"open\": 0.02999966063732311, \"label\": \"Antarctica NZ Digital Asset Manager (Antarctica New Zealand)\"}, {\"content_partner\": \"Archives Central\", \"primary_collection\": \"Archives Central\", \"items_total\": 7113, \"usage\": \"Use commercially\", \"count\": 31, \"usage_total\": 7619, \"open\": 0.004068775429846436, \"label\": \"Archives Central (Archives Central)\"}, {\"content_partner\": \"Archives New Zealand Te Rua Mahara o te K\\u0101wanatanga\", \"primary_collection\": \"Archives New Zealand Historical Film Footage\", \"items_total\": 47, \"usage\": \"Use commercially\", \"count\": 47, \"usage_total\": 47, \"open\": 1.0, \"label\": \"Archives New Zealand Historical Film Footage (Archives New Zealand Te Rua Mahara o te K\\u0101wanatanga)\"}, {\"content_partner\": \"Archives New Zealand Te Rua Mahara o te K\\u0101wanatanga\", \"primary_collection\": \"Archives New Zealand Te Rua Mahara o te K\\u0101wanatanga Flickr\", \"items_total\": 4914, \"usage\": \"Use commercially\", \"count\": 5109, \"usage_total\": 5124, \"open\": 0.997072599531616, \"label\": \"Archives New Zealand Te Rua Mahara o te K\\u0101wanatanga Flickr (Archives New Zealand Te Rua Mahara o te K\\u0101wanatanga)\"}, {\"content_partner\": \"Archives New Zealand Te Rua Mahara o te K\\u0101wanatanga\", \"primary_collection\": \"Archives New Zealand YouTube\", \"items_total\": 592, \"usage\": \"Use commercially\", \"count\": 692, \"usage_total\": 876, \"open\": 0.7899543378995434, \"label\": \"Archives New Zealand YouTube (Archives New Zealand Te Rua Mahara o te K\\u0101wanatanga)\"}, {\"content_partner\": \"Archives New Zealand Te Rua Mahara o te K\\u0101wanatanga\", \"primary_collection\": \"Shared Repository\", \"items_total\": 2, \"usage\": \"Use commercially\", \"count\": 2, \"usage_total\": 2, \"open\": 1.0, \"label\": \"Shared Repository (Archives New Zealand Te Rua Mahara o te K\\u0101wanatanga)\"}, {\"content_partner\": \"Archives New Zealand Te Rua Mahara o te K\\u0101wanatanga\", \"primary_collection\": \"War Art Online\", \"items_total\": 1477, \"usage\": \"Use commercially\", \"count\": 1477, \"usage_total\": 1477, \"open\": 1.0, \"label\": \"War Art Online (Archives New Zealand Te Rua Mahara o te K\\u0101wanatanga)\"}, {\"content_partner\": \"Auckland Art Gallery Toi o T\\u0101maki\", \"primary_collection\": \"Auckland Art Gallery Toi o T\\u0101maki\", \"items_total\": 17251, \"usage\": \"Use commercially\", \"count\": 9013, \"usage_total\": 17364, \"open\": 0.5190624280119788, \"label\": \"Auckland Art Gallery Toi o T\\u0101maki (Auckland Art Gallery Toi o T\\u0101maki)\"}, {\"content_partner\": \"Auckland Libraries\", \"primary_collection\": \"Auckland Libraries Heritage Images Collection\", \"items_total\": 270234, \"usage\": \"Use commercially\", \"count\": 206412, \"usage_total\": 267112, \"open\": 0.772754499985025, \"label\": \"Auckland Libraries Heritage Images Collection (Auckland Libraries)\"}, {\"content_partner\": \"Auckland Libraries\", \"primary_collection\": \"Kura Heritage Collections Online\", \"items_total\": 109816, \"usage\": \"Use commercially\", \"count\": 54113, \"usage_total\": 71695, \"open\": 0.7547667201339006, \"label\": \"Kura Heritage Collections Online (Auckland Libraries)\"}, {\"content_partner\": \"Auckland University of Technology\", \"primary_collection\": \"Tuwhera\", \"items_total\": 7686, \"usage\": \"Use commercially\", \"count\": 435, \"usage_total\": 7729, \"open\": 0.056281537068184756, \"label\": \"Tuwhera (Auckland University of Technology)\"}, {\"content_partner\": \"Auckland War Memorial Museum T\\u0101maki Paenga Hira\", \"primary_collection\": \"Auckland Museum Collections\", \"items_total\": 248155, \"usage\": \"Use commercially\", \"count\": 141899, \"usage_total\": 261411, \"open\": 0.5428195447016384, \"label\": \"Auckland Museum Collections (Auckland War Memorial Museum T\\u0101maki Paenga Hira)\"}, {\"content_partner\": \"Auckland War Memorial Museum T\\u0101maki Paenga Hira\", \"primary_collection\": \"Auckland War Memorial Museum T\\u0101maki Paenga Hira YouTube\", \"items_total\": 623, \"usage\": \"Use commercially\", \"count\": 5, \"usage_total\": 648, \"open\": 0.007716049382716049, \"label\": \"Auckland War Memorial Museum T\\u0101maki Paenga Hira YouTube (Auckland War Memorial Museum T\\u0101maki Paenga Hira)\"}, {\"content_partner\": \"Auckland War Memorial Museum T\\u0101maki Paenga Hira\", \"primary_collection\": \"Cenotaph Database\", \"items_total\": 184397, \"usage\": \"Use commercially\", \"count\": 252931, \"usage_total\": 252931, \"open\": 1.0, \"label\": \"Cenotaph Database (Auckland War Memorial Museum T\\u0101maki Paenga Hira)\"}, {\"content_partner\": \"Australian National Maritime Museum\", \"primary_collection\": \"Australian National Maritime Museum Flickr\", \"items_total\": 126, \"usage\": \"Use commercially\", \"count\": 127, \"usage_total\": 127, \"open\": 1.0, \"label\": \"Australian National Maritime Museum Flickr (Australian National Maritime Museum)\"}, {\"content_partner\": \"Buller, Grey and Westland District Libraries\", \"primary_collection\": \"Kete West Coast\", \"items_total\": 3740, \"usage\": \"Use commercially\", \"count\": 452, \"usage_total\": 3742, \"open\": 0.1207910208444682, \"label\": \"Kete West Coast (Buller, Grey and Westland District Libraries)\"}, {\"content_partner\": \"Canterbury Museum\", \"primary_collection\": \"Canterbury Museum\", \"items_total\": 68842, \"usage\": \"Use commercially\", \"count\": 16383, \"usage_total\": 129754, \"open\": 0.12626200348351496, \"label\": \"Canterbury Museum (Canterbury Museum)\"}, {\"content_partner\": \"Department of Building and Housing\", \"primary_collection\": \"Shared Repository\", \"items_total\": 6, \"usage\": \"Use commercially\", \"count\": 1, \"usage_total\": 6, \"open\": 0.16666666666666666, \"label\": \"Shared Repository (Department of Building and Housing)\"}, {\"content_partner\": \"Department of Conservation Te Papa Atawhai\", \"primary_collection\": \"Department of Conservation Te Papa Atawhai YouTube\", \"items_total\": 806, \"usage\": \"Use commercially\", \"count\": 441, \"usage_total\": 828, \"open\": 0.532608695652174, \"label\": \"Department of Conservation Te Papa Atawhai YouTube (Department of Conservation Te Papa Atawhai)\"}, {\"content_partner\": \"Department of Internal Affairs\", \"primary_collection\": \"New Zealand Gazette\", \"items_total\": 218771, \"usage\": \"Use commercially\", \"count\": 223448, \"usage_total\": 223448, \"open\": 1.0, \"label\": \"New Zealand Gazette (Department of Internal Affairs)\"}, {\"content_partner\": \"Deutsche Digitale Bibliothek\", \"primary_collection\": \"Deutsche Digitale Bibliothek\", \"items_total\": 748, \"usage\": \"Use commercially\", \"count\": 690, \"usage_total\": 1016, \"open\": 0.6791338582677166, \"label\": \"Deutsche Digitale Bibliothek (Deutsche Digitale Bibliothek)\"}, {\"content_partner\": \"Digital Public Library of America\", \"primary_collection\": \"Digital Public Library of America\", \"items_total\": 19922, \"usage\": \"Use commercially\", \"count\": 4151, \"usage_total\": 22168, \"open\": 0.18725189462287983, \"label\": \"Digital Public Library of America (Digital Public Library of America)\"}, {\"content_partner\": \"DigitalNZ\", \"primary_collection\": \"DigitalNZ Website\", \"items_total\": 53, \"usage\": \"Use commercially\", \"count\": 53, \"usage_total\": 53, \"open\": 1.0, \"label\": \"DigitalNZ Website (DigitalNZ)\"}, {\"content_partner\": \"DigitalNZ\", \"primary_collection\": \"Make it Digital\", \"items_total\": 23, \"usage\": \"Use commercially\", \"count\": 23, \"usage_total\": 23, \"open\": 1.0, \"label\": \"Make it Digital (DigitalNZ)\"}, {\"content_partner\": \"Directory of Open Access Journals\", \"primary_collection\": \"Directory of Open Access Journals\", \"items_total\": 4104, \"usage\": \"Use commercially\", \"count\": 2942, \"usage_total\": 4104, \"open\": 0.7168615984405458, \"label\": \"Directory of Open Access Journals (Directory of Open Access Journals)\"}, {\"content_partner\": \"Dunedin City Council Archives\", \"primary_collection\": \"Dunedin City Council Archives Flickr\", \"items_total\": 1758, \"usage\": \"Use commercially\", \"count\": 1754, \"usage_total\": 1770, \"open\": 0.9909604519774011, \"label\": \"Dunedin City Council Archives Flickr (Dunedin City Council Archives)\"}, {\"content_partner\": \"Dunedin Public Libraries\", \"primary_collection\": \"He Purapura Marara Scattered Seeds\", \"items_total\": 2001, \"usage\": \"Use commercially\", \"count\": 315, \"usage_total\": 2246, \"open\": 0.1402493321460374, \"label\": \"He Purapura Marara Scattered Seeds (Dunedin Public Libraries)\"}, {\"content_partner\": \"Feilding Library\", \"primary_collection\": \"Feilding Library\", \"items_total\": 4062, \"usage\": \"Use commercially\", \"count\": 1319, \"usage_total\": 4062, \"open\": 0.32471688823239786, \"label\": \"Feilding Library (Feilding Library)\"}, {\"content_partner\": \"FigShare\", \"primary_collection\": \"FigShare\", \"items_total\": 4, \"usage\": \"Use commercially\", \"count\": 12076, \"usage_total\": 12076, \"open\": 1.0, \"label\": \"FigShare (FigShare)\"}, {\"content_partner\": \"Figure.NZ\", \"primary_collection\": \"Figure.NZ\", \"items_total\": 46308, \"usage\": \"Use commercially\", \"count\": 48309, \"usage_total\": 49517, \"open\": 0.9756043379041541, \"label\": \"Figure.NZ (Figure.NZ)\"}, {\"content_partner\": \"Free Music Archive\", \"primary_collection\": \"Free Music Archive\", \"items_total\": 5, \"usage\": \"Use commercially\", \"count\": 5, \"usage_total\": 5, \"open\": 1.0, \"label\": \"Free Music Archive (Free Music Archive)\"}, {\"content_partner\": \"Freesound\", \"primary_collection\": \"Freesound\", \"items_total\": 65, \"usage\": \"Use commercially\", \"count\": 55, \"usage_total\": 65, \"open\": 0.8461538461538461, \"label\": \"Freesound (Freesound)\"}, {\"content_partner\": \"HathiTrust\", \"primary_collection\": \"HathiTrust Digital Library\", \"items_total\": 2317, \"usage\": \"Use commercially\", \"count\": 56, \"usage_total\": 3826, \"open\": 0.014636696288552013, \"label\": \"HathiTrust Digital Library (HathiTrust)\"}, {\"content_partner\": \"Hurunui District Libraries\", \"primary_collection\": \"Hurunui Kete\", \"items_total\": 1521, \"usage\": \"Use commercially\", \"count\": 2, \"usage_total\": 1521, \"open\": 0.0013149243918474688, \"label\": \"Hurunui Kete (Hurunui District Libraries)\"}, {\"content_partner\": \"Hutt City Council\", \"primary_collection\": \"Hutt City Council Archives\", \"items_total\": 15899, \"usage\": \"Use commercially\", \"count\": 15899, \"usage_total\": 15899, \"open\": 1.0, \"label\": \"Hutt City Council Archives (Hutt City Council)\"}, {\"content_partner\": \"Hutt City Libraries\", \"primary_collection\": \"The Hutt City Libraries Online Heritage Collection\", \"items_total\": 794, \"usage\": \"Use commercially\", \"count\": 794, \"usage_total\": 794, \"open\": 1.0, \"label\": \"The Hutt City Libraries Online Heritage Collection (Hutt City Libraries)\"}, {\"content_partner\": \"Internet Archive\", \"primary_collection\": \"Internet Archive\", \"items_total\": 3, \"usage\": \"Use commercially\", \"count\": 1, \"usage_total\": 3, \"open\": 0.3333333333333333, \"label\": \"Internet Archive (Internet Archive)\"}, {\"content_partner\": \"John Kinder Theological Library\", \"primary_collection\": \"John Kinder Theological Library\", \"items_total\": 9126, \"usage\": \"Use commercially\", \"count\": 6655, \"usage_total\": 8057, \"open\": 0.8259898225145836, \"label\": \"John Kinder Theological Library (John Kinder Theological Library)\"}, {\"content_partner\": \"Kete Central Hawke's Bay\", \"primary_collection\": \"Kete Central Hawke's Bay\", \"items_total\": 429, \"usage\": \"Use commercially\", \"count\": 167, \"usage_total\": 429, \"open\": 0.38927738927738925, \"label\": \"Kete Central Hawke's Bay (Kete Central Hawke's Bay)\"}, {\"content_partner\": \"Kete Christchurch\", \"primary_collection\": \"Kete Christchurch\", \"items_total\": 45055, \"usage\": \"Use commercially\", \"count\": 231, \"usage_total\": 45056, \"open\": 0.005126953125, \"label\": \"Kete Christchurch (Kete Christchurch)\"}, {\"content_partner\": \"Kete Hauraki Coromandel\", \"primary_collection\": \"Kete Hauraki Coromandel\", \"items_total\": 925, \"usage\": \"Use commercially\", \"count\": 11, \"usage_total\": 925, \"open\": 0.011891891891891892, \"label\": \"Kete Hauraki Coromandel (Kete Hauraki Coromandel)\"}, {\"content_partner\": \"Kete Horowhenua\", \"primary_collection\": \"Kete Horowhenua\", \"items_total\": 29386, \"usage\": \"Use commercially\", \"count\": 580, \"usage_total\": 29431, \"open\": 0.019707111549046922, \"label\": \"Kete Horowhenua (Kete Horowhenua)\"}, {\"content_partner\": \"Kete King Country\", \"primary_collection\": \"Kete King Country\", \"items_total\": 264, \"usage\": \"Use commercially\", \"count\": 14, \"usage_total\": 264, \"open\": 0.05303030303030303, \"label\": \"Kete King Country (Kete King Country)\"}, {\"content_partner\": \"Kete New Plymouth\", \"primary_collection\": \"Kete New Plymouth\", \"items_total\": 33245, \"usage\": \"Use commercially\", \"count\": 15, \"usage_total\": 33782, \"open\": 0.0004440234444378663, \"label\": \"Kete New Plymouth (Kete New Plymouth)\"}, {\"content_partner\": \"Kete Rotorua\", \"primary_collection\": \"Kete Rotorua\", \"items_total\": 4258, \"usage\": \"Use commercially\", \"count\": 35, \"usage_total\": 4258, \"open\": 0.008219821512447158, \"label\": \"Kete Rotorua (Kete Rotorua)\"}, {\"content_partner\": \"Kete Selwyn\", \"primary_collection\": \"Kete Selwyn\", \"items_total\": 2815, \"usage\": \"Use commercially\", \"count\": 1, \"usage_total\": 2815, \"open\": 0.00035523978685612787, \"label\": \"Kete Selwyn (Kete Selwyn)\"}, {\"content_partner\": \"Kete Tasman\", \"primary_collection\": \"Kete Tasman\", \"items_total\": 2053, \"usage\": \"Use commercially\", \"count\": 9, \"usage_total\": 2067, \"open\": 0.0043541364296081275, \"label\": \"Kete Tasman (Kete Tasman)\"}, {\"content_partner\": \"LERNZdb\", \"primary_collection\": \"LERNZ Freshwater Database\", \"items_total\": 1193, \"usage\": \"Use commercially\", \"count\": 1193, \"usage_total\": 1193, \"open\": 1.0, \"label\": \"LERNZ Freshwater Database (LERNZdb)\"}, {\"content_partner\": \"Laurie Family\", \"primary_collection\": \"WRD Laurie World War One Photographs\", \"items_total\": 163, \"usage\": \"Use commercially\", \"count\": 162, \"usage_total\": 163, \"open\": 0.9938650306748467, \"label\": \"WRD Laurie World War One Photographs (Laurie Family)\"}, {\"content_partner\": \"Lincoln University\", \"primary_collection\": \"Data@Lincoln\", \"items_total\": 61, \"usage\": \"Use commercially\", \"count\": 60, \"usage_total\": 66, \"open\": 0.9090909090909091, \"label\": \"Data@Lincoln (Lincoln University)\"}, {\"content_partner\": \"Lincoln University\", \"primary_collection\": \"Landscape Review\", \"items_total\": 258, \"usage\": \"Use commercially\", \"count\": 258, \"usage_total\": 258, \"open\": 1.0, \"label\": \"Landscape Review (Lincoln University)\"}, {\"content_partner\": \"Lincoln University\", \"primary_collection\": \"Lincoln University Research Archive\", \"items_total\": 6435, \"usage\": \"Use commercially\", \"count\": 762, \"usage_total\": 6791, \"open\": 0.11220733323516419, \"label\": \"Lincoln University Research Archive (Lincoln University)\"}, {\"content_partner\": \"Lincoln University\", \"primary_collection\": \"Mahika Kai Journal\", \"items_total\": 7, \"usage\": \"Use commercially\", \"count\": 7, \"usage_total\": 7, \"open\": 1.0, \"label\": \"Mahika Kai Journal (Lincoln University)\"}, {\"content_partner\": \"MOTAT\", \"primary_collection\": \"MOTAT\", \"items_total\": 30749, \"usage\": \"Use commercially\", \"count\": 2847, \"usage_total\": 30953, \"open\": 0.09197816043679126, \"label\": \"MOTAT (MOTAT)\"}, {\"content_partner\": \"Manaaki Whenua \\u2013 Landcare Research\", \"primary_collection\": \"Flax Collection\", \"items_total\": 54, \"usage\": \"Use commercially\", \"count\": 54, \"usage_total\": 54, \"open\": 1.0, \"label\": \"Flax Collection (Manaaki Whenua \\u2013 Landcare Research)\"}, {\"content_partner\": \"Manaaki Whenua \\u2013 Landcare Research\", \"primary_collection\": \"Flora of New Zealand\", \"items_total\": 1476, \"usage\": \"Use commercially\", \"count\": 1438, \"usage_total\": 1442, \"open\": 0.9972260748959778, \"label\": \"Flora of New Zealand (Manaaki Whenua \\u2013 Landcare Research)\"}, {\"content_partner\": \"Manaaki Whenua \\u2013 Landcare Research\", \"primary_collection\": \"Landcare Research Digital Library\", \"items_total\": 7960, \"usage\": \"Use commercially\", \"count\": 1, \"usage_total\": 7962, \"open\": 0.00012559658377292137, \"label\": \"Landcare Research Digital Library (Manaaki Whenua \\u2013 Landcare Research)\"}, {\"content_partner\": \"Manaaki Whenua \\u2013 Landcare Research\", \"primary_collection\": \"NZFUNGI\", \"items_total\": 8674, \"usage\": \"Use commercially\", \"count\": 6646, \"usage_total\": 8674, \"open\": 0.766197832603182, \"label\": \"NZFUNGI (Manaaki Whenua \\u2013 Landcare Research)\"}, {\"content_partner\": \"Massey University\", \"primary_collection\": \"Massey Research Online\", \"items_total\": 13730, \"usage\": \"Use commercially\", \"count\": 245, \"usage_total\": 13979, \"open\": 0.017526289434151226, \"label\": \"Massey Research Online (Massey University)\"}, {\"content_partner\": \"Massey University\", \"primary_collection\": \"T\\u0101miro\", \"items_total\": 6910, \"usage\": \"Use commercially\", \"count\": 8162, \"usage_total\": 10001, \"open\": 0.8161183881611839, \"label\": \"T\\u0101miro (Massey University)\"}, {\"content_partner\": \"Mataura Museum\", \"primary_collection\": \"Mataura Museum NZMuseums\", \"items_total\": 3216, \"usage\": \"Use commercially\", \"count\": 53, \"usage_total\": 3251, \"open\": 0.016302676099661642, \"label\": \"Mataura Museum NZMuseums (Mataura Museum)\"}, {\"content_partner\": \"Mix & Mash 2011\", \"primary_collection\": \"Mix & Mash Literacy Category Content\", \"items_total\": 16, \"usage\": \"Use commercially\", \"count\": 3, \"usage_total\": 16, \"open\": 0.1875, \"label\": \"Mix & Mash Literacy Category Content (Mix & Mash 2011)\"}, {\"content_partner\": \"Museum of New Zealand Te Papa Tongarewa\", \"primary_collection\": \"Museum of New Zealand Te Papa Tongarewa YouTube\", \"items_total\": 707, \"usage\": \"Use commercially\", \"count\": 1, \"usage_total\": 630, \"open\": 0.0015873015873015873, \"label\": \"Museum of New Zealand Te Papa Tongarewa YouTube (Museum of New Zealand Te Papa Tongarewa)\"}, {\"content_partner\": \"Museum of New Zealand Te Papa Tongarewa\", \"primary_collection\": \"Te Papa Collections Online\", \"items_total\": 205169, \"usage\": \"Use commercially\", \"count\": 84411, \"usage_total\": 217715, \"open\": 0.3877132949038881, \"label\": \"Te Papa Collections Online (Museum of New Zealand Te Papa Tongarewa)\"}, {\"content_partner\": \"Museums Victoria\", \"primary_collection\": \"Museums Victoria\", \"items_total\": 2463, \"usage\": \"Use commercially\", \"count\": 1952, \"usage_total\": 2475, \"open\": 0.7886868686868687, \"label\": \"Museums Victoria (Museums Victoria)\"}, {\"content_partner\": \"NIWA\", \"primary_collection\": \"NIWA YouTube\", \"items_total\": 383, \"usage\": \"Use commercially\", \"count\": 70, \"usage_total\": 257, \"open\": 0.2723735408560311, \"label\": \"NIWA YouTube (NIWA)\"}, {\"content_partner\": \"NZEI Te Riu Roa (New Zealand Educational Institute)\", \"primary_collection\": \"NZEI Heritage\", \"items_total\": 5126, \"usage\": \"Use commercially\", \"count\": 1, \"usage_total\": 5126, \"open\": 0.00019508388607101054, \"label\": \"NZEI Heritage (NZEI Te Riu Roa (New Zealand Educational Institute))\"}, {\"content_partner\": \"National Library of New Zealand\", \"primary_collection\": \"AtoJsOnline\", \"items_total\": 6747, \"usage\": \"Use commercially\", \"count\": 6747, \"usage_total\": 6747, \"open\": 1.0, \"label\": \"AtoJsOnline (National Library of New Zealand)\"}, {\"content_partner\": \"National Library of New Zealand\", \"primary_collection\": \"National Library of New Zealand YouTube\", \"items_total\": 130, \"usage\": \"Use commercially\", \"count\": 115, \"usage_total\": 147, \"open\": 0.782312925170068, \"label\": \"National Library of New Zealand YouTube (National Library of New Zealand)\"}, {\"content_partner\": \"National Library of New Zealand\", \"primary_collection\": \"Papers Past\", \"items_total\": 26122911, \"usage\": \"Use commercially\", \"count\": 21117061, \"usage_total\": 26122911, \"open\": 0.8083731939369238, \"label\": \"Papers Past (National Library of New Zealand)\"}, {\"content_partner\": \"New Zealand Journal of Forestry Science\", \"primary_collection\": \"New Zealand Journal of Forestry Science\", \"items_total\": 94, \"usage\": \"Use commercially\", \"count\": 53, \"usage_total\": 94, \"open\": 0.5638297872340425, \"label\": \"New Zealand Journal of Forestry Science (New Zealand Journal of Forestry Science)\"}, {\"content_partner\": \"Palmerston North City Library\", \"primary_collection\": \"Manawat\\u016b Heritage\", \"items_total\": 18259, \"usage\": \"Use commercially\", \"count\": 12846, \"usage_total\": 18691, \"open\": 0.6872826494034562, \"label\": \"Manawat\\u016b Heritage (Palmerston North City Library)\"}, {\"content_partner\": \"Productivity Commission\", \"primary_collection\": \"Shared Repository\", \"items_total\": 5, \"usage\": \"Use commercially\", \"count\": 5, \"usage_total\": 5, \"open\": 1.0, \"label\": \"Shared Repository (Productivity Commission)\"}, {\"content_partner\": \"Sarjeant Gallery Te Whare o Rehua Whanganui\", \"primary_collection\": \"Sarjeant Gallery Te Whare o Rehua Whanganui\", \"items_total\": 4126, \"usage\": \"Use commercially\", \"count\": 2314, \"usage_total\": 4961, \"open\": 0.4664382181011893, \"label\": \"Sarjeant Gallery Te Whare o Rehua Whanganui (Sarjeant Gallery Te Whare o Rehua Whanganui)\"}, {\"content_partner\": \"Stardome Observatory & Planetarium\", \"primary_collection\": \"Stardome Education Resources\", \"items_total\": 67, \"usage\": \"Use commercially\", \"count\": 67, \"usage_total\": 67, \"open\": 1.0, \"label\": \"Stardome Education Resources (Stardome Observatory & Planetarium)\"}, {\"content_partner\": \"State Library of New South Wales\", \"primary_collection\": \"State Library of New South Wales Flickr\", \"items_total\": 159, \"usage\": \"Use commercially\", \"count\": 162, \"usage_total\": 162, \"open\": 1.0, \"label\": \"State Library of New South Wales Flickr (State Library of New South Wales)\"}, {\"content_partner\": \"State Library of Victoria\", \"primary_collection\": \"State Library of Victoria\", \"items_total\": 1229, \"usage\": \"Use commercially\", \"count\": 796, \"usage_total\": 856, \"open\": 0.9299065420560748, \"label\": \"State Library of Victoria (State Library of Victoria)\"}, {\"content_partner\": \"The British Library\", \"primary_collection\": \"The British Library Flickr\", \"items_total\": 2819, \"usage\": \"Use commercially\", \"count\": 2819, \"usage_total\": 2819, \"open\": 1.0, \"label\": \"The British Library Flickr (The British Library)\"}, {\"content_partner\": \"The National Archives UK\", \"primary_collection\": \"The National Archives UK Flickr\", \"items_total\": 100, \"usage\": \"Use commercially\", \"count\": 100, \"usage_total\": 100, \"open\": 1.0, \"label\": \"The National Archives UK Flickr (The National Archives UK)\"}, {\"content_partner\": \"The University of Auckland Library\", \"primary_collection\": \"Anthropology Photographic Archive\", \"items_total\": 53902, \"usage\": \"Use commercially\", \"count\": 1689, \"usage_total\": 51499, \"open\": 0.032796753335016214, \"label\": \"Anthropology Photographic Archive (The University of Auckland Library)\"}, {\"content_partner\": \"The University of Auckland Library\", \"primary_collection\": \"ResearchSpace@Auckland\", \"items_total\": 34178, \"usage\": \"Use commercially\", \"count\": 2972, \"usage_total\": 35016, \"open\": 0.08487548549234636, \"label\": \"ResearchSpace@Auckland (The University of Auckland Library)\"}, {\"content_partner\": \"Torpedo Bay Navy Museum\", \"primary_collection\": \"Navy Museum Medal Collection\", \"items_total\": 186, \"usage\": \"Use commercially\", \"count\": 20, \"usage_total\": 256, \"open\": 0.078125, \"label\": \"Navy Museum Medal Collection (Torpedo Bay Navy Museum)\"}, {\"content_partner\": \"Trove\", \"primary_collection\": \"Trove\", \"items_total\": 83289, \"usage\": \"Use commercially\", \"count\": 4261, \"usage_total\": 122094, \"open\": 0.034899339852900224, \"label\": \"Trove (Trove)\"}, {\"content_partner\": \"UC Department of Art History and Theory\", \"primary_collection\": \"Illumination & Commemoration\", \"items_total\": 123, \"usage\": \"Use commercially\", \"count\": 123, \"usage_total\": 123, \"open\": 1.0, \"label\": \"Illumination & Commemoration (UC Department of Art History and Theory)\"}, {\"content_partner\": \"UC QuakeStudies\", \"primary_collection\": \"QuakeStudies Repository\", \"items_total\": 128977, \"usage\": \"Use commercially\", \"count\": 1625, \"usage_total\": 129439, \"open\": 0.012554176098393838, \"label\": \"QuakeStudies Repository (UC QuakeStudies)\"}, {\"content_partner\": \"University of Canterbury Library\", \"primary_collection\": \"UC Research Repository\", \"items_total\": 17740, \"usage\": \"Use commercially\", \"count\": 1000, \"usage_total\": 18532, \"open\": 0.05396071659831642, \"label\": \"UC Research Repository (University of Canterbury Library)\"}, {\"content_partner\": \"University of Otago\", \"primary_collection\": \"Hocken Collections YouTube\", \"items_total\": 60, \"usage\": \"Use commercially\", \"count\": 1, \"usage_total\": 60, \"open\": 0.016666666666666666, \"label\": \"Hocken Collections YouTube (University of Otago)\"}, {\"content_partner\": \"University of Otago\", \"primary_collection\": \"Media Studies 101\", \"items_total\": 49, \"usage\": \"Use commercially\", \"count\": 49, \"usage_total\": 49, \"open\": 1.0, \"label\": \"Media Studies 101 (University of Otago)\"}, {\"content_partner\": \"University of Otago\", \"primary_collection\": \"Otago University Research Archive\", \"items_total\": 9054, \"usage\": \"Use commercially\", \"count\": 321, \"usage_total\": 9895, \"open\": 0.032440626579080346, \"label\": \"Otago University Research Archive (University of Otago)\"}, {\"content_partner\": \"University of Otago\", \"primary_collection\": \"Special Collection's Incunabula\", \"items_total\": 38, \"usage\": \"Use commercially\", \"count\": 38, \"usage_total\": 38, \"open\": 1.0, \"label\": \"Special Collection's Incunabula (University of Otago)\"}, {\"content_partner\": \"University of Waikato\", \"primary_collection\": \"British Parliamentary Papers\", \"items_total\": 45, \"usage\": \"Use commercially\", \"count\": 45, \"usage_total\": 45, \"open\": 1.0, \"label\": \"British Parliamentary Papers (University of Waikato)\"}, {\"content_partner\": \"University of Waikato\", \"primary_collection\": \"ResearchCommons@Waikato\", \"items_total\": 12433, \"usage\": \"Use commercially\", \"count\": 423, \"usage_total\": 12615, \"open\": 0.03353151010701546, \"label\": \"ResearchCommons@Waikato (University of Waikato)\"}, {\"content_partner\": \"Upper Hutt City Library\", \"primary_collection\": \"Upper Hutt City Library Heritage Collections\", \"items_total\": 27685, \"usage\": \"Use commercially\", \"count\": 103, \"usage_total\": 28484, \"open\": 0.0036160651593877264, \"label\": \"Upper Hutt City Library Heritage Collections (Upper Hutt City Library)\"}, {\"content_partner\": \"V.C. Browne & Son\", \"primary_collection\": \"V.C. Browne & Son NZ Aerial Photograph Collection\", \"items_total\": 31461, \"usage\": \"Use commercially\", \"count\": 4590, \"usage_total\": 31461, \"open\": 0.1458949175169257, \"label\": \"V.C. Browne & Son NZ Aerial Photograph Collection (V.C. Browne & Son)\"}, {\"content_partner\": \"Victoria University of Wellington\", \"primary_collection\": \"New Zealand Electronic Text Collection\", \"items_total\": 180504, \"usage\": \"Use commercially\", \"count\": 122085, \"usage_total\": 222512, \"open\": 0.5486670381822104, \"label\": \"New Zealand Electronic Text Collection (Victoria University of Wellington)\"}, {\"content_partner\": \"Victoria University of Wellington\", \"primary_collection\": \"Open Access Victoria University of Wellington\", \"items_total\": 1062, \"usage\": \"Use commercially\", \"count\": 126, \"usage_total\": 5561, \"open\": 0.022657795360546663, \"label\": \"Open Access Victoria University of Wellington (Victoria University of Wellington)\"}, {\"content_partner\": \"Victoria University of Wellington\", \"primary_collection\": \"VUW ResearchArchive\", \"items_total\": 9003, \"usage\": \"Use commercially\", \"count\": 320, \"usage_total\": 9050, \"open\": 0.03535911602209945, \"label\": \"VUW ResearchArchive (Victoria University of Wellington)\"}, {\"content_partner\": \"Waimate Museum and Archives\", \"primary_collection\": \"Waimate Museum and Archives NZMuseums\", \"items_total\": 181, \"usage\": \"Use commercially\", \"count\": 86, \"usage_total\": 181, \"open\": 0.47513812154696133, \"label\": \"Waimate Museum and Archives NZMuseums (Waimate Museum and Archives)\"}, {\"content_partner\": \"Wairarapa Archive\", \"primary_collection\": \"Picture Wairarapa\", \"items_total\": 24238, \"usage\": \"Use commercially\", \"count\": 24534, \"usage_total\": 24534, \"open\": 1.0, \"label\": \"Picture Wairarapa (Wairarapa Archive)\"}, {\"content_partner\": \"Wairarapa Library Service\", \"primary_collection\": \"Wairarapa Library Service Kete\", \"items_total\": 723, \"usage\": \"Use commercially\", \"count\": 537, \"usage_total\": 723, \"open\": 0.7427385892116183, \"label\": \"Wairarapa Library Service Kete (Wairarapa Library Service)\"}, {\"content_partner\": \"Waitaki District Council\", \"primary_collection\": \"Culture Waitaki\", \"items_total\": 7586, \"usage\": \"Use commercially\", \"count\": 7515, \"usage_total\": 7587, \"open\": 0.9905100830367735, \"label\": \"Culture Waitaki (Waitaki District Council)\"}, {\"content_partner\": \"Western Bay District Council\", \"primary_collection\": \"Western Bay Community Archives\", \"items_total\": 849, \"usage\": \"Use commercially\", \"count\": 311, \"usage_total\": 1254, \"open\": 0.24800637958532695, \"label\": \"Western Bay Community Archives (Western Bay District Council)\"}, {\"content_partner\": \"Wikipedia\", \"primary_collection\": \"Wikipedia\", \"items_total\": 14020, \"usage\": \"Use commercially\", \"count\": 14020, \"usage_total\": 14020, \"open\": 1.0, \"label\": \"Wikipedia (Wikipedia)\"}, {\"content_partner\": \"data.govt.nz\", \"primary_collection\": \"data.govt.nz\", \"items_total\": 27418, \"usage\": \"Use commercially\", \"count\": 24630, \"usage_total\": 31485, \"open\": 0.7822772748928061, \"label\": \"data.govt.nz (data.govt.nz)\"}, {\"content_partner\": \"eqnz.chch.2010\", \"primary_collection\": \"Flickr\", \"items_total\": 6111, \"usage\": \"Use commercially\", \"count\": 259, \"usage_total\": 6112, \"open\": 0.04237565445026178, \"label\": \"Flickr (eqnz.chch.2010)\"}, {\"content_partner\": \"iNaturalist NZ \\u2014 M\\u0101taki Taiao\", \"primary_collection\": \"iNaturalist NZ \\u2014 M\\u0101taki Taiao\", \"items_total\": 527674, \"usage\": \"Use commercially\", \"count\": 185075, \"usage_total\": 571510, \"open\": 0.3238351034977516, \"label\": \"iNaturalist NZ \\u2014 M\\u0101taki Taiao (iNaturalist NZ \\u2014 M\\u0101taki Taiao)\"}]}}, {\"mode\": \"vega-lite\"});\n",
       "</script>"
      ],
      "text/plain": [
       "alt.LayerChart(...)"
      ]
     },
     "execution_count": 14,
     "metadata": {},
     "output_type": "execute_result"
    }
   ],
   "source": [
    "# Use the dark theme\n",
    "alt.themes.enable('dark')\n",
    "\n",
    "base = alt.Chart(df_open).encode(\n",
    "    # The collection/partner label is used on the X axis\n",
    "    x=alt.X('label:N', title='Collection'),\n",
    "    # The proportion that is open is on the Y axis (formatted as a percentage)\n",
    "    y=alt.Y('open:Q', axis=alt.Axis(format='%', grid=False), title='Percent open'),\n",
    "    # Colour is determined by the content_partner value\n",
    "    color=alt.Color('content_partner:N', legend=None),\n",
    "    tooltip=[alt.Tooltip('content_partner', title='Partner'), alt.Tooltip('primary_collection', title='Collection'), alt.Tooltip('usage_total', title='Total items', format=','), alt.Tooltip('open', format='.2%', title='Percent open')]\n",
    ")\n",
    "\n",
    "# The bursts of fireworks (the stroke settings make the lines radiating out from the circles)\n",
    "# Size is calculated using a log scale because Papers Past is so much bigger than anything else\n",
    "circles = base.mark_circle(opacity=0.8, strokeOpacity=0.2,strokeDash=[3,1], strokeWidth=20, stroke='white').encode(\n",
    "    size=alt.Size('usage_total:Q', scale=alt.Scale(type='log', range=[1, 6000]), title='Total items'),\n",
    ")\n",
    "\n",
    "# Use a bar chart to make the lines connecting the explosions to the baseline\n",
    "lines = base.mark_bar(size=2, opacity=0.3, strokeDash=[2,2], strokeWidth=1, stroke='white', strokeOpacity=0.2).encode()\n",
    "\n",
    "# Set various style options\n",
    "combined = alt.layer(lines, circles).properties(\n",
    "    height=500, width=2500, title='Collections in DigitalNZ with open content (commercial use allowed)'\n",
    ").configure_axis(\n",
    "    grid=False,\n",
    "    labelColor='#999999',\n",
    "    domainColor='#999999',\n",
    "    tickColor='#999999',\n",
    "    titleColor='#999999'\n",
    ").configure_view(\n",
    "    strokeWidth=0\n",
    ").configure_title(\n",
    "    color='#999999'\n",
    ").configure_legend(\n",
    "    symbolBaseFillColor='#666666',\n",
    "    symbolStrokeWidth=0,\n",
    "    titleColor='#999999',\n",
    "    labelColor='#999999'\n",
    ")\n",
    "\n",
    "combined"
   ]
  },
  {
   "cell_type": "markdown",
   "metadata": {},
   "source": [
    "Save the visualisation as an HTML page. You can [see the result here](https://glam-workbench.net/digitalnz-views/open_collections_digitalnz.html)."
   ]
  },
  {
   "cell_type": "code",
   "execution_count": 15,
   "metadata": {},
   "outputs": [],
   "source": [
    "combined.save('open_collections_digitalnz.html')"
   ]
  },
  {
   "cell_type": "markdown",
   "metadata": {},
   "source": [
    "----\n",
    "\n",
    "Created by [Tim Sherratt](https://timsherratt.org/) for the [GLAM Workbench](https://glam-workbench.net/). Support this project by becoming a [GitHub sponsor](https://github.com/sponsors/wragge?o=esb)."
   ]
  }
 ],
 "metadata": {
  "kernelspec": {
   "display_name": "Python 3 (ipykernel)",
   "language": "python",
   "name": "python3"
  },
  "language_info": {
   "codemirror_mode": {
    "name": "ipython",
    "version": 3
   },
   "file_extension": ".py",
   "mimetype": "text/x-python",
   "name": "python",
   "nbconvert_exporter": "python",
   "pygments_lexer": "ipython3",
   "version": "3.8.5"
  }
 },
 "nbformat": 4,
 "nbformat_minor": 4
}
