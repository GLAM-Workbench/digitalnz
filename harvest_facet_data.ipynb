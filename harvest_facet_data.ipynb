{
 "cells": [
  {
   "cell_type": "markdown",
   "metadata": {},
   "source": [
    "# Facets in DigitalNZ\n",
    "\n",
    "This notebook examines what data is available via facets in DigitalNZ."
   ]
  },
  {
   "cell_type": "markdown",
   "metadata": {},
   "source": [
    "## Import what we need"
   ]
  },
  {
   "cell_type": "code",
   "execution_count": 1,
   "metadata": {},
   "outputs": [],
   "source": [
    "import requests\n",
    "import requests_cache\n",
    "import pandas as pd\n",
    "from tqdm.auto import tqdm\n",
    "from IPython.display import FileLinks, display\n",
    "from pathlib import Path\n",
    "\n",
    "s = requests_cache.CachedSession()"
   ]
  },
  {
   "cell_type": "code",
   "execution_count": 2,
   "metadata": {},
   "outputs": [],
   "source": [
    "API_KEY = '[YOUR API KEY]'\n",
    "API_URL = 'http://api.digitalnz.org/v3/records.json'"
   ]
  },
  {
   "cell_type": "markdown",
   "metadata": {},
   "source": [
    "## Define some functions"
   ]
  },
  {
   "cell_type": "code",
   "execution_count": 3,
   "metadata": {},
   "outputs": [],
   "source": [
    "def get_records(params):\n",
    "    '''\n",
    "    Get records from a search using the supplied parameters.\n",
    "    '''\n",
    "    response = s.get(API_URL, params=params)\n",
    "    return response.json()\n",
    "\n",
    "def check_facet(facet):\n",
    "    '''\n",
    "    Get values for the specified facet, return the total number of values & records,\n",
    "    and save the complete set of values and counts as a CSV.\n",
    "    '''\n",
    "    facet_data = []\n",
    "    params = {\n",
    "        'facets': [facet],\n",
    "        'api_key': API_KEY,\n",
    "        'per_page': 0,\n",
    "        'facets_per_page': 350\n",
    "    }\n",
    "    data = get_records(params)\n",
    "    try:\n",
    "        facets = data['search']['facets'][facet]\n",
    "    except KeyError:\n",
    "        print('Not a facet!')\n",
    "        facet_data = {'facet': facet}\n",
    "    else:\n",
    "        # If there are more than 350 facet values, harvest them all\n",
    "        if len(facets) == 350:\n",
    "            facets = harvest_facet_values(facet)\n",
    "            \n",
    "        # Convert the facet data to a dataframe\n",
    "        df = pd.DataFrame.from_dict(facets, orient='index').reset_index()\n",
    "        df.columns = ['value', 'count']\n",
    "        \n",
    "        # Save all the values and counts as a CSV\n",
    "        df.to_csv(Path('facets', f'{facet}.csv'), index=False)\n",
    "        \n",
    "        # Display summary details\n",
    "        print(f'Number of values: {df.shape[0]:,}')\n",
    "        print(f'Number of records: {df[\"count\"].sum():,}')\n",
    "        \n",
    "        # Return summary details\n",
    "        facet_data = {'facet': facet, 'num_values': df.shape[0], 'num_records': df['count'].sum()}\n",
    "    return facet_data\n",
    "        \n",
    "def harvest_facet_values(facet, **kwargs):\n",
    "    '''\n",
    "    Harvest all the available values for the given facet.\n",
    "    '''\n",
    "    facets = {}\n",
    "    more = True\n",
    "    page = 1\n",
    "    params = {\n",
    "        'api_key': API_KEY,\n",
    "        'per_page': 0,\n",
    "        'facets': facet,\n",
    "        'facets_per_page': 350,\n",
    "    }\n",
    "    for k, v in kwargs.items():\n",
    "        if k == 'text':\n",
    "            params[k] = v\n",
    "        else:\n",
    "            params[f'and[{k}][]'] = v\n",
    "    with tqdm(leave=False) as pbar:\n",
    "        while more:\n",
    "            params['facets_page'] = page\n",
    "            data = get_records(params)\n",
    "            if data['search']['facets'][facet]:\n",
    "                facets.update(data['search']['facets'][facet])\n",
    "                pbar.update(350)\n",
    "                page += 1\n",
    "            else:\n",
    "                more = False\n",
    "        return facets"
   ]
  },
  {
   "cell_type": "markdown",
   "metadata": {},
   "source": [
    "## Collect facet data"
   ]
  },
  {
   "cell_type": "markdown",
   "metadata": {},
   "source": [
    "The API docs say that the following facets are available via the API: `category`, `display_collection`, `creator`, `placename`, `year`, `decade`, `century`, `language`, `content_partner`, `rights`, `collection`. However, `display_collection` isn't available. It's also worth noting that the `collection` facet corresponds to the `collection_title` field.\n",
    "\n",
    "After a bit of poking around, I found that facets are also available for `usage`, `copyright`, `dc_type`, `format`, `subject`, and `primary_collection`.\n",
    "\n",
    "Let's gather values for each of the available facets."
   ]
  },
  {
   "cell_type": "code",
   "execution_count": 4,
   "metadata": {},
   "outputs": [
    {
     "name": "stdout",
     "output_type": "stream",
     "text": [
      "\n",
      "category\n",
      "Number of values: 18\n",
      "Number of records: 31,652,876\n",
      "\n",
      "display_collection\n",
      "Not a facet!\n",
      "\n",
      "creator\n"
     ]
    },
    {
     "data": {
      "application/vnd.jupyter.widget-view+json": {
       "model_id": "",
       "version_major": 2,
       "version_minor": 0
      },
      "text/plain": [
       "HBox(children=(FloatProgress(value=1.0, bar_style='info', max=1.0), HTML(value='')))"
      ]
     },
     "metadata": {},
     "output_type": "display_data"
    },
    {
     "name": "stdout",
     "output_type": "stream",
     "text": [
      "Number of values: 295,535\n",
      "Number of records: 3,329,049\n",
      "\n",
      "placename\n"
     ]
    },
    {
     "data": {
      "application/vnd.jupyter.widget-view+json": {
       "model_id": "",
       "version_major": 2,
       "version_minor": 0
      },
      "text/plain": [
       "HBox(children=(FloatProgress(value=1.0, bar_style='info', max=1.0), HTML(value='')))"
      ]
     },
     "metadata": {},
     "output_type": "display_data"
    },
    {
     "name": "stdout",
     "output_type": "stream",
     "text": [
      "Number of values: 185,173\n",
      "Number of records: 25,864,328\n",
      "\n",
      "year\n"
     ]
    },
    {
     "data": {
      "application/vnd.jupyter.widget-view+json": {
       "model_id": "",
       "version_major": 2,
       "version_minor": 0
      },
      "text/plain": [
       "HBox(children=(FloatProgress(value=1.0, bar_style='info', max=1.0), HTML(value='')))"
      ]
     },
     "metadata": {},
     "output_type": "display_data"
    },
    {
     "name": "stdout",
     "output_type": "stream",
     "text": [
      "Number of values: 918\n",
      "Number of records: 30,869,281\n",
      "\n",
      "decade\n",
      "Number of values: 260\n",
      "Number of records: 30,594,029\n",
      "\n",
      "century\n",
      "Number of values: 71\n",
      "Number of records: 30,515,833\n",
      "\n",
      "language\n",
      "Number of values: 139\n",
      "Number of records: 24,608,045\n",
      "\n",
      "content_partner\n",
      "Number of values: 210\n",
      "Number of records: 31,642,471\n",
      "\n",
      "rights\n"
     ]
    },
    {
     "data": {
      "application/vnd.jupyter.widget-view+json": {
       "model_id": "",
       "version_major": 2,
       "version_minor": 0
      },
      "text/plain": [
       "HBox(children=(FloatProgress(value=1.0, bar_style='info', max=1.0), HTML(value='')))"
      ]
     },
     "metadata": {},
     "output_type": "display_data"
    },
    {
     "name": "stdout",
     "output_type": "stream",
     "text": [
      "Number of values: 35,002\n",
      "Number of records: 29,534,374\n",
      "\n",
      "collection\n"
     ]
    },
    {
     "data": {
      "application/vnd.jupyter.widget-view+json": {
       "model_id": "",
       "version_major": 2,
       "version_minor": 0
      },
      "text/plain": [
       "HBox(children=(FloatProgress(value=1.0, bar_style='info', max=1.0), HTML(value='')))"
      ]
     },
     "metadata": {},
     "output_type": "display_data"
    },
    {
     "name": "stdout",
     "output_type": "stream",
     "text": [
      "Number of values: 23,750\n",
      "Number of records: 59,854,441\n",
      "\n",
      "usage\n",
      "Number of values: 5\n",
      "Number of records: 80,908,778\n",
      "\n",
      "copyright\n",
      "Number of values: 30\n",
      "Number of records: 31,520,633\n",
      "\n",
      "dc_type\n"
     ]
    },
    {
     "data": {
      "application/vnd.jupyter.widget-view+json": {
       "model_id": "",
       "version_major": 2,
       "version_minor": 0
      },
      "text/plain": [
       "HBox(children=(FloatProgress(value=1.0, bar_style='info', max=1.0), HTML(value='')))"
      ]
     },
     "metadata": {},
     "output_type": "display_data"
    },
    {
     "name": "stdout",
     "output_type": "stream",
     "text": [
      "Number of values: 3,267\n",
      "Number of records: 1,746,251\n",
      "\n",
      "format\n"
     ]
    },
    {
     "data": {
      "application/vnd.jupyter.widget-view+json": {
       "model_id": "",
       "version_major": 2,
       "version_minor": 0
      },
      "text/plain": [
       "HBox(children=(FloatProgress(value=1.0, bar_style='info', max=1.0), HTML(value='')))"
      ]
     },
     "metadata": {},
     "output_type": "display_data"
    },
    {
     "name": "stdout",
     "output_type": "stream",
     "text": [
      "Number of values: 73,317\n",
      "Number of records: 2,452,389\n",
      "\n",
      "subject\n"
     ]
    },
    {
     "data": {
      "application/vnd.jupyter.widget-view+json": {
       "model_id": "",
       "version_major": 2,
       "version_minor": 0
      },
      "text/plain": [
       "HBox(children=(FloatProgress(value=1.0, bar_style='info', max=1.0), HTML(value='')))"
      ]
     },
     "metadata": {},
     "output_type": "display_data"
    },
    {
     "name": "stdout",
     "output_type": "stream",
     "text": [
      "Number of values: 938,734\n",
      "Number of records: 11,434,883\n",
      "\n",
      "primary_collection\n",
      "Number of values: 306\n",
      "Number of records: 31,641,804\n"
     ]
    }
   ],
   "source": [
    "facets = [\n",
    "    'category', \n",
    "    'display_collection', \n",
    "    'creator', \n",
    "    'placename', \n",
    "    'year', \n",
    "    'decade', \n",
    "    'century', \n",
    "    'language', \n",
    "    'content_partner', \n",
    "    'rights', \n",
    "    'collection', \n",
    "    'usage',\n",
    "    'copyright',\n",
    "    'dc_type',\n",
    "    'format',\n",
    "    'subject',\n",
    "    'primary_collection'\n",
    "]\n",
    "\n",
    "facet_data = []\n",
    "for facet in facets:\n",
    "    print(f'\\n{facet}')\n",
    "    facet_data.append(check_facet(facet))"
   ]
  },
  {
   "cell_type": "markdown",
   "metadata": {},
   "source": [
    "We've now a dataset that summarises the contents of each facet. If you look in the `facets` directory, you'll also find there's a CSV file containing all the values and counts for each facet.\n",
    "\n",
    "Let's look at the summary data."
   ]
  },
  {
   "cell_type": "code",
   "execution_count": 5,
   "metadata": {},
   "outputs": [
    {
     "data": {
      "text/html": [
       "<div>\n",
       "<style scoped>\n",
       "    .dataframe tbody tr th:only-of-type {\n",
       "        vertical-align: middle;\n",
       "    }\n",
       "\n",
       "    .dataframe tbody tr th {\n",
       "        vertical-align: top;\n",
       "    }\n",
       "\n",
       "    .dataframe thead th {\n",
       "        text-align: right;\n",
       "    }\n",
       "</style>\n",
       "<table border=\"1\" class=\"dataframe\">\n",
       "  <thead>\n",
       "    <tr style=\"text-align: right;\">\n",
       "      <th></th>\n",
       "      <th>facet</th>\n",
       "      <th>num_values</th>\n",
       "      <th>num_records</th>\n",
       "    </tr>\n",
       "  </thead>\n",
       "  <tbody>\n",
       "    <tr>\n",
       "      <th>0</th>\n",
       "      <td>category</td>\n",
       "      <td>18</td>\n",
       "      <td>31652876</td>\n",
       "    </tr>\n",
       "    <tr>\n",
       "      <th>1</th>\n",
       "      <td>display_collection</td>\n",
       "      <td>0</td>\n",
       "      <td>0</td>\n",
       "    </tr>\n",
       "    <tr>\n",
       "      <th>2</th>\n",
       "      <td>creator</td>\n",
       "      <td>295535</td>\n",
       "      <td>3329049</td>\n",
       "    </tr>\n",
       "    <tr>\n",
       "      <th>3</th>\n",
       "      <td>placename</td>\n",
       "      <td>185173</td>\n",
       "      <td>25864328</td>\n",
       "    </tr>\n",
       "    <tr>\n",
       "      <th>4</th>\n",
       "      <td>year</td>\n",
       "      <td>918</td>\n",
       "      <td>30869281</td>\n",
       "    </tr>\n",
       "    <tr>\n",
       "      <th>5</th>\n",
       "      <td>decade</td>\n",
       "      <td>260</td>\n",
       "      <td>30594029</td>\n",
       "    </tr>\n",
       "    <tr>\n",
       "      <th>6</th>\n",
       "      <td>century</td>\n",
       "      <td>71</td>\n",
       "      <td>30515833</td>\n",
       "    </tr>\n",
       "    <tr>\n",
       "      <th>7</th>\n",
       "      <td>language</td>\n",
       "      <td>139</td>\n",
       "      <td>24608045</td>\n",
       "    </tr>\n",
       "    <tr>\n",
       "      <th>8</th>\n",
       "      <td>content_partner</td>\n",
       "      <td>210</td>\n",
       "      <td>31642471</td>\n",
       "    </tr>\n",
       "    <tr>\n",
       "      <th>9</th>\n",
       "      <td>rights</td>\n",
       "      <td>35002</td>\n",
       "      <td>29534374</td>\n",
       "    </tr>\n",
       "    <tr>\n",
       "      <th>10</th>\n",
       "      <td>collection</td>\n",
       "      <td>23750</td>\n",
       "      <td>59854441</td>\n",
       "    </tr>\n",
       "    <tr>\n",
       "      <th>11</th>\n",
       "      <td>usage</td>\n",
       "      <td>5</td>\n",
       "      <td>80908778</td>\n",
       "    </tr>\n",
       "    <tr>\n",
       "      <th>12</th>\n",
       "      <td>copyright</td>\n",
       "      <td>30</td>\n",
       "      <td>31520633</td>\n",
       "    </tr>\n",
       "    <tr>\n",
       "      <th>13</th>\n",
       "      <td>dc_type</td>\n",
       "      <td>3267</td>\n",
       "      <td>1746251</td>\n",
       "    </tr>\n",
       "    <tr>\n",
       "      <th>14</th>\n",
       "      <td>format</td>\n",
       "      <td>73317</td>\n",
       "      <td>2452389</td>\n",
       "    </tr>\n",
       "    <tr>\n",
       "      <th>15</th>\n",
       "      <td>subject</td>\n",
       "      <td>938734</td>\n",
       "      <td>11434883</td>\n",
       "    </tr>\n",
       "    <tr>\n",
       "      <th>16</th>\n",
       "      <td>primary_collection</td>\n",
       "      <td>306</td>\n",
       "      <td>31641804</td>\n",
       "    </tr>\n",
       "  </tbody>\n",
       "</table>\n",
       "</div>"
      ],
      "text/plain": [
       "                 facet  num_values  num_records\n",
       "0             category          18     31652876\n",
       "1   display_collection           0            0\n",
       "2              creator      295535      3329049\n",
       "3            placename      185173     25864328\n",
       "4                 year         918     30869281\n",
       "5               decade         260     30594029\n",
       "6              century          71     30515833\n",
       "7             language         139     24608045\n",
       "8      content_partner         210     31642471\n",
       "9               rights       35002     29534374\n",
       "10          collection       23750     59854441\n",
       "11               usage           5     80908778\n",
       "12           copyright          30     31520633\n",
       "13             dc_type        3267      1746251\n",
       "14              format       73317      2452389\n",
       "15             subject      938734     11434883\n",
       "16  primary_collection         306     31641804"
      ]
     },
     "execution_count": 5,
     "metadata": {},
     "output_type": "execute_result"
    }
   ],
   "source": [
    "# Convert to a dataframe\n",
    "df = pd.DataFrame(facet_data)\n",
    "\n",
    "# Make sure counts are integers\n",
    "df['num_values'] = df['num_values'].fillna(0.0).astype('int64')\n",
    "df['num_records'] = df['num_records'].fillna(0.0).astype('int64')\n",
    "df"
   ]
  },
  {
   "cell_type": "markdown",
   "metadata": {},
   "source": [
    "Let's save this dataset as a CSV."
   ]
  },
  {
   "cell_type": "code",
   "execution_count": 6,
   "metadata": {},
   "outputs": [],
   "source": [
    "df.to_csv(Path('facets', 'facets.csv'), index=False)"
   ]
  },
  {
   "cell_type": "markdown",
   "metadata": {},
   "source": [
    "Let's list all the CSV files we've saved! "
   ]
  },
  {
   "cell_type": "code",
   "execution_count": 7,
   "metadata": {},
   "outputs": [
    {
     "data": {
      "text/html": [
       "facets/<br>\n",
       "&nbsp;&nbsp;<a href='facets/collection.csv' target='_blank'>collection.csv</a><br>\n",
       "&nbsp;&nbsp;<a href='facets/creator.csv' target='_blank'>creator.csv</a><br>\n",
       "&nbsp;&nbsp;<a href='facets/subject.csv' target='_blank'>subject.csv</a><br>\n",
       "&nbsp;&nbsp;<a href='facets/collections_by_partner.csv' target='_blank'>collections_by_partner.csv</a><br>\n",
       "&nbsp;&nbsp;<a href='facets/format.csv' target='_blank'>format.csv</a><br>\n",
       "&nbsp;&nbsp;<a href='facets/placename.csv' target='_blank'>placename.csv</a><br>\n",
       "&nbsp;&nbsp;<a href='facets/decade.csv' target='_blank'>decade.csv</a><br>\n",
       "&nbsp;&nbsp;<a href='facets/content_partner.csv' target='_blank'>content_partner.csv</a><br>\n",
       "&nbsp;&nbsp;<a href='facets/language.csv' target='_blank'>language.csv</a><br>\n",
       "&nbsp;&nbsp;<a href='facets/century.csv' target='_blank'>century.csv</a><br>\n",
       "&nbsp;&nbsp;<a href='facets/usage.csv' target='_blank'>usage.csv</a><br>\n",
       "&nbsp;&nbsp;<a href='facets/rights.csv' target='_blank'>rights.csv</a><br>\n",
       "&nbsp;&nbsp;<a href='facets/usage_by_collection_and_partner.csv' target='_blank'>usage_by_collection_and_partner.csv</a><br>\n",
       "&nbsp;&nbsp;<a href='facets/year.csv' target='_blank'>year.csv</a><br>\n",
       "&nbsp;&nbsp;<a href='facets/facets.csv' target='_blank'>facets.csv</a><br>\n",
       "&nbsp;&nbsp;<a href='facets/copyright.csv' target='_blank'>copyright.csv</a><br>\n",
       "&nbsp;&nbsp;<a href='facets/dc_type.csv' target='_blank'>dc_type.csv</a><br>\n",
       "&nbsp;&nbsp;<a href='facets/category.csv' target='_blank'>category.csv</a><br>\n",
       "&nbsp;&nbsp;<a href='facets/primary_collection.csv' target='_blank'>primary_collection.csv</a><br>"
      ],
      "text/plain": [
       "facets/\n",
       "  collection.csv\n",
       "  creator.csv\n",
       "  subject.csv\n",
       "  collections_by_partner.csv\n",
       "  format.csv\n",
       "  placename.csv\n",
       "  decade.csv\n",
       "  content_partner.csv\n",
       "  language.csv\n",
       "  century.csv\n",
       "  usage.csv\n",
       "  rights.csv\n",
       "  usage_by_collection_and_partner.csv\n",
       "  year.csv\n",
       "  facets.csv\n",
       "  copyright.csv\n",
       "  dc_type.csv\n",
       "  category.csv\n",
       "  primary_collection.csv"
      ]
     },
     "metadata": {},
     "output_type": "display_data"
    }
   ],
   "source": [
    "display(FileLinks('facets', included_suffixes='.csv', recursive=False))"
   ]
  },
  {
   "cell_type": "markdown",
   "metadata": {},
   "source": [
    "## Primary collections by Content Partner\n",
    "\n",
    "I'm not sure how strict the hierarchies are, but I'm assuming we should be able to connect content partners to collections.\n",
    "\n",
    "I've used the results of this to [visualise open collections](visualise_open_collections.ipynb) in DigitalNZ."
   ]
  },
  {
   "cell_type": "code",
   "execution_count": 8,
   "metadata": {},
   "outputs": [],
   "source": [
    "partners = pd.read_csv(Path('facets', 'content_partner.csv'))"
   ]
  },
  {
   "cell_type": "code",
   "execution_count": null,
   "metadata": {},
   "outputs": [],
   "source": [
    "dfs = []\n",
    "for row in partners.itertuples():\n",
    "    partner = row.value\n",
    "    facets = harvest_facet_values('primary_collection', content_partner=partner)\n",
    "    df = pd.DataFrame.from_dict(facets, orient='index').reset_index()\n",
    "    df.columns = ['primary_collection', 'count']\n",
    "    df['content_partner'] = partner\n",
    "    dfs.append(df)"
   ]
  },
  {
   "cell_type": "code",
   "execution_count": 10,
   "metadata": {},
   "outputs": [],
   "source": [
    "df_collections = pd.concat(dfs)\n",
    "df_collections = df_collections[['content_partner', 'primary_collection', 'count']].sort_values(by=['content_partner', 'primary_collection'])"
   ]
  },
  {
   "cell_type": "code",
   "execution_count": 11,
   "metadata": {},
   "outputs": [],
   "source": [
    "df_collections.to_csv(Path('facets', 'collections_by_partner.csv'), index=False)"
   ]
  },
  {
   "cell_type": "markdown",
   "metadata": {},
   "source": [
    "----\n",
    "\n",
    "Created by [Tim Sherratt](https://timsherratt.org/) for the [GLAM Workbench](https://glam-workbench.github.io/)."
   ]
  }
 ],
 "metadata": {
  "kernelspec": {
   "display_name": "Python 3",
   "language": "python",
   "name": "python3"
  },
  "language_info": {
   "codemirror_mode": {
    "name": "ipython",
    "version": 3
   },
   "file_extension": ".py",
   "mimetype": "text/x-python",
   "name": "python",
   "nbconvert_exporter": "python",
   "pygments_lexer": "ipython3",
   "version": "3.8.5"
  }
 },
 "nbformat": 4,
 "nbformat_minor": 4
}
