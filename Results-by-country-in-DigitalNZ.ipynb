{
 "cells": [
  {
   "cell_type": "markdown",
   "metadata": {},
   "source": [
    "# Find results by country in DigitalNZ\n",
    "\n",
    "Many items in DigtalNZ include location information. This can include a country, but as far as I can see there's no direct way to search for results relating to a particular country using the API.\n",
    "\n",
    "You can, however, search for geocoded locations using bounding boxes. This notebook shows how you can use this to search for countries. It makes use of the handy [country-bounding-boxes](https://github.com/graydon/country-bounding-boxes) Python package."
   ]
  },
  {
   "cell_type": "markdown",
   "metadata": {},
   "source": [
    "<div class=\"alert alert-block alert-warning\">\n",
    "<p>If you haven't used one of these notebooks before, they're basically web pages in which you can write, edit, and run live code. They're meant to encourage experimentation, so don't feel nervous. Just try running a few cells and see what happens!.</p>\n",
    "\n",
    "<p>\n",
    "    Some tips:\n",
    "    <ul>\n",
    "        <li>Code cells have boxes around them. When you hover over them a <i class=\"fa-step-forward fa\"></i> icon appears.</li>\n",
    "        <li>To run a code cell either click the <i class=\"fa-step-forward fa\"></i> icon, or click on the cell and then hit <b>Shift+Enter</b>. The <b>Shift+Enter</b> combo will also move you to the next cell, so it's a quick way to work through the notebook.</li>\n",
    "        <li>While a cell is running a <b>*</b> appears in the square brackets next to the cell. Once the cell has finished running the asterix will be replaced with a number.</li>\n",
    "        <li>In most cases you'll want to start from the top of notebook and work your way down running each cell in turn. Later cells might depend on the results of earlier ones.</li>\n",
    "        <li>To edit a code cell, just click on it and type stuff. Remember to run the cell once you've finished editing.</li>\n",
    "    </ul>\n",
    "</p>\n",
    "</div>"
   ]
  },
  {
   "cell_type": "code",
   "execution_count": 7,
   "metadata": {},
   "outputs": [],
   "source": [
    "import requests\n",
    "import pandas as pd\n",
    "from country_bounding_boxes import country_subunits_by_iso_code\n",
    "import ipywidgets as widgets\n",
    "import iso3166\n",
    "from tqdm.auto import tqdm\n",
    "from vega_datasets import data as vega_data\n",
    "import altair as alt\n",
    "from IPython.display import display, HTML\n",
    "import random"
   ]
  },
  {
   "cell_type": "markdown",
   "metadata": {},
   "source": [
    "## Get your DigitalNZ API key\n",
    "\n",
    "[Get yourself an API key](https://digitalnz.org/developers/getting-started) and paste it between the quotes below."
   ]
  },
  {
   "cell_type": "code",
   "execution_count": null,
   "metadata": {},
   "outputs": [],
   "source": [
    "api_key = 'YOUR API KEY'\n",
    "print('Your API key is: {}'.format(api_key))"
   ]
  },
  {
   "cell_type": "markdown",
   "metadata": {},
   "source": [
    "## Make a results by country widget\n",
    "\n",
    "First we'll make a little widget that you can use to find the number of results in DigitalNZ for a particular country."
   ]
  },
  {
   "cell_type": "code",
   "execution_count": 9,
   "metadata": {},
   "outputs": [],
   "source": [
    "def search_by_country(country):\n",
    "    # Set basic parameters for the API query\n",
    "    params = {\n",
    "        'api_key': api_key,\n",
    "        'text': ''\n",
    "    }\n",
    "    result_count = 0\n",
    "    \n",
    "    # We'll collect the results we get to display a sample\n",
    "    results = []\n",
    "    \n",
    "    # Get bounding boxes for the supplied two letter country code\n",
    "    # Note that there may be more than one bounding box per country\n",
    "    bboxes = [c.bbox for c in country_subunits_by_iso_code(country.alpha2)] \n",
    "    \n",
    "    # Loop through bounding boxes\n",
    "    for bbox in bboxes:\n",
    "        \n",
    "        # DigitalNZ expects a bounding box in the format N,W,S,E.\n",
    "        # We have to reorganise things and save the bbox as a string to use in the API query\n",
    "        bbox_str = '{3},{0},{1},{2}'.format(*bbox)\n",
    "        \n",
    "        # Add the bbox to the query params\n",
    "        params['geo_bbox'] = bbox_str\n",
    "        \n",
    "        # Make the request\n",
    "        response = requests.get('http://api.digitalnz.org/v3/records.json', params)\n",
    "        \n",
    "        # Get the result as JSON\n",
    "        data = response.json()\n",
    "        \n",
    "        # Get the total results\n",
    "        result_count += data['search']['result_count']\n",
    "        \n",
    "        # Add the results to our collection for this country\n",
    "        results += data['search']['results']\n",
    "        \n",
    "        # Display the number of results\n",
    "        html = '<h4>There are {:,} items related to {}.</h4>'.format(result_count, country.name)\n",
    "        if results:\n",
    "            # If there are more than 10 results select a random sample of 10\n",
    "            sample = 10 if len(results) > 10 else len(results)\n",
    "            html += '<p>Here are {} of {:,} results:</p><ul>'.format(sample, result_count)\n",
    "        \n",
    "            # Display a random sample of results\n",
    "            for result in random.sample(results, sample):\n",
    "                html += '<li><a target=\"blank\" href=\"{}\">{}</li>'.format(result['source_url'], result['title'])\n",
    "            html += '</ul>'\n",
    "    display(HTML(html))"
   ]
  },
  {
   "cell_type": "code",
   "execution_count": 10,
   "metadata": {},
   "outputs": [
    {
     "data": {
      "text/html": [
       "<h4>There are 3 items related to Afghanistan.</h4><p>Here are 3 of 3 results:</p><ul><li><a target=\"blank\" href=\"http://api.digitalnz.org/records/38245514/source\">Operation Anaconda</li><li><a target=\"blank\" href=\"http://api.digitalnz.org/records/33053631/source\">Willie Apiata, 2004</li><li><a target=\"blank\" href=\"http://api.digitalnz.org/records/43852275/source\">Interview with Masashi Ishibashi, 1987</li></ul>"
      ],
      "text/plain": [
       "<IPython.core.display.HTML object>"
      ]
     },
     "metadata": {},
     "output_type": "display_data"
    }
   ],
   "source": [
    "# This widget is bound to the search_by_country function\n",
    "# Selecting a country will run the function and display the results\n",
    "widgets.interact(search_by_country, country=iso3166.countries_by_name);"
   ]
  },
  {
   "cell_type": "markdown",
   "metadata": {},
   "source": [
    "## Find the number of results for every country\n",
    "\n",
    "Now we'll get the number of results for every country and do something with them."
   ]
  },
  {
   "cell_type": "code",
   "execution_count": 13,
   "metadata": {},
   "outputs": [],
   "source": [
    "def totals_by_country():\n",
    "    country_totals = []\n",
    "    params = {\n",
    "        'api_key': api_key,\n",
    "        'text': ''\n",
    "    }\n",
    "    for country in tqdm(iso3166.countries):\n",
    "        result_count = 0\n",
    "        bboxes = [c.bbox for c in country_subunits_by_iso_code(country.alpha2)] \n",
    "        for bbox in bboxes:\n",
    "            # DigitalNZ expects N,W,S,E\n",
    "            bbox_str = '{3},{0},{1},{2}'.format(*bbox)\n",
    "            params['geo_bbox'] = bbox_str\n",
    "            response = requests.get('http://api.digitalnz.org/v3/records.json', params)\n",
    "            data = response.json()\n",
    "            result_count += data['search']['result_count']\n",
    "        country_totals.append({'country': country.name, 'alpha_code': country.alpha2, 'numeric_code': int(country.numeric), 'results': result_count})\n",
    "    return country_totals            "
   ]
  },
  {
   "cell_type": "code",
   "execution_count": 14,
   "metadata": {},
   "outputs": [
    {
     "data": {
      "application/vnd.jupyter.widget-view+json": {
       "model_id": "1447c046d0114114af6cdc82db617ec3",
       "version_major": 2,
       "version_minor": 0
      },
      "text/plain": [
       "HBox(children=(FloatProgress(value=0.0, max=250.0), HTML(value='')))"
      ]
     },
     "metadata": {},
     "output_type": "display_data"
    },
    {
     "name": "stdout",
     "output_type": "stream",
     "text": [
      "\n"
     ]
    }
   ],
   "source": [
    "totals = totals_by_country()"
   ]
  },
  {
   "cell_type": "code",
   "execution_count": 15,
   "metadata": {},
   "outputs": [
    {
     "data": {
      "text/html": [
       "<div>\n",
       "<style scoped>\n",
       "    .dataframe tbody tr th:only-of-type {\n",
       "        vertical-align: middle;\n",
       "    }\n",
       "\n",
       "    .dataframe tbody tr th {\n",
       "        vertical-align: top;\n",
       "    }\n",
       "\n",
       "    .dataframe thead th {\n",
       "        text-align: right;\n",
       "    }\n",
       "</style>\n",
       "<table border=\"1\" class=\"dataframe\">\n",
       "  <thead>\n",
       "    <tr style=\"text-align: right;\">\n",
       "      <th></th>\n",
       "      <th>country</th>\n",
       "      <th>alpha_code</th>\n",
       "      <th>numeric_code</th>\n",
       "      <th>results</th>\n",
       "    </tr>\n",
       "  </thead>\n",
       "  <tbody>\n",
       "    <tr>\n",
       "      <th>159</th>\n",
       "      <td>New Zealand</td>\n",
       "      <td>NZ</td>\n",
       "      <td>554</td>\n",
       "      <td>637821</td>\n",
       "    </tr>\n",
       "    <tr>\n",
       "      <th>116</th>\n",
       "      <td>Kiribati</td>\n",
       "      <td>KI</td>\n",
       "      <td>296</td>\n",
       "      <td>38482</td>\n",
       "    </tr>\n",
       "    <tr>\n",
       "      <th>8</th>\n",
       "      <td>Antarctica</td>\n",
       "      <td>AQ</td>\n",
       "      <td>10</td>\n",
       "      <td>18423</td>\n",
       "    </tr>\n",
       "    <tr>\n",
       "      <th>158</th>\n",
       "      <td>New Caledonia</td>\n",
       "      <td>NC</td>\n",
       "      <td>540</td>\n",
       "      <td>769</td>\n",
       "    </tr>\n",
       "    <tr>\n",
       "      <th>75</th>\n",
       "      <td>France</td>\n",
       "      <td>FR</td>\n",
       "      <td>250</td>\n",
       "      <td>414</td>\n",
       "    </tr>\n",
       "    <tr>\n",
       "      <th>13</th>\n",
       "      <td>Australia</td>\n",
       "      <td>AU</td>\n",
       "      <td>36</td>\n",
       "      <td>358</td>\n",
       "    </tr>\n",
       "    <tr>\n",
       "      <th>236</th>\n",
       "      <td>United States of America</td>\n",
       "      <td>US</td>\n",
       "      <td>840</td>\n",
       "      <td>266</td>\n",
       "    </tr>\n",
       "    <tr>\n",
       "      <th>39</th>\n",
       "      <td>Canada</td>\n",
       "      <td>CA</td>\n",
       "      <td>124</td>\n",
       "      <td>248</td>\n",
       "    </tr>\n",
       "    <tr>\n",
       "      <th>21</th>\n",
       "      <td>Belgium</td>\n",
       "      <td>BE</td>\n",
       "      <td>56</td>\n",
       "      <td>243</td>\n",
       "    </tr>\n",
       "    <tr>\n",
       "      <th>235</th>\n",
       "      <td>United Kingdom of Great Britain and Northern I...</td>\n",
       "      <td>GB</td>\n",
       "      <td>826</td>\n",
       "      <td>178</td>\n",
       "    </tr>\n",
       "  </tbody>\n",
       "</table>\n",
       "</div>"
      ],
      "text/plain": [
       "                                               country alpha_code  \\\n",
       "159                                        New Zealand         NZ   \n",
       "116                                           Kiribati         KI   \n",
       "8                                           Antarctica         AQ   \n",
       "158                                      New Caledonia         NC   \n",
       "75                                              France         FR   \n",
       "13                                           Australia         AU   \n",
       "236                           United States of America         US   \n",
       "39                                              Canada         CA   \n",
       "21                                             Belgium         BE   \n",
       "235  United Kingdom of Great Britain and Northern I...         GB   \n",
       "\n",
       "     numeric_code  results  \n",
       "159           554   637821  \n",
       "116           296    38482  \n",
       "8              10    18423  \n",
       "158           540      769  \n",
       "75            250      414  \n",
       "13             36      358  \n",
       "236           840      266  \n",
       "39            124      248  \n",
       "21             56      243  \n",
       "235           826      178  "
      ]
     },
     "execution_count": 15,
     "metadata": {},
     "output_type": "execute_result"
    }
   ],
   "source": [
    "# Convert the results to a dataframe\n",
    "df = pd.DataFrame(totals).sort_values(['results'], ascending=False)\n",
    "df.head(10)"
   ]
  },
  {
   "cell_type": "code",
   "execution_count": 16,
   "metadata": {},
   "outputs": [
    {
     "data": {
      "text/html": [
       "<a target=\"_blank\" href=\"country_totals.csv\">Download file</a>"
      ],
      "text/plain": [
       "<IPython.core.display.HTML object>"
      ]
     },
     "metadata": {},
     "output_type": "display_data"
    }
   ],
   "source": [
    "# Save the results to a CSV file in case you want to download\n",
    "df.to_csv('country_totals.csv', index=False)\n",
    "display(HTML('<a target=\"_blank\" href=\"country_totals.csv\">Download file</a>'))"
   ]
  },
  {
   "cell_type": "markdown",
   "metadata": {},
   "source": [
    "## Dispay the results on a choropleth map\n",
    "\n",
    "As you can see from the sample above, New Zealand and Antarctica have *lots* more item than anywhere else. To make it possible to see differences between the other countries in the world, we'll limit the scale of the map to 600."
   ]
  },
  {
   "cell_type": "code",
   "execution_count": 27,
   "metadata": {},
   "outputs": [
    {
     "data": {
      "text/html": [
       "\n",
       "<div id=\"altair-viz-d0c0de540eeb4b87af6141f825b8ffa6\"></div>\n",
       "<script type=\"text/javascript\">\n",
       "  (function(spec, embedOpt){\n",
       "    let outputDiv = document.currentScript.previousElementSibling;\n",
       "    if (outputDiv.id !== \"altair-viz-d0c0de540eeb4b87af6141f825b8ffa6\") {\n",
       "      outputDiv = document.getElementById(\"altair-viz-d0c0de540eeb4b87af6141f825b8ffa6\");\n",
       "    }\n",
       "    const paths = {\n",
       "      \"vega\": \"https://cdn.jsdelivr.net/npm//vega@5?noext\",\n",
       "      \"vega-lib\": \"https://cdn.jsdelivr.net/npm//vega-lib?noext\",\n",
       "      \"vega-lite\": \"https://cdn.jsdelivr.net/npm//vega-lite@4.8.1?noext\",\n",
       "      \"vega-embed\": \"https://cdn.jsdelivr.net/npm//vega-embed@6?noext\",\n",
       "    };\n",
       "\n",
       "    function loadScript(lib) {\n",
       "      return new Promise(function(resolve, reject) {\n",
       "        var s = document.createElement('script');\n",
       "        s.src = paths[lib];\n",
       "        s.async = true;\n",
       "        s.onload = () => resolve(paths[lib]);\n",
       "        s.onerror = () => reject(`Error loading script: ${paths[lib]}`);\n",
       "        document.getElementsByTagName(\"head\")[0].appendChild(s);\n",
       "      });\n",
       "    }\n",
       "\n",
       "    function showError(err) {\n",
       "      outputDiv.innerHTML = `<div class=\"error\" style=\"color:red;\">${err}</div>`;\n",
       "      throw err;\n",
       "    }\n",
       "\n",
       "    function displayChart(vegaEmbed) {\n",
       "      vegaEmbed(outputDiv, spec, embedOpt)\n",
       "        .catch(err => showError(`Javascript Error: ${err.message}<br>This usually means there's a typo in your chart specification. See the javascript console for the full traceback.`));\n",
       "    }\n",
       "\n",
       "    if(typeof define === \"function\" && define.amd) {\n",
       "      requirejs.config({paths});\n",
       "      require([\"vega-embed\"], displayChart, err => showError(`Error loading script: ${err.message}`));\n",
       "    } else if (typeof vegaEmbed === \"function\") {\n",
       "      displayChart(vegaEmbed);\n",
       "    } else {\n",
       "      loadScript(\"vega\")\n",
       "        .then(() => loadScript(\"vega-lite\"))\n",
       "        .then(() => loadScript(\"vega-embed\"))\n",
       "        .catch(showError)\n",
       "        .then(() => displayChart(vegaEmbed));\n",
       "    }\n",
       "  })({\"config\": {\"view\": {\"continuousWidth\": 400, \"continuousHeight\": 300}}, \"data\": {\"url\": \"https://vega.github.io/vega-datasets/data/world-110m.json\", \"format\": {\"feature\": \"countries\", \"type\": \"topojson\"}}, \"mark\": {\"type\": \"geoshape\", \"stroke\": \"black\", \"strokeWidth\": 0.2}, \"encoding\": {\"color\": {\"type\": \"quantitative\", \"field\": \"results\", \"scale\": {\"domain\": [0, 600], \"scheme\": \"greenblue\"}}}, \"height\": 500, \"projection\": {\"type\": \"equirectangular\"}, \"transform\": [{\"lookup\": \"id\", \"from\": {\"data\": {\"name\": \"data-e58bb81fee25104c444e676b646ba51c\"}, \"key\": \"numeric_code\", \"fields\": [\"results\"]}}], \"width\": 800, \"$schema\": \"https://vega.github.io/schema/vega-lite/v4.8.1.json\", \"datasets\": {\"data-e58bb81fee25104c444e676b646ba51c\": [{\"country\": \"New Zealand\", \"alpha_code\": \"NZ\", \"numeric_code\": 554, \"results\": 637821}, {\"country\": \"Kiribati\", \"alpha_code\": \"KI\", \"numeric_code\": 296, \"results\": 38482}, {\"country\": \"Antarctica\", \"alpha_code\": \"AQ\", \"numeric_code\": 10, \"results\": 18423}, {\"country\": \"New Caledonia\", \"alpha_code\": \"NC\", \"numeric_code\": 540, \"results\": 769}, {\"country\": \"France\", \"alpha_code\": \"FR\", \"numeric_code\": 250, \"results\": 414}, {\"country\": \"Australia\", \"alpha_code\": \"AU\", \"numeric_code\": 36, \"results\": 358}, {\"country\": \"United States of America\", \"alpha_code\": \"US\", \"numeric_code\": 840, \"results\": 266}, {\"country\": \"Canada\", \"alpha_code\": \"CA\", \"numeric_code\": 124, \"results\": 248}, {\"country\": \"Belgium\", \"alpha_code\": \"BE\", \"numeric_code\": 56, \"results\": 243}, {\"country\": \"United Kingdom of Great Britain and Northern Ireland\", \"alpha_code\": \"GB\", \"numeric_code\": 826, \"results\": 178}, {\"country\": \"Greece\", \"alpha_code\": \"GR\", \"numeric_code\": 300, \"results\": 169}, {\"country\": \"Turkey\", \"alpha_code\": \"TR\", \"numeric_code\": 792, \"results\": 151}, {\"country\": \"Fiji\", \"alpha_code\": \"FJ\", \"numeric_code\": 242, \"results\": 77}, {\"country\": \"Solomon Islands\", \"alpha_code\": \"SB\", \"numeric_code\": 90, \"results\": 53}, {\"country\": \"Italy\", \"alpha_code\": \"IT\", \"numeric_code\": 380, \"results\": 37}, {\"country\": \"Brazil\", \"alpha_code\": \"BR\", \"numeric_code\": 76, \"results\": 35}, {\"country\": \"Argentina\", \"alpha_code\": \"AR\", \"numeric_code\": 32, \"results\": 33}, {\"country\": \"French Southern Territories\", \"alpha_code\": \"TF\", \"numeric_code\": 260, \"results\": 31}, {\"country\": \"Egypt\", \"alpha_code\": \"EG\", \"numeric_code\": 818, \"results\": 31}, {\"country\": \"Israel\", \"alpha_code\": \"IL\", \"numeric_code\": 376, \"results\": 24}, {\"country\": \"Chile\", \"alpha_code\": \"CL\", \"numeric_code\": 152, \"results\": 24}, {\"country\": \"South Africa\", \"alpha_code\": \"ZA\", \"numeric_code\": 710, \"results\": 23}, {\"country\": \"Indonesia\", \"alpha_code\": \"ID\", \"numeric_code\": 360, \"results\": 22}, {\"country\": \"Japan\", \"alpha_code\": \"JP\", \"numeric_code\": 392, \"results\": 21}, {\"country\": \"South Georgia and the South Sandwich Islands\", \"alpha_code\": \"GS\", \"numeric_code\": 239, \"results\": 17}, {\"country\": \"Saudi Arabia\", \"alpha_code\": \"SA\", \"numeric_code\": 682, \"results\": 17}, {\"country\": \"Palestine, State of\", \"alpha_code\": \"PS\", \"numeric_code\": 275, \"results\": 16}, {\"country\": \"Viet Nam\", \"alpha_code\": \"VN\", \"numeric_code\": 704, \"results\": 16}, {\"country\": \"Cook Islands\", \"alpha_code\": \"CK\", \"numeric_code\": 184, \"results\": 15}, {\"country\": \"Spain\", \"alpha_code\": \"ES\", \"numeric_code\": 724, \"results\": 14}, {\"country\": \"China\", \"alpha_code\": \"CN\", \"numeric_code\": 156, \"results\": 14}, {\"country\": \"Jordan\", \"alpha_code\": \"JO\", \"numeric_code\": 400, \"results\": 13}, {\"country\": \"Zimbabwe\", \"alpha_code\": \"ZW\", \"numeric_code\": 716, \"results\": 13}, {\"country\": \"Zambia\", \"alpha_code\": \"ZM\", \"numeric_code\": 894, \"results\": 13}, {\"country\": \"Samoa\", \"alpha_code\": \"WS\", \"numeric_code\": 882, \"results\": 13}, {\"country\": \"Germany\", \"alpha_code\": \"DE\", \"numeric_code\": 276, \"results\": 12}, {\"country\": \"Netherlands\", \"alpha_code\": \"NL\", \"numeric_code\": 528, \"results\": 11}, {\"country\": \"Cambodia\", \"alpha_code\": \"KH\", \"numeric_code\": 116, \"results\": 11}, {\"country\": \"Bosnia and Herzegovina\", \"alpha_code\": \"BA\", \"numeric_code\": 70, \"results\": 10}, {\"country\": \"Botswana\", \"alpha_code\": \"BW\", \"numeric_code\": 72, \"results\": 10}, {\"country\": \"Russian Federation\", \"alpha_code\": \"RU\", \"numeric_code\": 643, \"results\": 10}, {\"country\": \"Papua New Guinea\", \"alpha_code\": \"PG\", \"numeric_code\": 598, \"results\": 10}, {\"country\": \"Algeria\", \"alpha_code\": \"DZ\", \"numeric_code\": 12, \"results\": 8}, {\"country\": \"Norfolk Island\", \"alpha_code\": \"NF\", \"numeric_code\": 574, \"results\": 8}, {\"country\": \"Heard Island and McDonald Islands\", \"alpha_code\": \"HM\", \"numeric_code\": 334, \"results\": 8}, {\"country\": \"Ireland\", \"alpha_code\": \"IE\", \"numeric_code\": 372, \"results\": 8}, {\"country\": \"India\", \"alpha_code\": \"IN\", \"numeric_code\": 356, \"results\": 7}, {\"country\": \"Tanzania, United Republic of\", \"alpha_code\": \"TZ\", \"numeric_code\": 834, \"results\": 7}, {\"country\": \"Jamaica\", \"alpha_code\": \"JM\", \"numeric_code\": 388, \"results\": 6}, {\"country\": \"Mozambique\", \"alpha_code\": \"MZ\", \"numeric_code\": 508, \"results\": 6}, {\"country\": \"Croatia\", \"alpha_code\": \"HR\", \"numeric_code\": 191, \"results\": 6}, {\"country\": \"Iran, Islamic Republic of\", \"alpha_code\": \"IR\", \"numeric_code\": 364, \"results\": 6}, {\"country\": \"Tunisia\", \"alpha_code\": \"TN\", \"numeric_code\": 788, \"results\": 5}, {\"country\": \"Vanuatu\", \"alpha_code\": \"VU\", \"numeric_code\": 548, \"results\": 5}, {\"country\": \"Malaysia\", \"alpha_code\": \"MY\", \"numeric_code\": 458, \"results\": 5}, {\"country\": \"Paraguay\", \"alpha_code\": \"PY\", \"numeric_code\": 600, \"results\": 5}, {\"country\": \"Mali\", \"alpha_code\": \"ML\", \"numeric_code\": 466, \"results\": 5}, {\"country\": \"Bolivia, Plurinational State of\", \"alpha_code\": \"BO\", \"numeric_code\": 68, \"results\": 5}, {\"country\": \"Myanmar\", \"alpha_code\": \"MM\", \"numeric_code\": 104, \"results\": 4}, {\"country\": \"Colombia\", \"alpha_code\": \"CO\", \"numeric_code\": 170, \"results\": 4}, {\"country\": \"Libya\", \"alpha_code\": \"LY\", \"numeric_code\": 434, \"results\": 4}, {\"country\": \"Burkina Faso\", \"alpha_code\": \"BF\", \"numeric_code\": 854, \"results\": 4}, {\"country\": \"Korea, Republic of\", \"alpha_code\": \"KR\", \"numeric_code\": 410, \"results\": 4}, {\"country\": \"French Polynesia\", \"alpha_code\": \"PF\", \"numeric_code\": 258, \"results\": 4}, {\"country\": \"Sweden\", \"alpha_code\": \"SE\", \"numeric_code\": 752, \"results\": 4}, {\"country\": \"Congo, Democratic Republic of the\", \"alpha_code\": \"CD\", \"numeric_code\": 180, \"results\": 4}, {\"country\": \"Thailand\", \"alpha_code\": \"TH\", \"numeric_code\": 764, \"results\": 4}, {\"country\": \"Serbia\", \"alpha_code\": \"RS\", \"numeric_code\": 688, \"results\": 4}, {\"country\": \"Uganda\", \"alpha_code\": \"UG\", \"numeric_code\": 800, \"results\": 4}, {\"country\": \"Iraq\", \"alpha_code\": \"IQ\", \"numeric_code\": 368, \"results\": 4}, {\"country\": \"Pakistan\", \"alpha_code\": \"PK\", \"numeric_code\": 586, \"results\": 3}, {\"country\": \"Niger\", \"alpha_code\": \"NE\", \"numeric_code\": 562, \"results\": 3}, {\"country\": \"Mexico\", \"alpha_code\": \"MX\", \"numeric_code\": 484, \"results\": 3}, {\"country\": \"Nepal\", \"alpha_code\": \"NP\", \"numeric_code\": 524, \"results\": 3}, {\"country\": \"Mongolia\", \"alpha_code\": \"MN\", \"numeric_code\": 496, \"results\": 3}, {\"country\": \"Slovenia\", \"alpha_code\": \"SI\", \"numeric_code\": 705, \"results\": 3}, {\"country\": \"Switzerland\", \"alpha_code\": \"CH\", \"numeric_code\": 756, \"results\": 3}, {\"country\": \"Sudan\", \"alpha_code\": \"SD\", \"numeric_code\": 729, \"results\": 3}, {\"country\": \"Lao People's Democratic Republic\", \"alpha_code\": \"LA\", \"numeric_code\": 418, \"results\": 3}, {\"country\": \"Lebanon\", \"alpha_code\": \"LB\", \"numeric_code\": 422, \"results\": 3}, {\"country\": \"Norway\", \"alpha_code\": \"NO\", \"numeric_code\": 578, \"results\": 3}, {\"country\": \"Afghanistan\", \"alpha_code\": \"AF\", \"numeric_code\": 4, \"results\": 3}, {\"country\": \"Austria\", \"alpha_code\": \"AT\", \"numeric_code\": 40, \"results\": 3}, {\"country\": \"Denmark\", \"alpha_code\": \"DK\", \"numeric_code\": 208, \"results\": 3}, {\"country\": \"San Marino\", \"alpha_code\": \"SM\", \"numeric_code\": 674, \"results\": 2}, {\"country\": \"Syrian Arab Republic\", \"alpha_code\": \"SY\", \"numeric_code\": 760, \"results\": 2}, {\"country\": \"Bulgaria\", \"alpha_code\": \"BG\", \"numeric_code\": 100, \"results\": 2}, {\"country\": \"Ukraine\", \"alpha_code\": \"UA\", \"numeric_code\": 804, \"results\": 2}, {\"country\": \"Morocco\", \"alpha_code\": \"MA\", \"numeric_code\": 504, \"results\": 2}, {\"country\": \"Hungary\", \"alpha_code\": \"HU\", \"numeric_code\": 348, \"results\": 2}, {\"country\": \"Angola\", \"alpha_code\": \"AO\", \"numeric_code\": 24, \"results\": 2}, {\"country\": \"Montenegro\", \"alpha_code\": \"ME\", \"numeric_code\": 499, \"results\": 2}, {\"country\": \"Pitcairn\", \"alpha_code\": \"PN\", \"numeric_code\": 612, \"results\": 2}, {\"country\": \"Gabon\", \"alpha_code\": \"GA\", \"numeric_code\": 266, \"results\": 2}, {\"country\": \"Malawi\", \"alpha_code\": \"MW\", \"numeric_code\": 454, \"results\": 2}, {\"country\": \"Poland\", \"alpha_code\": \"PL\", \"numeric_code\": 616, \"results\": 2}, {\"country\": \"Czechia\", \"alpha_code\": \"CZ\", \"numeric_code\": 203, \"results\": 2}, {\"country\": \"Niue\", \"alpha_code\": \"NU\", \"numeric_code\": 570, \"results\": 2}, {\"country\": \"Congo\", \"alpha_code\": \"CG\", \"numeric_code\": 178, \"results\": 2}, {\"country\": \"Micronesia, Federated States of\", \"alpha_code\": \"FM\", \"numeric_code\": 583, \"results\": 2}, {\"country\": \"Namibia\", \"alpha_code\": \"NA\", \"numeric_code\": 516, \"results\": 2}, {\"country\": \"Kenya\", \"alpha_code\": \"KE\", \"numeric_code\": 404, \"results\": 2}, {\"country\": \"Chad\", \"alpha_code\": \"TD\", \"numeric_code\": 148, \"results\": 2}, {\"country\": \"Tajikistan\", \"alpha_code\": \"TJ\", \"numeric_code\": 762, \"results\": 1}, {\"country\": \"Taiwan, Province of China\", \"alpha_code\": \"TW\", \"numeric_code\": 158, \"results\": 1}, {\"country\": \"Lithuania\", \"alpha_code\": \"LT\", \"numeric_code\": 440, \"results\": 1}, {\"country\": \"\\u00c5land Islands\", \"alpha_code\": \"AX\", \"numeric_code\": 248, \"results\": 1}, {\"country\": \"Azerbaijan\", \"alpha_code\": \"AZ\", \"numeric_code\": 31, \"results\": 1}, {\"country\": \"Lesotho\", \"alpha_code\": \"LS\", \"numeric_code\": 426, \"results\": 1}, {\"country\": \"Bahamas\", \"alpha_code\": \"BS\", \"numeric_code\": 44, \"results\": 1}, {\"country\": \"Kyrgyzstan\", \"alpha_code\": \"KG\", \"numeric_code\": 417, \"results\": 1}, {\"country\": \"Saint Helena, Ascension and Tristan da Cunha\", \"alpha_code\": \"SH\", \"numeric_code\": 654, \"results\": 1}, {\"country\": \"Belarus\", \"alpha_code\": \"BY\", \"numeric_code\": 112, \"results\": 1}, {\"country\": \"Malta\", \"alpha_code\": \"MT\", \"numeric_code\": 470, \"results\": 1}, {\"country\": \"Moldova, Republic of\", \"alpha_code\": \"MD\", \"numeric_code\": 498, \"results\": 1}, {\"country\": \"Sri Lanka\", \"alpha_code\": \"LK\", \"numeric_code\": 144, \"results\": 1}, {\"country\": \"Mauritania\", \"alpha_code\": \"MR\", \"numeric_code\": 478, \"results\": 1}, {\"country\": \"Barbados\", \"alpha_code\": \"BB\", \"numeric_code\": 52, \"results\": 1}, {\"country\": \"Central African Republic\", \"alpha_code\": \"CF\", \"numeric_code\": 140, \"results\": 1}, {\"country\": \"North Macedonia\", \"alpha_code\": \"MK\", \"numeric_code\": 807, \"results\": 1}, {\"country\": \"Ecuador\", \"alpha_code\": \"EC\", \"numeric_code\": 218, \"results\": 1}, {\"country\": \"Timor-Leste\", \"alpha_code\": \"TL\", \"numeric_code\": 626, \"results\": 1}, {\"country\": \"Slovakia\", \"alpha_code\": \"SK\", \"numeric_code\": 703, \"results\": 1}, {\"country\": \"Gibraltar\", \"alpha_code\": \"GI\", \"numeric_code\": 292, \"results\": 1}, {\"country\": \"Albania\", \"alpha_code\": \"AL\", \"numeric_code\": 8, \"results\": 1}, {\"country\": \"Greenland\", \"alpha_code\": \"GL\", \"numeric_code\": 304, \"results\": 1}, {\"country\": \"Yemen\", \"alpha_code\": \"YE\", \"numeric_code\": 887, \"results\": 1}, {\"country\": \"Romania\", \"alpha_code\": \"RO\", \"numeric_code\": 642, \"results\": 1}, {\"country\": \"R\\u00e9union\", \"alpha_code\": \"RE\", \"numeric_code\": 638, \"results\": 1}, {\"country\": \"Singapore\", \"alpha_code\": \"SG\", \"numeric_code\": 702, \"results\": 1}, {\"country\": \"Portugal\", \"alpha_code\": \"PT\", \"numeric_code\": 620, \"results\": 1}, {\"country\": \"Uzbekistan\", \"alpha_code\": \"UZ\", \"numeric_code\": 860, \"results\": 1}, {\"country\": \"Philippines\", \"alpha_code\": \"PH\", \"numeric_code\": 608, \"results\": 1}, {\"country\": \"Peru\", \"alpha_code\": \"PE\", \"numeric_code\": 604, \"results\": 1}, {\"country\": \"Finland\", \"alpha_code\": \"FI\", \"numeric_code\": 246, \"results\": 1}, {\"country\": \"Ethiopia\", \"alpha_code\": \"ET\", \"numeric_code\": 231, \"results\": 1}, {\"country\": \"Eritrea\", \"alpha_code\": \"ER\", \"numeric_code\": 232, \"results\": 1}, {\"country\": \"Turkmenistan\", \"alpha_code\": \"TM\", \"numeric_code\": 795, \"results\": 1}, {\"country\": \"Cameroon\", \"alpha_code\": \"CM\", \"numeric_code\": 120, \"results\": 1}, {\"country\": \"Kazakhstan\", \"alpha_code\": \"KZ\", \"numeric_code\": 398, \"results\": 1}, {\"country\": \"Oman\", \"alpha_code\": \"OM\", \"numeric_code\": 512, \"results\": 1}, {\"country\": \"Tonga\", \"alpha_code\": \"TO\", \"numeric_code\": 776, \"results\": 1}, {\"country\": \"Tokelau\", \"alpha_code\": \"TK\", \"numeric_code\": 772, \"results\": 1}, {\"country\": \"Cuba\", \"alpha_code\": \"CU\", \"numeric_code\": 192, \"results\": 1}, {\"country\": \"Sierra Leone\", \"alpha_code\": \"SL\", \"numeric_code\": 694, \"results\": 0}, {\"country\": \"Bonaire, Sint Eustatius and Saba\", \"alpha_code\": \"BQ\", \"numeric_code\": 535, \"results\": 0}, {\"country\": \"Seychelles\", \"alpha_code\": \"SC\", \"numeric_code\": 690, \"results\": 0}, {\"country\": \"Bhutan\", \"alpha_code\": \"BT\", \"numeric_code\": 64, \"results\": 0}, {\"country\": \"Senegal\", \"alpha_code\": \"SN\", \"numeric_code\": 686, \"results\": 0}, {\"country\": \"Sao Tome and Principe\", \"alpha_code\": \"ST\", \"numeric_code\": 678, \"results\": 0}, {\"country\": \"Bouvet Island\", \"alpha_code\": \"BV\", \"numeric_code\": 74, \"results\": 0}, {\"country\": \"Saint Vincent and the Grenadines\", \"alpha_code\": \"VC\", \"numeric_code\": 670, \"results\": 0}, {\"country\": \"Saint Pierre and Miquelon\", \"alpha_code\": \"PM\", \"numeric_code\": 666, \"results\": 0}, {\"country\": \"Saint Martin (French part)\", \"alpha_code\": \"MF\", \"numeric_code\": 663, \"results\": 0}, {\"country\": \"Saint Lucia\", \"alpha_code\": \"LC\", \"numeric_code\": 662, \"results\": 0}, {\"country\": \"Sint Maarten (Dutch part)\", \"alpha_code\": \"SX\", \"numeric_code\": 534, \"results\": 0}, {\"country\": \"Bahrain\", \"alpha_code\": \"BH\", \"numeric_code\": 48, \"results\": 0}, {\"country\": \"Bermuda\", \"alpha_code\": \"BM\", \"numeric_code\": 60, \"results\": 0}, {\"country\": \"Benin\", \"alpha_code\": \"BJ\", \"numeric_code\": 204, \"results\": 0}, {\"country\": \"Western Sahara\", \"alpha_code\": \"EH\", \"numeric_code\": 732, \"results\": 0}, {\"country\": \"Wallis and Futuna\", \"alpha_code\": \"WF\", \"numeric_code\": 876, \"results\": 0}, {\"country\": \"Virgin Islands, U.S.\", \"alpha_code\": \"VI\", \"numeric_code\": 850, \"results\": 0}, {\"country\": \"Virgin Islands, British\", \"alpha_code\": \"VG\", \"numeric_code\": 92, \"results\": 0}, {\"country\": \"American Samoa\", \"alpha_code\": \"AS\", \"numeric_code\": 16, \"results\": 0}, {\"country\": \"Venezuela, Bolivarian Republic of\", \"alpha_code\": \"VE\", \"numeric_code\": 862, \"results\": 0}, {\"country\": \"Andorra\", \"alpha_code\": \"AD\", \"numeric_code\": 20, \"results\": 0}, {\"country\": \"Uruguay\", \"alpha_code\": \"UY\", \"numeric_code\": 858, \"results\": 0}, {\"country\": \"United States Minor Outlying Islands\", \"alpha_code\": \"UM\", \"numeric_code\": 581, \"results\": 0}, {\"country\": \"Anguilla\", \"alpha_code\": \"AI\", \"numeric_code\": 660, \"results\": 0}, {\"country\": \"United Arab Emirates\", \"alpha_code\": \"AE\", \"numeric_code\": 784, \"results\": 0}, {\"country\": \"Antigua and Barbuda\", \"alpha_code\": \"AG\", \"numeric_code\": 28, \"results\": 0}, {\"country\": \"Tuvalu\", \"alpha_code\": \"TV\", \"numeric_code\": 798, \"results\": 0}, {\"country\": \"Turks and Caicos Islands\", \"alpha_code\": \"TC\", \"numeric_code\": 796, \"results\": 0}, {\"country\": \"Armenia\", \"alpha_code\": \"AM\", \"numeric_code\": 51, \"results\": 0}, {\"country\": \"Aruba\", \"alpha_code\": \"AW\", \"numeric_code\": 533, \"results\": 0}, {\"country\": \"Trinidad and Tobago\", \"alpha_code\": \"TT\", \"numeric_code\": 780, \"results\": 0}, {\"country\": \"Togo\", \"alpha_code\": \"TG\", \"numeric_code\": 768, \"results\": 0}, {\"country\": \"Eswatini\", \"alpha_code\": \"SZ\", \"numeric_code\": 748, \"results\": 0}, {\"country\": \"Svalbard and Jan Mayen\", \"alpha_code\": \"SJ\", \"numeric_code\": 744, \"results\": 0}, {\"country\": \"Suriname\", \"alpha_code\": \"SR\", \"numeric_code\": 740, \"results\": 0}, {\"country\": \"Bangladesh\", \"alpha_code\": \"BD\", \"numeric_code\": 50, \"results\": 0}, {\"country\": \"South Sudan\", \"alpha_code\": \"SS\", \"numeric_code\": 728, \"results\": 0}, {\"country\": \"Belize\", \"alpha_code\": \"BZ\", \"numeric_code\": 84, \"results\": 0}, {\"country\": \"Somalia\", \"alpha_code\": \"SO\", \"numeric_code\": 706, \"results\": 0}, {\"country\": \"Saint Kitts and Nevis\", \"alpha_code\": \"KN\", \"numeric_code\": 659, \"results\": 0}, {\"country\": \"Georgia\", \"alpha_code\": \"GE\", \"numeric_code\": 268, \"results\": 0}, {\"country\": \"Saint Barth\\u00e9lemy\", \"alpha_code\": \"BL\", \"numeric_code\": 652, \"results\": 0}, {\"country\": \"Rwanda\", \"alpha_code\": \"RW\", \"numeric_code\": 646, \"results\": 0}, {\"country\": \"Latvia\", \"alpha_code\": \"LV\", \"numeric_code\": 428, \"results\": 0}, {\"country\": \"Djibouti\", \"alpha_code\": \"DJ\", \"numeric_code\": 262, \"results\": 0}, {\"country\": \"Kuwait\", \"alpha_code\": \"KW\", \"numeric_code\": 414, \"results\": 0}, {\"country\": \"Kosovo\", \"alpha_code\": \"XK\", \"numeric_code\": 983, \"results\": 0}, {\"country\": \"Dominica\", \"alpha_code\": \"DM\", \"numeric_code\": 212, \"results\": 0}, {\"country\": \"Korea, Democratic People's Republic of\", \"alpha_code\": \"KP\", \"numeric_code\": 408, \"results\": 0}, {\"country\": \"Dominican Republic\", \"alpha_code\": \"DO\", \"numeric_code\": 214, \"results\": 0}, {\"country\": \"Jersey\", \"alpha_code\": \"JE\", \"numeric_code\": 832, \"results\": 0}, {\"country\": \"El Salvador\", \"alpha_code\": \"SV\", \"numeric_code\": 222, \"results\": 0}, {\"country\": \"Equatorial Guinea\", \"alpha_code\": \"GQ\", \"numeric_code\": 226, \"results\": 0}, {\"country\": \"Estonia\", \"alpha_code\": \"EE\", \"numeric_code\": 233, \"results\": 0}, {\"country\": \"Isle of Man\", \"alpha_code\": \"IM\", \"numeric_code\": 833, \"results\": 0}, {\"country\": \"Falkland Islands (Malvinas)\", \"alpha_code\": \"FK\", \"numeric_code\": 238, \"results\": 0}, {\"country\": \"Faroe Islands\", \"alpha_code\": \"FO\", \"numeric_code\": 234, \"results\": 0}, {\"country\": \"French Guiana\", \"alpha_code\": \"GF\", \"numeric_code\": 254, \"results\": 0}, {\"country\": \"Iceland\", \"alpha_code\": \"IS\", \"numeric_code\": 352, \"results\": 0}, {\"country\": \"Hong Kong\", \"alpha_code\": \"HK\", \"numeric_code\": 344, \"results\": 0}, {\"country\": \"Honduras\", \"alpha_code\": \"HN\", \"numeric_code\": 340, \"results\": 0}, {\"country\": \"Holy See\", \"alpha_code\": \"VA\", \"numeric_code\": 336, \"results\": 0}, {\"country\": \"Haiti\", \"alpha_code\": \"HT\", \"numeric_code\": 332, \"results\": 0}, {\"country\": \"Guyana\", \"alpha_code\": \"GY\", \"numeric_code\": 328, \"results\": 0}, {\"country\": \"Guinea-Bissau\", \"alpha_code\": \"GW\", \"numeric_code\": 624, \"results\": 0}, {\"country\": \"Guinea\", \"alpha_code\": \"GN\", \"numeric_code\": 324, \"results\": 0}, {\"country\": \"Guernsey\", \"alpha_code\": \"GG\", \"numeric_code\": 831, \"results\": 0}, {\"country\": \"Guatemala\", \"alpha_code\": \"GT\", \"numeric_code\": 320, \"results\": 0}, {\"country\": \"Guam\", \"alpha_code\": \"GU\", \"numeric_code\": 316, \"results\": 0}, {\"country\": \"Guadeloupe\", \"alpha_code\": \"GP\", \"numeric_code\": 312, \"results\": 0}, {\"country\": \"Grenada\", \"alpha_code\": \"GD\", \"numeric_code\": 308, \"results\": 0}, {\"country\": \"Gambia\", \"alpha_code\": \"GM\", \"numeric_code\": 270, \"results\": 0}, {\"country\": \"Liberia\", \"alpha_code\": \"LR\", \"numeric_code\": 430, \"results\": 0}, {\"country\": \"Liechtenstein\", \"alpha_code\": \"LI\", \"numeric_code\": 438, \"results\": 0}, {\"country\": \"Luxembourg\", \"alpha_code\": \"LU\", \"numeric_code\": 442, \"results\": 0}, {\"country\": \"Cocos (Keeling) Islands\", \"alpha_code\": \"CC\", \"numeric_code\": 166, \"results\": 0}, {\"country\": \"British Indian Ocean Territory\", \"alpha_code\": \"IO\", \"numeric_code\": 86, \"results\": 0}, {\"country\": \"Qatar\", \"alpha_code\": \"QA\", \"numeric_code\": 634, \"results\": 0}, {\"country\": \"Puerto Rico\", \"alpha_code\": \"PR\", \"numeric_code\": 630, \"results\": 0}, {\"country\": \"Brunei Darussalam\", \"alpha_code\": \"BN\", \"numeric_code\": 96, \"results\": 0}, {\"country\": \"Panama\", \"alpha_code\": \"PA\", \"numeric_code\": 591, \"results\": 0}, {\"country\": \"Burundi\", \"alpha_code\": \"BI\", \"numeric_code\": 108, \"results\": 0}, {\"country\": \"Palau\", \"alpha_code\": \"PW\", \"numeric_code\": 585, \"results\": 0}, {\"country\": \"Ghana\", \"alpha_code\": \"GH\", \"numeric_code\": 288, \"results\": 0}, {\"country\": \"Northern Mariana Islands\", \"alpha_code\": \"MP\", \"numeric_code\": 580, \"results\": 0}, {\"country\": \"Cayman Islands\", \"alpha_code\": \"KY\", \"numeric_code\": 136, \"results\": 0}, {\"country\": \"Nigeria\", \"alpha_code\": \"NG\", \"numeric_code\": 566, \"results\": 0}, {\"country\": \"Nicaragua\", \"alpha_code\": \"NI\", \"numeric_code\": 558, \"results\": 0}, {\"country\": \"Christmas Island\", \"alpha_code\": \"CX\", \"numeric_code\": 162, \"results\": 0}, {\"country\": \"Comoros\", \"alpha_code\": \"KM\", \"numeric_code\": 174, \"results\": 0}, {\"country\": \"Macao\", \"alpha_code\": \"MO\", \"numeric_code\": 446, \"results\": 0}, {\"country\": \"Nauru\", \"alpha_code\": \"NR\", \"numeric_code\": 520, \"results\": 0}, {\"country\": \"Costa Rica\", \"alpha_code\": \"CR\", \"numeric_code\": 188, \"results\": 0}, {\"country\": \"Montserrat\", \"alpha_code\": \"MS\", \"numeric_code\": 500, \"results\": 0}, {\"country\": \"C\\u00f4te d'Ivoire\", \"alpha_code\": \"CI\", \"numeric_code\": 384, \"results\": 0}, {\"country\": \"Monaco\", \"alpha_code\": \"MC\", \"numeric_code\": 492, \"results\": 0}, {\"country\": \"Mayotte\", \"alpha_code\": \"YT\", \"numeric_code\": 175, \"results\": 0}, {\"country\": \"Mauritius\", \"alpha_code\": \"MU\", \"numeric_code\": 480, \"results\": 0}, {\"country\": \"Martinique\", \"alpha_code\": \"MQ\", \"numeric_code\": 474, \"results\": 0}, {\"country\": \"Marshall Islands\", \"alpha_code\": \"MH\", \"numeric_code\": 584, \"results\": 0}, {\"country\": \"Cura\\u00e7ao\", \"alpha_code\": \"CW\", \"numeric_code\": 531, \"results\": 0}, {\"country\": \"Maldives\", \"alpha_code\": \"MV\", \"numeric_code\": 462, \"results\": 0}, {\"country\": \"Cyprus\", \"alpha_code\": \"CY\", \"numeric_code\": 196, \"results\": 0}, {\"country\": \"Madagascar\", \"alpha_code\": \"MG\", \"numeric_code\": 450, \"results\": 0}, {\"country\": \"Cabo Verde\", \"alpha_code\": \"CV\", \"numeric_code\": 132, \"results\": 0}]}}, {\"mode\": \"vega-lite\"});\n",
       "</script>"
      ],
      "text/plain": [
       "alt.Chart(...)"
      ]
     },
     "execution_count": 27,
     "metadata": {},
     "output_type": "execute_result"
    }
   ],
   "source": [
    "# Get the country outlines\n",
    "world = alt.topo_feature(vega_data.world_110m.url, 'countries')\n",
    "\n",
    "# Create the chart\n",
    "# Note domain setting to limit upper value of scale\n",
    "alt.Chart(world).mark_geoshape(stroke='black', strokeWidth=0.2).encode(\n",
    "    color=alt.Color('results:Q', scale=alt.Scale(scheme='greenblue', domain=[0,600]))\n",
    ").transform_lookup(\n",
    "    lookup='id',\n",
    "    from_=alt.LookupData(df, 'numeric_code', ['results'])\n",
    ").project(\n",
    "    type='equirectangular'\n",
    ").properties(\n",
    "    width=800,\n",
    "    height=500\n",
    ")"
   ]
  },
  {
   "cell_type": "code",
   "execution_count": null,
   "metadata": {},
   "outputs": [],
   "source": []
  }
 ],
 "metadata": {
  "kernelspec": {
   "display_name": "Python 3",
   "language": "python",
   "name": "python3"
  },
  "language_info": {
   "codemirror_mode": {
    "name": "ipython",
    "version": 3
   },
   "file_extension": ".py",
   "mimetype": "text/x-python",
   "name": "python",
   "nbconvert_exporter": "python",
   "pygments_lexer": "ipython3",
   "version": "3.7.7"
  }
 },
 "nbformat": 4,
 "nbformat_minor": 4
}
