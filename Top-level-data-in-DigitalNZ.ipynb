{
 "cells": [
  {
   "cell_type": "markdown",
   "metadata": {},
   "source": [
    "# Getting some top-level data from the DigitalNZ API\n",
    "\n",
    "This notebook pokes around at the top-level of DigitalNZ, mainly using facets.\n",
    "\n",
    "See the [API documentation](https://digitalnz.org/developers/api-docs-v3) for more detailed information."
   ]
  },
  {
   "cell_type": "code",
   "execution_count": 143,
   "metadata": {},
   "outputs": [
    {
     "data": {
      "text/plain": [
       "RendererRegistry.enable('notebook')"
      ]
     },
     "execution_count": 143,
     "metadata": {},
     "output_type": "execute_result"
    }
   ],
   "source": [
    "import requests\n",
    "import pandas as pd\n",
    "import altair as alt\n",
    "from IPython.display import display, HTML\n",
    "\n",
    "alt.renderers.enable('notebook')"
   ]
  },
  {
   "cell_type": "markdown",
   "metadata": {},
   "source": [
    "[Get yourself an API key](https://digitalnz.org/developers/getting-started) and paste it between the quotes below."
   ]
  },
  {
   "cell_type": "code",
   "execution_count": 183,
   "metadata": {},
   "outputs": [
    {
     "name": "stdout",
     "output_type": "stream",
     "text": [
      "Your API key is: \n"
     ]
    }
   ],
   "source": [
    "api_key = ''\n",
    "print('Your API key is: {}'.format(api_key))"
   ]
  },
  {
   "cell_type": "code",
   "execution_count": 174,
   "metadata": {},
   "outputs": [],
   "source": [
    "# Base url for queries\n",
    "api_search_url = 'http://api.digitalnz.org/v3/records.json'\n",
    "\n",
    "# Set up the query params (we'll change these later)\n",
    "# Let's start with an empty text query to look at everything\n",
    "params = {\n",
    "    'api_key': api_key,\n",
    "    'text': ''\n",
    "}"
   ]
  },
  {
   "cell_type": "code",
   "execution_count": 18,
   "metadata": {},
   "outputs": [],
   "source": [
    "def get_data():\n",
    "    '''\n",
    "    Retrieve an API query and extract the JSON payload.\n",
    "    '''\n",
    "    response = requests.get(api_search_url, params=params)\n",
    "    return response.json()"
   ]
  },
  {
   "cell_type": "markdown",
   "metadata": {},
   "source": [
    "## Hello world!"
   ]
  },
  {
   "cell_type": "code",
   "execution_count": 23,
   "metadata": {},
   "outputs": [
    {
     "name": "stdout",
     "output_type": "stream",
     "text": [
      " There are 31,086,352 items\n"
     ]
    }
   ],
   "source": [
    "# How many items are there?\n",
    "data = get_data()\n",
    "print(' There are {:,} items'.format(data['search']['result_count']))"
   ]
  },
  {
   "cell_type": "markdown",
   "metadata": {},
   "source": [
    "## Items by century"
   ]
  },
  {
   "cell_type": "code",
   "execution_count": 24,
   "metadata": {},
   "outputs": [],
   "source": [
    "params['facets'] = 'century'\n",
    "data = get_data()"
   ]
  },
  {
   "cell_type": "code",
   "execution_count": 54,
   "metadata": {
    "scrolled": true
   },
   "outputs": [
    {
     "data": {
      "text/html": [
       "<div>\n",
       "<style scoped>\n",
       "    .dataframe tbody tr th:only-of-type {\n",
       "        vertical-align: middle;\n",
       "    }\n",
       "\n",
       "    .dataframe tbody tr th {\n",
       "        vertical-align: top;\n",
       "    }\n",
       "\n",
       "    .dataframe thead th {\n",
       "        text-align: right;\n",
       "    }\n",
       "</style>\n",
       "<table border=\"1\" class=\"dataframe\">\n",
       "  <thead>\n",
       "    <tr style=\"text-align: right;\">\n",
       "      <th></th>\n",
       "      <th>century</th>\n",
       "      <th>count</th>\n",
       "    </tr>\n",
       "  </thead>\n",
       "  <tbody>\n",
       "    <tr>\n",
       "      <th>0</th>\n",
       "      <td>1900</td>\n",
       "      <td>16913154</td>\n",
       "    </tr>\n",
       "    <tr>\n",
       "      <th>1</th>\n",
       "      <td>1800</td>\n",
       "      <td>11331117</td>\n",
       "    </tr>\n",
       "    <tr>\n",
       "      <th>2</th>\n",
       "      <td>2000</td>\n",
       "      <td>1950527</td>\n",
       "    </tr>\n",
       "    <tr>\n",
       "      <th>3</th>\n",
       "      <td>1700</td>\n",
       "      <td>3541</td>\n",
       "    </tr>\n",
       "    <tr>\n",
       "      <th>4</th>\n",
       "      <td>1600</td>\n",
       "      <td>1550</td>\n",
       "    </tr>\n",
       "    <tr>\n",
       "      <th>5</th>\n",
       "      <td>1500</td>\n",
       "      <td>465</td>\n",
       "    </tr>\n",
       "    <tr>\n",
       "      <th>6</th>\n",
       "      <td>1300</td>\n",
       "      <td>198</td>\n",
       "    </tr>\n",
       "    <tr>\n",
       "      <th>7</th>\n",
       "      <td>8000</td>\n",
       "      <td>166</td>\n",
       "    </tr>\n",
       "    <tr>\n",
       "      <th>8</th>\n",
       "      <td>1400</td>\n",
       "      <td>163</td>\n",
       "    </tr>\n",
       "    <tr>\n",
       "      <th>9</th>\n",
       "      <td>1200</td>\n",
       "      <td>95</td>\n",
       "    </tr>\n",
       "  </tbody>\n",
       "</table>\n",
       "</div>"
      ],
      "text/plain": [
       "  century     count\n",
       "0    1900  16913154\n",
       "1    1800  11331117\n",
       "2    2000   1950527\n",
       "3    1700      3541\n",
       "4    1600      1550\n",
       "5    1500       465\n",
       "6    1300       198\n",
       "7    8000       166\n",
       "8    1400       163\n",
       "9    1200        95"
      ]
     },
     "execution_count": 54,
     "metadata": {},
     "output_type": "execute_result"
    }
   ],
   "source": [
    "centuries = data['search']['facets']['century']\n",
    "centuries_df = pd.Series(centuries).to_frame().reset_index()\n",
    "centuries_df.columns = ['century', 'count']\n",
    "centuries_df"
   ]
  },
  {
   "cell_type": "code",
   "execution_count": 69,
   "metadata": {},
   "outputs": [
    {
     "data": {
      "application/javascript": [
       "var spec = {\"config\": {\"view\": {\"width\": 400, \"height\": 300}}, \"hconcat\": [{\"data\": {\"name\": \"data-088d7935028453acff2e93fec8532831\"}, \"mark\": \"bar\", \"encoding\": {\"tooltip\": {\"type\": \"quantitative\", \"field\": \"count\", \"format\": \",\"}, \"x\": {\"type\": \"ordinal\", \"field\": \"century\"}, \"y\": {\"type\": \"quantitative\", \"field\": \"count\"}}}, {\"data\": {\"name\": \"data-088d7935028453acff2e93fec8532831\"}, \"mark\": \"bar\", \"encoding\": {\"tooltip\": {\"type\": \"quantitative\", \"field\": \"count\", \"format\": \",\"}, \"x\": {\"type\": \"ordinal\", \"field\": \"century\"}, \"y\": {\"type\": \"quantitative\", \"field\": \"count\", \"scale\": {\"type\": \"log\"}}}}], \"$schema\": \"https://vega.github.io/schema/vega-lite/v2.6.0.json\", \"datasets\": {\"data-088d7935028453acff2e93fec8532831\": [{\"century\": \"1900\", \"count\": 16913154}, {\"century\": \"1800\", \"count\": 11331117}, {\"century\": \"2000\", \"count\": 1950527}, {\"century\": \"1700\", \"count\": 3541}, {\"century\": \"1600\", \"count\": 1550}, {\"century\": \"1500\", \"count\": 465}, {\"century\": \"1300\", \"count\": 198}, {\"century\": \"8000\", \"count\": 166}, {\"century\": \"1400\", \"count\": 163}, {\"century\": \"1200\", \"count\": 95}]}};\n",
       "var opt = {};\n",
       "var type = \"vega-lite\";\n",
       "var id = \"2615ae86-bd2d-456a-94b6-286de719f85e\";\n",
       "\n",
       "var output_area = this;\n",
       "\n",
       "require([\"nbextensions/jupyter-vega/index\"], function(vega) {\n",
       "  var target = document.createElement(\"div\");\n",
       "  target.id = id;\n",
       "  target.className = \"vega-embed\";\n",
       "\n",
       "  var style = document.createElement(\"style\");\n",
       "  style.textContent = [\n",
       "    \".vega-embed .error p {\",\n",
       "    \"  color: firebrick;\",\n",
       "    \"  font-size: 14px;\",\n",
       "    \"}\",\n",
       "  ].join(\"\\\\n\");\n",
       "\n",
       "  // element is a jQuery wrapped DOM element inside the output area\n",
       "  // see http://ipython.readthedocs.io/en/stable/api/generated/\\\n",
       "  // IPython.display.html#IPython.display.Javascript.__init__\n",
       "  element[0].appendChild(target);\n",
       "  element[0].appendChild(style);\n",
       "\n",
       "  vega.render(\"#\" + id, spec, type, opt, output_area);\n",
       "}, function (err) {\n",
       "  if (err.requireType !== \"scripterror\") {\n",
       "    throw(err);\n",
       "  }\n",
       "});\n"
      ],
      "text/plain": [
       "<vega.vegalite.VegaLite at 0x1133a0748>"
      ]
     },
     "metadata": {
      "jupyter-vega": "#2615ae86-bd2d-456a-94b6-286de719f85e"
     },
     "output_type": "display_data"
    },
    {
     "data": {
      "text/plain": []
     },
     "execution_count": 69,
     "metadata": {},
     "output_type": "execute_result"
    },
    {
     "data": {
      "image/png": "[encoded data removed]"
     },
     "metadata": {
      "jupyter-vega": "#2615ae86-bd2d-456a-94b6-286de719f85e"
     },
     "output_type": "display_data"
    }
   ],
   "source": [
    "c1 = alt.Chart(centuries_df).mark_bar().encode(\n",
    "    x = 'century:O',\n",
    "    y = 'count:Q',\n",
    "    tooltip = alt.Tooltip('count', format=',')\n",
    ")\n",
    "c2 = alt.Chart(centuries_df).mark_bar().encode(\n",
    "    x = 'century:O',\n",
    "    y = alt.Y('count:Q', \n",
    "          scale=alt.Scale(type='log')),\n",
    "    tooltip = alt.Tooltip('count', format=',')\n",
    ")\n",
    "c1 | c2"
   ]
  },
  {
   "cell_type": "markdown",
   "metadata": {},
   "source": [
    "## Items by decade"
   ]
  },
  {
   "cell_type": "code",
   "execution_count": 86,
   "metadata": {},
   "outputs": [],
   "source": [
    "params['facets'] = 'decade'\n",
    "params['facets_per_page'] = 25\n",
    "data = get_data()"
   ]
  },
  {
   "cell_type": "code",
   "execution_count": 87,
   "metadata": {},
   "outputs": [
    {
     "data": {
      "text/html": [
       "<div>\n",
       "<style scoped>\n",
       "    .dataframe tbody tr th:only-of-type {\n",
       "        vertical-align: middle;\n",
       "    }\n",
       "\n",
       "    .dataframe tbody tr th {\n",
       "        vertical-align: top;\n",
       "    }\n",
       "\n",
       "    .dataframe thead th {\n",
       "        text-align: right;\n",
       "    }\n",
       "</style>\n",
       "<table border=\"1\" class=\"dataframe\">\n",
       "  <thead>\n",
       "    <tr style=\"text-align: right;\">\n",
       "      <th></th>\n",
       "      <th>decade</th>\n",
       "      <th>count</th>\n",
       "    </tr>\n",
       "  </thead>\n",
       "  <tbody>\n",
       "    <tr>\n",
       "      <th>0</th>\n",
       "      <td>1900</td>\n",
       "      <td>6505364</td>\n",
       "    </tr>\n",
       "    <tr>\n",
       "      <th>1</th>\n",
       "      <td>1910</td>\n",
       "      <td>6236371</td>\n",
       "    </tr>\n",
       "    <tr>\n",
       "      <th>2</th>\n",
       "      <td>1890</td>\n",
       "      <td>4802465</td>\n",
       "    </tr>\n",
       "    <tr>\n",
       "      <th>3</th>\n",
       "      <td>1880</td>\n",
       "      <td>3716245</td>\n",
       "    </tr>\n",
       "    <tr>\n",
       "      <th>4</th>\n",
       "      <td>1870</td>\n",
       "      <td>1868130</td>\n",
       "    </tr>\n",
       "  </tbody>\n",
       "</table>\n",
       "</div>"
      ],
      "text/plain": [
       "  decade    count\n",
       "0   1900  6505364\n",
       "1   1910  6236371\n",
       "2   1890  4802465\n",
       "3   1880  3716245\n",
       "4   1870  1868130"
      ]
     },
     "execution_count": 87,
     "metadata": {},
     "output_type": "execute_result"
    }
   ],
   "source": [
    "decades = data['search']['facets']['decade']\n",
    "decades_df = pd.Series(decades).to_frame().reset_index()\n",
    "decades_df.columns = ['decade', 'count']\n",
    "decades_df.head()"
   ]
  },
  {
   "cell_type": "code",
   "execution_count": 105,
   "metadata": {},
   "outputs": [
    {
     "data": {
      "application/javascript": [
       "var spec = {\"config\": {\"view\": {\"width\": 400, \"height\": 300}}, \"data\": {\"name\": \"data-4e6afb711d1f327de29b2dc59604ab24\"}, \"mark\": \"bar\", \"encoding\": {\"tooltip\": {\"type\": \"quantitative\", \"field\": \"count\", \"format\": \",\"}, \"x\": {\"type\": \"ordinal\", \"field\": \"decade\"}, \"y\": {\"type\": \"quantitative\", \"field\": \"count\"}}, \"$schema\": \"https://vega.github.io/schema/vega-lite/v2.6.0.json\", \"datasets\": {\"data-4e6afb711d1f327de29b2dc59604ab24\": [{\"decade\": \"1900\", \"count\": 6505364}, {\"decade\": \"1910\", \"count\": 6236371}, {\"decade\": \"1890\", \"count\": 4802465}, {\"decade\": \"1880\", \"count\": 3716245}, {\"decade\": \"1870\", \"count\": 1868130}, {\"decade\": \"1920\", \"count\": 1728455}, {\"decade\": \"2010\", \"count\": 1545362}, {\"decade\": \"1930\", \"count\": 1176970}, {\"decade\": \"1860\", \"count\": 760578}, {\"decade\": \"1940\", \"count\": 571933}, {\"decade\": \"2000\", \"count\": 406531}, {\"decade\": \"1950\", \"count\": 216023}, {\"decade\": \"1960\", \"count\": 194490}, {\"decade\": \"1850\", \"count\": 139696}, {\"decade\": \"1970\", \"count\": 125244}, {\"decade\": \"1990\", \"count\": 118632}, {\"decade\": \"1980\", \"count\": 91735}, {\"decade\": \"1840\", \"count\": 47624}, {\"decade\": \"1830\", \"count\": 3433}, {\"decade\": \"1800\", \"count\": 1885}, {\"decade\": \"1820\", \"count\": 1571}, {\"decade\": \"1760\", \"count\": 1296}, {\"decade\": \"1810\", \"count\": 1049}, {\"decade\": \"1770\", \"count\": 806}, {\"decade\": \"1790\", \"count\": 566}]}};\n",
       "var opt = {};\n",
       "var type = \"vega-lite\";\n",
       "var id = \"0570c7f9-8445-4775-9ebd-0e45154d0521\";\n",
       "\n",
       "var output_area = this;\n",
       "\n",
       "require([\"nbextensions/jupyter-vega/index\"], function(vega) {\n",
       "  var target = document.createElement(\"div\");\n",
       "  target.id = id;\n",
       "  target.className = \"vega-embed\";\n",
       "\n",
       "  var style = document.createElement(\"style\");\n",
       "  style.textContent = [\n",
       "    \".vega-embed .error p {\",\n",
       "    \"  color: firebrick;\",\n",
       "    \"  font-size: 14px;\",\n",
       "    \"}\",\n",
       "  ].join(\"\\\\n\");\n",
       "\n",
       "  // element is a jQuery wrapped DOM element inside the output area\n",
       "  // see http://ipython.readthedocs.io/en/stable/api/generated/\\\n",
       "  // IPython.display.html#IPython.display.Javascript.__init__\n",
       "  element[0].appendChild(target);\n",
       "  element[0].appendChild(style);\n",
       "\n",
       "  vega.render(\"#\" + id, spec, type, opt, output_area);\n",
       "}, function (err) {\n",
       "  if (err.requireType !== \"scripterror\") {\n",
       "    throw(err);\n",
       "  }\n",
       "});\n"
      ],
      "text/plain": [
       "<vega.vegalite.VegaLite at 0x1139af2b0>"
      ]
     },
     "metadata": {
      "jupyter-vega": "#0570c7f9-8445-4775-9ebd-0e45154d0521"
     },
     "output_type": "display_data"
    },
    {
     "data": {
      "text/plain": []
     },
     "execution_count": 105,
     "metadata": {},
     "output_type": "execute_result"
    },
    {
     "data": {
      "image/png": "[encoded data removed]"
     },
     "metadata": {
      "jupyter-vega": "#0570c7f9-8445-4775-9ebd-0e45154d0521"
     },
     "output_type": "display_data"
    }
   ],
   "source": [
    "alt.Chart(decades_df).mark_bar().encode(\n",
    "    x = 'decade:O',\n",
    "    y = 'count:Q',\n",
    "    tooltip = alt.Tooltip('count', format=',')\n",
    ")"
   ]
  },
  {
   "cell_type": "markdown",
   "metadata": {},
   "source": [
    "## Top 25 collections"
   ]
  },
  {
   "cell_type": "code",
   "execution_count": 130,
   "metadata": {},
   "outputs": [],
   "source": [
    "params['facets'] = 'display_collection'\n",
    "params['facets_per_page'] = 26\n",
    "data = get_data()"
   ]
  },
  {
   "cell_type": "code",
   "execution_count": 131,
   "metadata": {},
   "outputs": [
    {
     "data": {
      "text/html": [
       "<div>\n",
       "<style scoped>\n",
       "    .dataframe tbody tr th:only-of-type {\n",
       "        vertical-align: middle;\n",
       "    }\n",
       "\n",
       "    .dataframe tbody tr th {\n",
       "        vertical-align: top;\n",
       "    }\n",
       "\n",
       "    .dataframe thead th {\n",
       "        text-align: right;\n",
       "    }\n",
       "</style>\n",
       "<table border=\"1\" class=\"dataframe\">\n",
       "  <thead>\n",
       "    <tr style=\"text-align: right;\">\n",
       "      <th></th>\n",
       "      <th>collection</th>\n",
       "      <th>count</th>\n",
       "    </tr>\n",
       "  </thead>\n",
       "  <tbody>\n",
       "    <tr>\n",
       "      <th>0</th>\n",
       "      <td>Papers Past</td>\n",
       "      <td>26577755</td>\n",
       "    </tr>\n",
       "    <tr>\n",
       "      <th>1</th>\n",
       "      <td>Radio New Zealand</td>\n",
       "      <td>624036</td>\n",
       "    </tr>\n",
       "    <tr>\n",
       "      <th>2</th>\n",
       "      <td>NatureWatch NZ</td>\n",
       "      <td>405193</td>\n",
       "    </tr>\n",
       "    <tr>\n",
       "      <th>3</th>\n",
       "      <td>TAPUHI</td>\n",
       "      <td>306416</td>\n",
       "    </tr>\n",
       "    <tr>\n",
       "      <th>4</th>\n",
       "      <td>New Zealand Electronic Text Collection</td>\n",
       "      <td>222293</td>\n",
       "    </tr>\n",
       "  </tbody>\n",
       "</table>\n",
       "</div>"
      ],
      "text/plain": [
       "                               collection     count\n",
       "0                             Papers Past  26577755\n",
       "1                       Radio New Zealand    624036\n",
       "2                          NatureWatch NZ    405193\n",
       "3                                  TAPUHI    306416\n",
       "4  New Zealand Electronic Text Collection    222293"
      ]
     },
     "execution_count": 131,
     "metadata": {},
     "output_type": "execute_result"
    }
   ],
   "source": [
    "# Note that the facet is called 'primary_collection' in the results!\n",
    "collections = data['search']['facets']['primary_collection']\n",
    "collections_df = pd.Series(collections).to_frame().reset_index()\n",
    "collections_df.columns = ['collection', 'count']\n",
    "collections_df.head()"
   ]
  },
  {
   "cell_type": "markdown",
   "metadata": {},
   "source": [
    "Papers Past is so much bigger than anything else, let's exclude it from the chart."
   ]
  },
  {
   "cell_type": "code",
   "execution_count": 132,
   "metadata": {
    "scrolled": false
   },
   "outputs": [
    {
     "data": {
      "application/javascript": [
       "var spec = {\"config\": {\"view\": {\"width\": 400, \"height\": 300}}, \"data\": {\"name\": \"data-baab32acc4cfa5df2fc67eb0963b75c9\"}, \"mark\": \"bar\", \"encoding\": {\"tooltip\": {\"type\": \"quantitative\", \"field\": \"count\", \"format\": \",\"}, \"x\": {\"type\": \"quantitative\", \"field\": \"count\"}, \"y\": {\"type\": \"nominal\", \"field\": \"collection\"}}, \"$schema\": \"https://vega.github.io/schema/vega-lite/v2.6.0.json\", \"datasets\": {\"data-baab32acc4cfa5df2fc67eb0963b75c9\": [{\"collection\": \"Radio New Zealand\", \"count\": 624036}, {\"collection\": \"NatureWatch NZ\", \"count\": 405193}, {\"collection\": \"TAPUHI\", \"count\": 306416}, {\"collection\": \"New Zealand Electronic Text Collection\", \"count\": 222293}, {\"collection\": \"Auckland Museum Collections\", \"count\": 212193}, {\"collection\": \"New Zealand Gazette\", \"count\": 206829}, {\"collection\": \"Auckland Libraries Heritage Images Collection\", \"count\": 189225}, {\"collection\": \"Nelson Provincial Museum\", \"count\": 142871}, {\"collection\": \"Archway\", \"count\": 140914}, {\"collection\": \"Puke Ariki\", \"count\": 132288}, {\"collection\": \"Cenotaph Database\", \"count\": 129603}, {\"collection\": \"QuakeStudies Repository\", \"count\": 128956}, {\"collection\": \"Te Papa Collections Online\", \"count\": 124963}, {\"collection\": \"Trove\", \"count\": 115467}, {\"collection\": \"National Library of New Zealand Catalogue\", \"count\": 109904}, {\"collection\": \"TVNZ\", \"count\": 65301}, {\"collection\": \"Antarctica NZ Digital Asset Manager\", \"count\": 54727}, {\"collection\": \"Anthropology Photographic Archive\", \"count\": 54026}, {\"collection\": \"Upper Hutt Newspaper Archive\", \"count\": 51184}, {\"collection\": \"Kete Christchurch\", \"count\": 43244}, {\"collection\": \"Te Ara - The Encyclopedia of New Zealand\", \"count\": 38647}, {\"collection\": \"Transactions and Proceedings of the Royal Society of New Zealand 1868-1961\", \"count\": 37625}, {\"collection\": \"Christchurch City Libraries Flickr\", \"count\": 33197}, {\"collection\": \"Hocken Snapshop\", \"count\": 33036}, {\"collection\": \"Kete New Plymouth\", \"count\": 31601}]}};\n",
       "var opt = {};\n",
       "var type = \"vega-lite\";\n",
       "var id = \"cafcb687-9c2a-45df-94ab-23468e74baf5\";\n",
       "\n",
       "var output_area = this;\n",
       "\n",
       "require([\"nbextensions/jupyter-vega/index\"], function(vega) {\n",
       "  var target = document.createElement(\"div\");\n",
       "  target.id = id;\n",
       "  target.className = \"vega-embed\";\n",
       "\n",
       "  var style = document.createElement(\"style\");\n",
       "  style.textContent = [\n",
       "    \".vega-embed .error p {\",\n",
       "    \"  color: firebrick;\",\n",
       "    \"  font-size: 14px;\",\n",
       "    \"}\",\n",
       "  ].join(\"\\\\n\");\n",
       "\n",
       "  // element is a jQuery wrapped DOM element inside the output area\n",
       "  // see http://ipython.readthedocs.io/en/stable/api/generated/\\\n",
       "  // IPython.display.html#IPython.display.Javascript.__init__\n",
       "  element[0].appendChild(target);\n",
       "  element[0].appendChild(style);\n",
       "\n",
       "  vega.render(\"#\" + id, spec, type, opt, output_area);\n",
       "}, function (err) {\n",
       "  if (err.requireType !== \"scripterror\") {\n",
       "    throw(err);\n",
       "  }\n",
       "});\n"
      ],
      "text/plain": [
       "<vega.vegalite.VegaLite at 0x113a7ffd0>"
      ]
     },
     "metadata": {
      "jupyter-vega": "#cafcb687-9c2a-45df-94ab-23468e74baf5"
     },
     "output_type": "display_data"
    },
    {
     "data": {
      "text/plain": []
     },
     "execution_count": 132,
     "metadata": {},
     "output_type": "execute_result"
    },
    {
     "data": {
      "image/png": "[encoded data removed]"
     },
     "metadata": {
      "jupyter-vega": "#cafcb687-9c2a-45df-94ab-23468e74baf5"
     },
     "output_type": "display_data"
    }
   ],
   "source": [
    "alt.Chart(collections_df[1:]).mark_bar().encode(\n",
    "    x=alt.X('count:Q'),\n",
    "    y=alt.Y('collection:N'),\n",
    "    tooltip = alt.Tooltip('count', format=',')\n",
    ")"
   ]
  },
  {
   "cell_type": "markdown",
   "metadata": {},
   "source": [
    "## Create a dataset of all collections"
   ]
  },
  {
   "cell_type": "code",
   "execution_count": 139,
   "metadata": {},
   "outputs": [],
   "source": [
    "more = True\n",
    "all_collections = {}\n",
    "params['facets'] = 'display_collection'\n",
    "params['facets_per_page'] = 100\n",
    "params['facets_page'] = 1\n",
    "while more:\n",
    "    data = get_data()\n",
    "    facets = data['search']['facets']['primary_collection']\n",
    "    if facets:\n",
    "        all_collections.update(facets)\n",
    "        params['facets_page'] += 1\n",
    "    else:\n",
    "        more = False"
   ]
  },
  {
   "cell_type": "code",
   "execution_count": 140,
   "metadata": {},
   "outputs": [
    {
     "data": {
      "text/html": [
       "<div>\n",
       "<style scoped>\n",
       "    .dataframe tbody tr th:only-of-type {\n",
       "        vertical-align: middle;\n",
       "    }\n",
       "\n",
       "    .dataframe tbody tr th {\n",
       "        vertical-align: top;\n",
       "    }\n",
       "\n",
       "    .dataframe thead th {\n",
       "        text-align: right;\n",
       "    }\n",
       "</style>\n",
       "<table border=\"1\" class=\"dataframe\">\n",
       "  <thead>\n",
       "    <tr style=\"text-align: right;\">\n",
       "      <th></th>\n",
       "      <th>collection</th>\n",
       "      <th>count</th>\n",
       "    </tr>\n",
       "  </thead>\n",
       "  <tbody>\n",
       "    <tr>\n",
       "      <th>0</th>\n",
       "      <td>Papers Past</td>\n",
       "      <td>26577755</td>\n",
       "    </tr>\n",
       "    <tr>\n",
       "      <th>1</th>\n",
       "      <td>Radio New Zealand</td>\n",
       "      <td>624036</td>\n",
       "    </tr>\n",
       "    <tr>\n",
       "      <th>2</th>\n",
       "      <td>NatureWatch NZ</td>\n",
       "      <td>405193</td>\n",
       "    </tr>\n",
       "    <tr>\n",
       "      <th>3</th>\n",
       "      <td>TAPUHI</td>\n",
       "      <td>306416</td>\n",
       "    </tr>\n",
       "    <tr>\n",
       "      <th>4</th>\n",
       "      <td>New Zealand Electronic Text Collection</td>\n",
       "      <td>222293</td>\n",
       "    </tr>\n",
       "  </tbody>\n",
       "</table>\n",
       "</div>"
      ],
      "text/plain": [
       "                               collection     count\n",
       "0                             Papers Past  26577755\n",
       "1                       Radio New Zealand    624036\n",
       "2                          NatureWatch NZ    405193\n",
       "3                                  TAPUHI    306416\n",
       "4  New Zealand Electronic Text Collection    222293"
      ]
     },
     "execution_count": 140,
     "metadata": {},
     "output_type": "execute_result"
    }
   ],
   "source": [
    "all_collections_df = pd.Series(all_collections).to_frame().reset_index()\n",
    "all_collections_df.columns = ['collection', 'count']\n",
    "all_collections_df.head()"
   ]
  },
  {
   "cell_type": "code",
   "execution_count": 144,
   "metadata": {},
   "outputs": [
    {
     "data": {
      "text/html": [
       "<a href=\"digitalnz_collections.csv\">Download CSV file</a>"
      ],
      "text/plain": [
       "<IPython.core.display.HTML object>"
      ]
     },
     "metadata": {},
     "output_type": "display_data"
    }
   ],
   "source": [
    "all_collections_df.to_csv('digitalnz_collections.csv', index=False)\n",
    "display(HTML('<a href=\"digitalnz_collections.csv\">Download CSV file</a>'))"
   ]
  },
  {
   "cell_type": "markdown",
   "metadata": {},
   "source": [
    "## Top 25 newspapers in Papers Past"
   ]
  },
  {
   "cell_type": "code",
   "execution_count": 176,
   "metadata": {},
   "outputs": [],
   "source": [
    "params['facets'] = 'collection'\n",
    "params['and[display_collection][]'] = 'Papers Past'\n",
    "params['facets_per_page'] = 26\n",
    "params['facets_page'] = 1\n",
    "data = get_data()"
   ]
  },
  {
   "cell_type": "code",
   "execution_count": 177,
   "metadata": {},
   "outputs": [
    {
     "data": {
      "text/html": [
       "<div>\n",
       "<style scoped>\n",
       "    .dataframe tbody tr th:only-of-type {\n",
       "        vertical-align: middle;\n",
       "    }\n",
       "\n",
       "    .dataframe tbody tr th {\n",
       "        vertical-align: top;\n",
       "    }\n",
       "\n",
       "    .dataframe thead th {\n",
       "        text-align: right;\n",
       "    }\n",
       "</style>\n",
       "<table border=\"1\" class=\"dataframe\">\n",
       "  <thead>\n",
       "    <tr style=\"text-align: right;\">\n",
       "      <th></th>\n",
       "      <th>newspaper</th>\n",
       "      <th>count</th>\n",
       "    </tr>\n",
       "  </thead>\n",
       "  <tbody>\n",
       "    <tr>\n",
       "      <th>0</th>\n",
       "      <td>Papers Past</td>\n",
       "      <td>26577755</td>\n",
       "    </tr>\n",
       "    <tr>\n",
       "      <th>1</th>\n",
       "      <td>Evening Post</td>\n",
       "      <td>3772941</td>\n",
       "    </tr>\n",
       "    <tr>\n",
       "      <th>2</th>\n",
       "      <td>Otago Daily Times</td>\n",
       "      <td>1583125</td>\n",
       "    </tr>\n",
       "    <tr>\n",
       "      <th>3</th>\n",
       "      <td>Wanganui Chronicle</td>\n",
       "      <td>1163217</td>\n",
       "    </tr>\n",
       "    <tr>\n",
       "      <th>4</th>\n",
       "      <td>Hawera &amp; Normanby Star</td>\n",
       "      <td>1075326</td>\n",
       "    </tr>\n",
       "  </tbody>\n",
       "</table>\n",
       "</div>"
      ],
      "text/plain": [
       "                newspaper     count\n",
       "0             Papers Past  26577755\n",
       "1            Evening Post   3772941\n",
       "2       Otago Daily Times   1583125\n",
       "3      Wanganui Chronicle   1163217\n",
       "4  Hawera & Normanby Star   1075326"
      ]
     },
     "execution_count": 177,
     "metadata": {},
     "output_type": "execute_result"
    }
   ],
   "source": [
    "newspapers = data['search']['facets']['collection']\n",
    "newspapers_df = pd.Series(newspapers).to_frame().reset_index()\n",
    "newspapers_df.columns = ['newspaper', 'count']\n",
    "newspapers_df.head()"
   ]
  },
  {
   "cell_type": "code",
   "execution_count": 178,
   "metadata": {},
   "outputs": [
    {
     "data": {
      "application/javascript": [
       "var spec = {\"config\": {\"view\": {\"width\": 400, \"height\": 300}}, \"data\": {\"name\": \"data-b06769e112d274f0ec7685fcde86b3ff\"}, \"mark\": \"bar\", \"encoding\": {\"tooltip\": {\"type\": \"quantitative\", \"field\": \"count\", \"format\": \",\"}, \"x\": {\"type\": \"quantitative\", \"field\": \"count\"}, \"y\": {\"type\": \"nominal\", \"field\": \"newspaper\"}}, \"$schema\": \"https://vega.github.io/schema/vega-lite/v2.6.0.json\", \"datasets\": {\"data-b06769e112d274f0ec7685fcde86b3ff\": [{\"newspaper\": \"Evening Post\", \"count\": 3772941}, {\"newspaper\": \"Otago Daily Times\", \"count\": 1583125}, {\"newspaper\": \"Wanganui Chronicle\", \"count\": 1163217}, {\"newspaper\": \"Hawera & Normanby Star\", \"count\": 1075326}, {\"newspaper\": \"Marlborough Express\", \"count\": 1036166}, {\"newspaper\": \"Auckland Star\", \"count\": 1005149}, {\"newspaper\": \"Colonist\", \"count\": 999872}, {\"newspaper\": \"Poverty Bay Herald\", \"count\": 963395}, {\"newspaper\": \"Grey River Argus\", \"count\": 890905}, {\"newspaper\": \"Thames Star\", \"count\": 869635}, {\"newspaper\": \"Ashburton Guardian\", \"count\": 830871}, {\"newspaper\": \"Star\", \"count\": 819679}, {\"newspaper\": \"Wanganui Herald\", \"count\": 784091}, {\"newspaper\": \"Nelson Evening Mail\", \"count\": 693164}, {\"newspaper\": \"Taranaki Herald\", \"count\": 677704}, {\"newspaper\": \"Feilding Star\", \"count\": 650958}, {\"newspaper\": \"Otago Witness\", \"count\": 603649}, {\"newspaper\": \"Wairarapa Daily Times\", \"count\": 575596}, {\"newspaper\": \"West Coast Times\", \"count\": 534690}, {\"newspaper\": \"Taranaki Daily News\", \"count\": 525341}, {\"newspaper\": \"Hawke's Bay Herald\", \"count\": 445395}, {\"newspaper\": \"Southland Times\", \"count\": 418609}, {\"newspaper\": \"North Otago Times\", \"count\": 417958}, {\"newspaper\": \"Timaru Herald\", \"count\": 406184}, {\"newspaper\": \"Bay Of Plenty Times\", \"count\": 371855}]}};\n",
       "var opt = {};\n",
       "var type = \"vega-lite\";\n",
       "var id = \"b602186e-9428-4af9-aac9-149dd8794103\";\n",
       "\n",
       "var output_area = this;\n",
       "\n",
       "require([\"nbextensions/jupyter-vega/index\"], function(vega) {\n",
       "  var target = document.createElement(\"div\");\n",
       "  target.id = id;\n",
       "  target.className = \"vega-embed\";\n",
       "\n",
       "  var style = document.createElement(\"style\");\n",
       "  style.textContent = [\n",
       "    \".vega-embed .error p {\",\n",
       "    \"  color: firebrick;\",\n",
       "    \"  font-size: 14px;\",\n",
       "    \"}\",\n",
       "  ].join(\"\\\\n\");\n",
       "\n",
       "  // element is a jQuery wrapped DOM element inside the output area\n",
       "  // see http://ipython.readthedocs.io/en/stable/api/generated/\\\n",
       "  // IPython.display.html#IPython.display.Javascript.__init__\n",
       "  element[0].appendChild(target);\n",
       "  element[0].appendChild(style);\n",
       "\n",
       "  vega.render(\"#\" + id, spec, type, opt, output_area);\n",
       "}, function (err) {\n",
       "  if (err.requireType !== \"scripterror\") {\n",
       "    throw(err);\n",
       "  }\n",
       "});\n"
      ],
      "text/plain": [
       "<vega.vegalite.VegaLite at 0x1139af908>"
      ]
     },
     "metadata": {
      "jupyter-vega": "#b602186e-9428-4af9-aac9-149dd8794103"
     },
     "output_type": "display_data"
    },
    {
     "data": {
      "text/plain": []
     },
     "execution_count": 178,
     "metadata": {},
     "output_type": "execute_result"
    },
    {
     "data": {
      "image/png": "[encoded data removed]"
     },
     "metadata": {
      "jupyter-vega": "#b602186e-9428-4af9-aac9-149dd8794103"
     },
     "output_type": "display_data"
    }
   ],
   "source": [
    "alt.Chart(newspapers_df[1:]).mark_bar().encode(\n",
    "    x=alt.X('count:Q'),\n",
    "    y=alt.Y('newspaper:N'),\n",
    "    tooltip = alt.Tooltip('count', format=',')\n",
    ")"
   ]
  },
  {
   "cell_type": "markdown",
   "metadata": {},
   "source": [
    "## All newspapers in Papers Past"
   ]
  },
  {
   "cell_type": "code",
   "execution_count": 179,
   "metadata": {},
   "outputs": [],
   "source": [
    "more = True\n",
    "all_newspapers = {}\n",
    "params['facets'] = 'collection'\n",
    "params['and[display_collection][]'] = 'Papers Past'\n",
    "params['facets_per_page'] = 100\n",
    "params['facets_page'] = 1\n",
    "while more:\n",
    "    data = get_data()\n",
    "    facets = data['search']['facets']['collection']\n",
    "    if facets:\n",
    "        all_newspapers.update(facets)\n",
    "        params['facets_page'] += 1\n",
    "    else:\n",
    "        more = False"
   ]
  },
  {
   "cell_type": "code",
   "execution_count": 180,
   "metadata": {},
   "outputs": [
    {
     "data": {
      "text/html": [
       "<div>\n",
       "<style scoped>\n",
       "    .dataframe tbody tr th:only-of-type {\n",
       "        vertical-align: middle;\n",
       "    }\n",
       "\n",
       "    .dataframe tbody tr th {\n",
       "        vertical-align: top;\n",
       "    }\n",
       "\n",
       "    .dataframe thead th {\n",
       "        text-align: right;\n",
       "    }\n",
       "</style>\n",
       "<table border=\"1\" class=\"dataframe\">\n",
       "  <thead>\n",
       "    <tr style=\"text-align: right;\">\n",
       "      <th></th>\n",
       "      <th>newspaper</th>\n",
       "      <th>count</th>\n",
       "    </tr>\n",
       "  </thead>\n",
       "  <tbody>\n",
       "    <tr>\n",
       "      <th>0</th>\n",
       "      <td>Papers Past</td>\n",
       "      <td>26577755</td>\n",
       "    </tr>\n",
       "    <tr>\n",
       "      <th>1</th>\n",
       "      <td>Evening Post</td>\n",
       "      <td>3772941</td>\n",
       "    </tr>\n",
       "    <tr>\n",
       "      <th>2</th>\n",
       "      <td>Otago Daily Times</td>\n",
       "      <td>1583125</td>\n",
       "    </tr>\n",
       "    <tr>\n",
       "      <th>3</th>\n",
       "      <td>Wanganui Chronicle</td>\n",
       "      <td>1163217</td>\n",
       "    </tr>\n",
       "    <tr>\n",
       "      <th>4</th>\n",
       "      <td>Hawera &amp; Normanby Star</td>\n",
       "      <td>1075326</td>\n",
       "    </tr>\n",
       "  </tbody>\n",
       "</table>\n",
       "</div>"
      ],
      "text/plain": [
       "                newspaper     count\n",
       "0             Papers Past  26577755\n",
       "1            Evening Post   3772941\n",
       "2       Otago Daily Times   1583125\n",
       "3      Wanganui Chronicle   1163217\n",
       "4  Hawera & Normanby Star   1075326"
      ]
     },
     "execution_count": 180,
     "metadata": {},
     "output_type": "execute_result"
    }
   ],
   "source": [
    "all_newspapers_df = pd.Series(all_newspapers).to_frame().reset_index()\n",
    "all_newspapers_df.columns = ['newspaper', 'count']\n",
    "all_newspapers_df.head()"
   ]
  },
  {
   "cell_type": "code",
   "execution_count": 182,
   "metadata": {},
   "outputs": [
    {
     "data": {
      "text/html": [
       "<a href=\"paperspast_newspapers.csv\">Download CSV file</a>"
      ],
      "text/plain": [
       "<IPython.core.display.HTML object>"
      ]
     },
     "metadata": {},
     "output_type": "display_data"
    }
   ],
   "source": [
    "all_newspapers_df[1:].to_csv('paperspast_newspapers.csv', index=False)\n",
    "display(HTML('<a href=\"paperspast_newspapers.csv\">Download CSV file</a>'))"
   ]
  },
  {
   "cell_type": "code",
   "execution_count": null,
   "metadata": {},
   "outputs": [],
   "source": []
  }
 ],
 "metadata": {
  "kernelspec": {
   "display_name": "Python 3",
   "language": "python",
   "name": "python3"
  },
  "language_info": {
   "codemirror_mode": {
    "name": "ipython",
    "version": 3
   },
   "file_extension": ".py",
   "mimetype": "text/x-python",
   "name": "python",
   "nbconvert_exporter": "python",
   "pygments_lexer": "ipython3",
   "version": "3.6.5"
  }
 },
 "nbformat": 4,
 "nbformat_minor": 2
}
