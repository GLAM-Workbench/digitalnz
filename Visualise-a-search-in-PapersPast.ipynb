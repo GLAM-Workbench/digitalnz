{
 "cells": [
  {
   "cell_type": "markdown",
   "metadata": {},
   "source": [
    "# Visualise a search in Papers Past"
   ]
  },
  {
   "cell_type": "code",
   "execution_count": 1,
   "metadata": {},
   "outputs": [],
   "source": [
    "import requests\n",
    "import pandas as pd\n",
    "import altair as alt\n",
    "from IPython.display import display, HTML"
   ]
  },
  {
   "cell_type": "code",
   "execution_count": null,
   "metadata": {},
   "outputs": [],
   "source": [
    "api_key = 'YOUR API KEY'\n",
    "print('Your API key is: {}'.format(api_key))"
   ]
  },
  {
   "cell_type": "code",
   "execution_count": 3,
   "metadata": {},
   "outputs": [],
   "source": [
    "# Base url for queries\n",
    "api_search_url = 'http://api.digitalnz.org/v3/records.json'\n",
    "\n",
    "# Set up the query params (we'll change these later)\n",
    "# Let's start with an empty text query to look at everything\n",
    "params = {\n",
    "    'api_key': api_key,\n",
    "    'text': ''\n",
    "}"
   ]
  },
  {
   "cell_type": "code",
   "execution_count": 4,
   "metadata": {},
   "outputs": [],
   "source": [
    "params['and[display_collection][]'] = 'Papers Past'\n",
    "params['text'] = 'possum OR opossum'\n",
    "params['facets'] = 'year,collection'\n",
    "params['facets_per_page'] = 100\n",
    "response = requests.get(api_search_url, params=params)\n",
    "data = response.json()"
   ]
  },
  {
   "cell_type": "code",
   "execution_count": 5,
   "metadata": {},
   "outputs": [
    {
     "data": {
      "text/html": [
       "<div>\n",
       "<style scoped>\n",
       "    .dataframe tbody tr th:only-of-type {\n",
       "        vertical-align: middle;\n",
       "    }\n",
       "\n",
       "    .dataframe tbody tr th {\n",
       "        vertical-align: top;\n",
       "    }\n",
       "\n",
       "    .dataframe thead th {\n",
       "        text-align: right;\n",
       "    }\n",
       "</style>\n",
       "<table border=\"1\" class=\"dataframe\">\n",
       "  <thead>\n",
       "    <tr style=\"text-align: right;\">\n",
       "      <th></th>\n",
       "      <th>title</th>\n",
       "      <th>count</th>\n",
       "    </tr>\n",
       "  </thead>\n",
       "  <tbody>\n",
       "    <tr>\n",
       "      <th>0</th>\n",
       "      <td>Papers Past</td>\n",
       "      <td>22649</td>\n",
       "    </tr>\n",
       "    <tr>\n",
       "      <th>1</th>\n",
       "      <td>Evening Post</td>\n",
       "      <td>5379</td>\n",
       "    </tr>\n",
       "    <tr>\n",
       "      <th>2</th>\n",
       "      <td>Otago Daily Times</td>\n",
       "      <td>3256</td>\n",
       "    </tr>\n",
       "    <tr>\n",
       "      <th>3</th>\n",
       "      <td>West Coast Times</td>\n",
       "      <td>1227</td>\n",
       "    </tr>\n",
       "    <tr>\n",
       "      <th>4</th>\n",
       "      <td>Star</td>\n",
       "      <td>1207</td>\n",
       "    </tr>\n",
       "  </tbody>\n",
       "</table>\n",
       "</div>"
      ],
      "text/plain": [
       "               title  count\n",
       "0        Papers Past  22649\n",
       "1       Evening Post   5379\n",
       "2  Otago Daily Times   3256\n",
       "3   West Coast Times   1227\n",
       "4               Star   1207"
      ]
     },
     "execution_count": 5,
     "metadata": {},
     "output_type": "execute_result"
    }
   ],
   "source": [
    "titles = data['search']['facets']['collection']\n",
    "titles_df = pd.Series(titles).to_frame().reset_index()\n",
    "titles_df.columns = ['title', 'count']\n",
    "titles_df.head()"
   ]
  },
  {
   "cell_type": "code",
   "execution_count": 6,
   "metadata": {},
   "outputs": [
    {
     "data": {
      "text/html": [
       "<div>\n",
       "<style scoped>\n",
       "    .dataframe tbody tr th:only-of-type {\n",
       "        vertical-align: middle;\n",
       "    }\n",
       "\n",
       "    .dataframe tbody tr th {\n",
       "        vertical-align: top;\n",
       "    }\n",
       "\n",
       "    .dataframe thead th {\n",
       "        text-align: right;\n",
       "    }\n",
       "</style>\n",
       "<table border=\"1\" class=\"dataframe\">\n",
       "  <thead>\n",
       "    <tr style=\"text-align: right;\">\n",
       "      <th></th>\n",
       "      <th>year</th>\n",
       "      <th>count</th>\n",
       "      <th>url</th>\n",
       "    </tr>\n",
       "  </thead>\n",
       "  <tbody>\n",
       "    <tr>\n",
       "      <th>0</th>\n",
       "      <td>1874</td>\n",
       "      <td>807</td>\n",
       "      <td>https://paperspast.natlib.govt.nz/newspapers?q...</td>\n",
       "    </tr>\n",
       "    <tr>\n",
       "      <th>1</th>\n",
       "      <td>1893</td>\n",
       "      <td>666</td>\n",
       "      <td>https://paperspast.natlib.govt.nz/newspapers?q...</td>\n",
       "    </tr>\n",
       "    <tr>\n",
       "      <th>2</th>\n",
       "      <td>1898</td>\n",
       "      <td>641</td>\n",
       "      <td>https://paperspast.natlib.govt.nz/newspapers?q...</td>\n",
       "    </tr>\n",
       "    <tr>\n",
       "      <th>3</th>\n",
       "      <td>1872</td>\n",
       "      <td>622</td>\n",
       "      <td>https://paperspast.natlib.govt.nz/newspapers?q...</td>\n",
       "    </tr>\n",
       "    <tr>\n",
       "      <th>4</th>\n",
       "      <td>1873</td>\n",
       "      <td>622</td>\n",
       "      <td>https://paperspast.natlib.govt.nz/newspapers?q...</td>\n",
       "    </tr>\n",
       "  </tbody>\n",
       "</table>\n",
       "</div>"
      ],
      "text/plain": [
       "   year  count                                                url\n",
       "0  1874    807  https://paperspast.natlib.govt.nz/newspapers?q...\n",
       "1  1893    666  https://paperspast.natlib.govt.nz/newspapers?q...\n",
       "2  1898    641  https://paperspast.natlib.govt.nz/newspapers?q...\n",
       "3  1872    622  https://paperspast.natlib.govt.nz/newspapers?q...\n",
       "4  1873    622  https://paperspast.natlib.govt.nz/newspapers?q..."
      ]
     },
     "execution_count": 6,
     "metadata": {},
     "output_type": "execute_result"
    }
   ],
   "source": [
    "years = data['search']['facets']['year']\n",
    "years_df = pd.Series(years).to_frame().reset_index()\n",
    "years_df.columns = ['year', 'count']\n",
    "years_df['url'] = 'https://paperspast.natlib.govt.nz/newspapers?query={0}&start_date=01-01-{1}&end_date=31-12-{1}'.format(params['text'], years_df['year'][0])\n",
    "years_df.head()"
   ]
  },
  {
   "cell_type": "code",
   "execution_count": 7,
   "metadata": {},
   "outputs": [
    {
     "data": {
      "text/html": [
       "\n",
       "<div id=\"altair-viz-c44787b253ad4c7aa83e33337767ee70\"></div>\n",
       "<script type=\"text/javascript\">\n",
       "  (function(spec, embedOpt){\n",
       "    let outputDiv = document.currentScript.previousElementSibling;\n",
       "    if (outputDiv.id !== \"altair-viz-c44787b253ad4c7aa83e33337767ee70\") {\n",
       "      outputDiv = document.getElementById(\"altair-viz-c44787b253ad4c7aa83e33337767ee70\");\n",
       "    }\n",
       "    const paths = {\n",
       "      \"vega\": \"https://cdn.jsdelivr.net/npm//vega@5?noext\",\n",
       "      \"vega-lib\": \"https://cdn.jsdelivr.net/npm//vega-lib?noext\",\n",
       "      \"vega-lite\": \"https://cdn.jsdelivr.net/npm//vega-lite@4.8.1?noext\",\n",
       "      \"vega-embed\": \"https://cdn.jsdelivr.net/npm//vega-embed@6?noext\",\n",
       "    };\n",
       "\n",
       "    function loadScript(lib) {\n",
       "      return new Promise(function(resolve, reject) {\n",
       "        var s = document.createElement('script');\n",
       "        s.src = paths[lib];\n",
       "        s.async = true;\n",
       "        s.onload = () => resolve(paths[lib]);\n",
       "        s.onerror = () => reject(`Error loading script: ${paths[lib]}`);\n",
       "        document.getElementsByTagName(\"head\")[0].appendChild(s);\n",
       "      });\n",
       "    }\n",
       "\n",
       "    function showError(err) {\n",
       "      outputDiv.innerHTML = `<div class=\"error\" style=\"color:red;\">${err}</div>`;\n",
       "      throw err;\n",
       "    }\n",
       "\n",
       "    function displayChart(vegaEmbed) {\n",
       "      vegaEmbed(outputDiv, spec, embedOpt)\n",
       "        .catch(err => showError(`Javascript Error: ${err.message}<br>This usually means there's a typo in your chart specification. See the javascript console for the full traceback.`));\n",
       "    }\n",
       "\n",
       "    if(typeof define === \"function\" && define.amd) {\n",
       "      requirejs.config({paths});\n",
       "      require([\"vega-embed\"], displayChart, err => showError(`Error loading script: ${err.message}`));\n",
       "    } else if (typeof vegaEmbed === \"function\") {\n",
       "      displayChart(vegaEmbed);\n",
       "    } else {\n",
       "      loadScript(\"vega\")\n",
       "        .then(() => loadScript(\"vega-lite\"))\n",
       "        .then(() => loadScript(\"vega-embed\"))\n",
       "        .catch(showError)\n",
       "        .then(() => displayChart(vegaEmbed));\n",
       "    }\n",
       "  })({\"config\": {\"view\": {\"continuousWidth\": 400, \"continuousHeight\": 300}}, \"hconcat\": [{\"data\": {\"name\": \"data-7823e5fadde42a4705ed11f4ba80020f\"}, \"mark\": {\"type\": \"line\", \"point\": true}, \"encoding\": {\"href\": {\"type\": \"nominal\", \"field\": \"url\"}, \"tooltip\": [{\"type\": \"temporal\", \"field\": \"year\", \"timeUnit\": \"year\", \"title\": \"year\"}, {\"type\": \"quantitative\", \"field\": \"count\", \"format\": \",\"}], \"x\": {\"type\": \"temporal\", \"field\": \"year\", \"timeUnit\": \"year\"}, \"y\": {\"type\": \"quantitative\", \"field\": \"count\"}}, \"height\": 300, \"width\": 500}, {\"data\": {\"name\": \"data-1795432ad877447351fe7119d4791d89\"}, \"mark\": \"bar\", \"encoding\": {\"tooltip\": {\"type\": \"quantitative\", \"field\": \"count\", \"format\": \",\"}, \"x\": {\"type\": \"quantitative\", \"field\": \"count\"}, \"y\": {\"type\": \"ordinal\", \"field\": \"title\"}}, \"height\": 300, \"width\": 200}], \"$schema\": \"https://vega.github.io/schema/vega-lite/v4.8.1.json\", \"datasets\": {\"data-7823e5fadde42a4705ed11f4ba80020f\": [{\"year\": \"1874\", \"count\": 807, \"url\": \"https://paperspast.natlib.govt.nz/newspapers?query=possum OR opossum&start_date=01-01-1874&end_date=31-12-1874\"}, {\"year\": \"1893\", \"count\": 666, \"url\": \"https://paperspast.natlib.govt.nz/newspapers?query=possum OR opossum&start_date=01-01-1874&end_date=31-12-1874\"}, {\"year\": \"1898\", \"count\": 641, \"url\": \"https://paperspast.natlib.govt.nz/newspapers?query=possum OR opossum&start_date=01-01-1874&end_date=31-12-1874\"}, {\"year\": \"1872\", \"count\": 622, \"url\": \"https://paperspast.natlib.govt.nz/newspapers?query=possum OR opossum&start_date=01-01-1874&end_date=31-12-1874\"}, {\"year\": \"1873\", \"count\": 622, \"url\": \"https://paperspast.natlib.govt.nz/newspapers?query=possum OR opossum&start_date=01-01-1874&end_date=31-12-1874\"}, {\"year\": \"1892\", \"count\": 556, \"url\": \"https://paperspast.natlib.govt.nz/newspapers?query=possum OR opossum&start_date=01-01-1874&end_date=31-12-1874\"}, {\"year\": \"1904\", \"count\": 476, \"url\": \"https://paperspast.natlib.govt.nz/newspapers?query=possum OR opossum&start_date=01-01-1874&end_date=31-12-1874\"}, {\"year\": \"1897\", \"count\": 462, \"url\": \"https://paperspast.natlib.govt.nz/newspapers?query=possum OR opossum&start_date=01-01-1874&end_date=31-12-1874\"}, {\"year\": \"1899\", \"count\": 454, \"url\": \"https://paperspast.natlib.govt.nz/newspapers?query=possum OR opossum&start_date=01-01-1874&end_date=31-12-1874\"}, {\"year\": \"1870\", \"count\": 449, \"url\": \"https://paperspast.natlib.govt.nz/newspapers?query=possum OR opossum&start_date=01-01-1874&end_date=31-12-1874\"}, {\"year\": \"1901\", \"count\": 446, \"url\": \"https://paperspast.natlib.govt.nz/newspapers?query=possum OR opossum&start_date=01-01-1874&end_date=31-12-1874\"}, {\"year\": \"1875\", \"count\": 445, \"url\": \"https://paperspast.natlib.govt.nz/newspapers?query=possum OR opossum&start_date=01-01-1874&end_date=31-12-1874\"}, {\"year\": \"1895\", \"count\": 435, \"url\": \"https://paperspast.natlib.govt.nz/newspapers?query=possum OR opossum&start_date=01-01-1874&end_date=31-12-1874\"}, {\"year\": \"1894\", \"count\": 417, \"url\": \"https://paperspast.natlib.govt.nz/newspapers?query=possum OR opossum&start_date=01-01-1874&end_date=31-12-1874\"}, {\"year\": \"1913\", \"count\": 397, \"url\": \"https://paperspast.natlib.govt.nz/newspapers?query=possum OR opossum&start_date=01-01-1874&end_date=31-12-1874\"}, {\"year\": \"1891\", \"count\": 395, \"url\": \"https://paperspast.natlib.govt.nz/newspapers?query=possum OR opossum&start_date=01-01-1874&end_date=31-12-1874\"}, {\"year\": \"1903\", \"count\": 390, \"url\": \"https://paperspast.natlib.govt.nz/newspapers?query=possum OR opossum&start_date=01-01-1874&end_date=31-12-1874\"}, {\"year\": \"1912\", \"count\": 368, \"url\": \"https://paperspast.natlib.govt.nz/newspapers?query=possum OR opossum&start_date=01-01-1874&end_date=31-12-1874\"}, {\"year\": \"1900\", \"count\": 354, \"url\": \"https://paperspast.natlib.govt.nz/newspapers?query=possum OR opossum&start_date=01-01-1874&end_date=31-12-1874\"}, {\"year\": \"1867\", \"count\": 349, \"url\": \"https://paperspast.natlib.govt.nz/newspapers?query=possum OR opossum&start_date=01-01-1874&end_date=31-12-1874\"}, {\"year\": \"1890\", \"count\": 347, \"url\": \"https://paperspast.natlib.govt.nz/newspapers?query=possum OR opossum&start_date=01-01-1874&end_date=31-12-1874\"}, {\"year\": \"1920\", \"count\": 344, \"url\": \"https://paperspast.natlib.govt.nz/newspapers?query=possum OR opossum&start_date=01-01-1874&end_date=31-12-1874\"}, {\"year\": \"1902\", \"count\": 335, \"url\": \"https://paperspast.natlib.govt.nz/newspapers?query=possum OR opossum&start_date=01-01-1874&end_date=31-12-1874\"}, {\"year\": \"1914\", \"count\": 334, \"url\": \"https://paperspast.natlib.govt.nz/newspapers?query=possum OR opossum&start_date=01-01-1874&end_date=31-12-1874\"}, {\"year\": \"1868\", \"count\": 332, \"url\": \"https://paperspast.natlib.govt.nz/newspapers?query=possum OR opossum&start_date=01-01-1874&end_date=31-12-1874\"}, {\"year\": \"1887\", \"count\": 311, \"url\": \"https://paperspast.natlib.govt.nz/newspapers?query=possum OR opossum&start_date=01-01-1874&end_date=31-12-1874\"}, {\"year\": \"1919\", \"count\": 311, \"url\": \"https://paperspast.natlib.govt.nz/newspapers?query=possum OR opossum&start_date=01-01-1874&end_date=31-12-1874\"}, {\"year\": \"1905\", \"count\": 309, \"url\": \"https://paperspast.natlib.govt.nz/newspapers?query=possum OR opossum&start_date=01-01-1874&end_date=31-12-1874\"}, {\"year\": \"1884\", \"count\": 308, \"url\": \"https://paperspast.natlib.govt.nz/newspapers?query=possum OR opossum&start_date=01-01-1874&end_date=31-12-1874\"}, {\"year\": \"1888\", \"count\": 295, \"url\": \"https://paperspast.natlib.govt.nz/newspapers?query=possum OR opossum&start_date=01-01-1874&end_date=31-12-1874\"}, {\"year\": \"1915\", \"count\": 289, \"url\": \"https://paperspast.natlib.govt.nz/newspapers?query=possum OR opossum&start_date=01-01-1874&end_date=31-12-1874\"}, {\"year\": \"1928\", \"count\": 279, \"url\": \"https://paperspast.natlib.govt.nz/newspapers?query=possum OR opossum&start_date=01-01-1874&end_date=31-12-1874\"}, {\"year\": \"1908\", \"count\": 276, \"url\": \"https://paperspast.natlib.govt.nz/newspapers?query=possum OR opossum&start_date=01-01-1874&end_date=31-12-1874\"}, {\"year\": \"1889\", \"count\": 269, \"url\": \"https://paperspast.natlib.govt.nz/newspapers?query=possum OR opossum&start_date=01-01-1874&end_date=31-12-1874\"}, {\"year\": \"1876\", \"count\": 268, \"url\": \"https://paperspast.natlib.govt.nz/newspapers?query=possum OR opossum&start_date=01-01-1874&end_date=31-12-1874\"}, {\"year\": \"1869\", \"count\": 267, \"url\": \"https://paperspast.natlib.govt.nz/newspapers?query=possum OR opossum&start_date=01-01-1874&end_date=31-12-1874\"}, {\"year\": \"1923\", \"count\": 267, \"url\": \"https://paperspast.natlib.govt.nz/newspapers?query=possum OR opossum&start_date=01-01-1874&end_date=31-12-1874\"}, {\"year\": \"1921\", \"count\": 265, \"url\": \"https://paperspast.natlib.govt.nz/newspapers?query=possum OR opossum&start_date=01-01-1874&end_date=31-12-1874\"}, {\"year\": \"1909\", \"count\": 264, \"url\": \"https://paperspast.natlib.govt.nz/newspapers?query=possum OR opossum&start_date=01-01-1874&end_date=31-12-1874\"}, {\"year\": \"1929\", \"count\": 263, \"url\": \"https://paperspast.natlib.govt.nz/newspapers?query=possum OR opossum&start_date=01-01-1874&end_date=31-12-1874\"}, {\"year\": \"1886\", \"count\": 258, \"url\": \"https://paperspast.natlib.govt.nz/newspapers?query=possum OR opossum&start_date=01-01-1874&end_date=31-12-1874\"}, {\"year\": \"1907\", \"count\": 249, \"url\": \"https://paperspast.natlib.govt.nz/newspapers?query=possum OR opossum&start_date=01-01-1874&end_date=31-12-1874\"}, {\"year\": \"1896\", \"count\": 245, \"url\": \"https://paperspast.natlib.govt.nz/newspapers?query=possum OR opossum&start_date=01-01-1874&end_date=31-12-1874\"}, {\"year\": \"1910\", \"count\": 234, \"url\": \"https://paperspast.natlib.govt.nz/newspapers?query=possum OR opossum&start_date=01-01-1874&end_date=31-12-1874\"}, {\"year\": \"1922\", \"count\": 234, \"url\": \"https://paperspast.natlib.govt.nz/newspapers?query=possum OR opossum&start_date=01-01-1874&end_date=31-12-1874\"}, {\"year\": \"1883\", \"count\": 222, \"url\": \"https://paperspast.natlib.govt.nz/newspapers?query=possum OR opossum&start_date=01-01-1874&end_date=31-12-1874\"}, {\"year\": \"1885\", \"count\": 220, \"url\": \"https://paperspast.natlib.govt.nz/newspapers?query=possum OR opossum&start_date=01-01-1874&end_date=31-12-1874\"}, {\"year\": \"1911\", \"count\": 214, \"url\": \"https://paperspast.natlib.govt.nz/newspapers?query=possum OR opossum&start_date=01-01-1874&end_date=31-12-1874\"}, {\"year\": \"1927\", \"count\": 212, \"url\": \"https://paperspast.natlib.govt.nz/newspapers?query=possum OR opossum&start_date=01-01-1874&end_date=31-12-1874\"}, {\"year\": \"1880\", \"count\": 209, \"url\": \"https://paperspast.natlib.govt.nz/newspapers?query=possum OR opossum&start_date=01-01-1874&end_date=31-12-1874\"}, {\"year\": \"1871\", \"count\": 208, \"url\": \"https://paperspast.natlib.govt.nz/newspapers?query=possum OR opossum&start_date=01-01-1874&end_date=31-12-1874\"}, {\"year\": \"1863\", \"count\": 203, \"url\": \"https://paperspast.natlib.govt.nz/newspapers?query=possum OR opossum&start_date=01-01-1874&end_date=31-12-1874\"}, {\"year\": \"1926\", \"count\": 203, \"url\": \"https://paperspast.natlib.govt.nz/newspapers?query=possum OR opossum&start_date=01-01-1874&end_date=31-12-1874\"}, {\"year\": \"1918\", \"count\": 202, \"url\": \"https://paperspast.natlib.govt.nz/newspapers?query=possum OR opossum&start_date=01-01-1874&end_date=31-12-1874\"}, {\"year\": \"1878\", \"count\": 196, \"url\": \"https://paperspast.natlib.govt.nz/newspapers?query=possum OR opossum&start_date=01-01-1874&end_date=31-12-1874\"}, {\"year\": \"1930\", \"count\": 194, \"url\": \"https://paperspast.natlib.govt.nz/newspapers?query=possum OR opossum&start_date=01-01-1874&end_date=31-12-1874\"}, {\"year\": \"1879\", \"count\": 190, \"url\": \"https://paperspast.natlib.govt.nz/newspapers?query=possum OR opossum&start_date=01-01-1874&end_date=31-12-1874\"}, {\"year\": \"1882\", \"count\": 185, \"url\": \"https://paperspast.natlib.govt.nz/newspapers?query=possum OR opossum&start_date=01-01-1874&end_date=31-12-1874\"}, {\"year\": \"1924\", \"count\": 183, \"url\": \"https://paperspast.natlib.govt.nz/newspapers?query=possum OR opossum&start_date=01-01-1874&end_date=31-12-1874\"}, {\"year\": \"1906\", \"count\": 182, \"url\": \"https://paperspast.natlib.govt.nz/newspapers?query=possum OR opossum&start_date=01-01-1874&end_date=31-12-1874\"}, {\"year\": \"1917\", \"count\": 181, \"url\": \"https://paperspast.natlib.govt.nz/newspapers?query=possum OR opossum&start_date=01-01-1874&end_date=31-12-1874\"}, {\"year\": \"1934\", \"count\": 176, \"url\": \"https://paperspast.natlib.govt.nz/newspapers?query=possum OR opossum&start_date=01-01-1874&end_date=31-12-1874\"}, {\"year\": \"1931\", \"count\": 171, \"url\": \"https://paperspast.natlib.govt.nz/newspapers?query=possum OR opossum&start_date=01-01-1874&end_date=31-12-1874\"}, {\"year\": \"1933\", \"count\": 155, \"url\": \"https://paperspast.natlib.govt.nz/newspapers?query=possum OR opossum&start_date=01-01-1874&end_date=31-12-1874\"}, {\"year\": \"1866\", \"count\": 150, \"url\": \"https://paperspast.natlib.govt.nz/newspapers?query=possum OR opossum&start_date=01-01-1874&end_date=31-12-1874\"}, {\"year\": \"1916\", \"count\": 144, \"url\": \"https://paperspast.natlib.govt.nz/newspapers?query=possum OR opossum&start_date=01-01-1874&end_date=31-12-1874\"}, {\"year\": \"1944\", \"count\": 144, \"url\": \"https://paperspast.natlib.govt.nz/newspapers?query=possum OR opossum&start_date=01-01-1874&end_date=31-12-1874\"}, {\"year\": \"1877\", \"count\": 138, \"url\": \"https://paperspast.natlib.govt.nz/newspapers?query=possum OR opossum&start_date=01-01-1874&end_date=31-12-1874\"}, {\"year\": \"1925\", \"count\": 137, \"url\": \"https://paperspast.natlib.govt.nz/newspapers?query=possum OR opossum&start_date=01-01-1874&end_date=31-12-1874\"}, {\"year\": \"1932\", \"count\": 130, \"url\": \"https://paperspast.natlib.govt.nz/newspapers?query=possum OR opossum&start_date=01-01-1874&end_date=31-12-1874\"}, {\"year\": \"1945\", \"count\": 125, \"url\": \"https://paperspast.natlib.govt.nz/newspapers?query=possum OR opossum&start_date=01-01-1874&end_date=31-12-1874\"}, {\"year\": \"1936\", \"count\": 119, \"url\": \"https://paperspast.natlib.govt.nz/newspapers?query=possum OR opossum&start_date=01-01-1874&end_date=31-12-1874\"}, {\"year\": \"1935\", \"count\": 116, \"url\": \"https://paperspast.natlib.govt.nz/newspapers?query=possum OR opossum&start_date=01-01-1874&end_date=31-12-1874\"}, {\"year\": \"1937\", \"count\": 114, \"url\": \"https://paperspast.natlib.govt.nz/newspapers?query=possum OR opossum&start_date=01-01-1874&end_date=31-12-1874\"}, {\"year\": \"1943\", \"count\": 86, \"url\": \"https://paperspast.natlib.govt.nz/newspapers?query=possum OR opossum&start_date=01-01-1874&end_date=31-12-1874\"}, {\"year\": \"1942\", \"count\": 74, \"url\": \"https://paperspast.natlib.govt.nz/newspapers?query=possum OR opossum&start_date=01-01-1874&end_date=31-12-1874\"}, {\"year\": \"1865\", \"count\": 63, \"url\": \"https://paperspast.natlib.govt.nz/newspapers?query=possum OR opossum&start_date=01-01-1874&end_date=31-12-1874\"}, {\"year\": \"1864\", \"count\": 61, \"url\": \"https://paperspast.natlib.govt.nz/newspapers?query=possum OR opossum&start_date=01-01-1874&end_date=31-12-1874\"}, {\"year\": \"1938\", \"count\": 60, \"url\": \"https://paperspast.natlib.govt.nz/newspapers?query=possum OR opossum&start_date=01-01-1874&end_date=31-12-1874\"}, {\"year\": \"1939\", \"count\": 59, \"url\": \"https://paperspast.natlib.govt.nz/newspapers?query=possum OR opossum&start_date=01-01-1874&end_date=31-12-1874\"}, {\"year\": \"1881\", \"count\": 52, \"url\": \"https://paperspast.natlib.govt.nz/newspapers?query=possum OR opossum&start_date=01-01-1874&end_date=31-12-1874\"}, {\"year\": \"1941\", \"count\": 50, \"url\": \"https://paperspast.natlib.govt.nz/newspapers?query=possum OR opossum&start_date=01-01-1874&end_date=31-12-1874\"}, {\"year\": \"1862\", \"count\": 49, \"url\": \"https://paperspast.natlib.govt.nz/newspapers?query=possum OR opossum&start_date=01-01-1874&end_date=31-12-1874\"}, {\"year\": \"1940\", \"count\": 35, \"url\": \"https://paperspast.natlib.govt.nz/newspapers?query=possum OR opossum&start_date=01-01-1874&end_date=31-12-1874\"}, {\"year\": \"1861\", \"count\": 22, \"url\": \"https://paperspast.natlib.govt.nz/newspapers?query=possum OR opossum&start_date=01-01-1874&end_date=31-12-1874\"}, {\"year\": \"1851\", \"count\": 20, \"url\": \"https://paperspast.natlib.govt.nz/newspapers?query=possum OR opossum&start_date=01-01-1874&end_date=31-12-1874\"}, {\"year\": \"1852\", \"count\": 17, \"url\": \"https://paperspast.natlib.govt.nz/newspapers?query=possum OR opossum&start_date=01-01-1874&end_date=31-12-1874\"}, {\"year\": \"1859\", \"count\": 14, \"url\": \"https://paperspast.natlib.govt.nz/newspapers?query=possum OR opossum&start_date=01-01-1874&end_date=31-12-1874\"}, {\"year\": \"1860\", \"count\": 13, \"url\": \"https://paperspast.natlib.govt.nz/newspapers?query=possum OR opossum&start_date=01-01-1874&end_date=31-12-1874\"}, {\"year\": \"1858\", \"count\": 12, \"url\": \"https://paperspast.natlib.govt.nz/newspapers?query=possum OR opossum&start_date=01-01-1874&end_date=31-12-1874\"}, {\"year\": \"1857\", \"count\": 8, \"url\": \"https://paperspast.natlib.govt.nz/newspapers?query=possum OR opossum&start_date=01-01-1874&end_date=31-12-1874\"}, {\"year\": \"1853\", \"count\": 7, \"url\": \"https://paperspast.natlib.govt.nz/newspapers?query=possum OR opossum&start_date=01-01-1874&end_date=31-12-1874\"}, {\"year\": \"1856\", \"count\": 7, \"url\": \"https://paperspast.natlib.govt.nz/newspapers?query=possum OR opossum&start_date=01-01-1874&end_date=31-12-1874\"}, {\"year\": \"1854\", \"count\": 5, \"url\": \"https://paperspast.natlib.govt.nz/newspapers?query=possum OR opossum&start_date=01-01-1874&end_date=31-12-1874\"}, {\"year\": \"1850\", \"count\": 3, \"url\": \"https://paperspast.natlib.govt.nz/newspapers?query=possum OR opossum&start_date=01-01-1874&end_date=31-12-1874\"}, {\"year\": \"1842\", \"count\": 2, \"url\": \"https://paperspast.natlib.govt.nz/newspapers?query=possum OR opossum&start_date=01-01-1874&end_date=31-12-1874\"}, {\"year\": \"1847\", \"count\": 2, \"url\": \"https://paperspast.natlib.govt.nz/newspapers?query=possum OR opossum&start_date=01-01-1874&end_date=31-12-1874\"}, {\"year\": \"1846\", \"count\": 1, \"url\": \"https://paperspast.natlib.govt.nz/newspapers?query=possum OR opossum&start_date=01-01-1874&end_date=31-12-1874\"}], \"data-1795432ad877447351fe7119d4791d89\": [{\"title\": \"Evening Post\", \"count\": 5379}, {\"title\": \"Otago Daily Times\", \"count\": 3256}, {\"title\": \"West Coast Times\", \"count\": 1227}, {\"title\": \"Star\", \"count\": 1207}, {\"title\": \"Otago Witness\", \"count\": 859}, {\"title\": \"Colonist\", \"count\": 827}, {\"title\": \"Auckland Star\", \"count\": 701}, {\"title\": \"Nelson Evening Mail\", \"count\": 553}, {\"title\": \"Grey River Argus\", \"count\": 547}, {\"title\": \"Hawera & Normanby Star\", \"count\": 539}]}}, {\"mode\": \"vega-lite\"});\n",
       "</script>"
      ],
      "text/plain": [
       "alt.HConcatChart(...)"
      ]
     },
     "execution_count": 7,
     "metadata": {},
     "output_type": "execute_result"
    }
   ],
   "source": [
    "c1 = alt.Chart(years_df, width=600).mark_line(point=True).encode(\n",
    "    x = 'year(year):T',\n",
    "    y = 'count:Q',\n",
    "    tooltip = [alt.Tooltip('year(year):T', title='year'), alt.Tooltip('count', format=',')],\n",
    "    href='url:N'\n",
    ").properties(\n",
    "    height=300,\n",
    "    width=500\n",
    ")\n",
    "\n",
    "c2 = alt.Chart(titles_df[1:11]).mark_bar().encode(\n",
    "    x = 'count:Q',\n",
    "    y = 'title:O',\n",
    "    tooltip = alt.Tooltip('count', format=',')\n",
    ").properties(\n",
    "    height=300,\n",
    "    width=200\n",
    ")\n",
    "\n",
    "c1 | c2"
   ]
  },
  {
   "cell_type": "code",
   "execution_count": null,
   "metadata": {},
   "outputs": [],
   "source": []
  }
 ],
 "metadata": {
  "kernelspec": {
   "display_name": "Python 3",
   "language": "python",
   "name": "python3"
  },
  "language_info": {
   "codemirror_mode": {
    "name": "ipython",
    "version": 3
   },
   "file_extension": ".py",
   "mimetype": "text/x-python",
   "name": "python",
   "nbconvert_exporter": "python",
   "pygments_lexer": "ipython3",
   "version": "3.7.7"
  }
 },
 "nbformat": 4,
 "nbformat_minor": 4
}
